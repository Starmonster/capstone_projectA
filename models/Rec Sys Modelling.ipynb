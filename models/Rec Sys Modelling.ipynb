{
 "cells": [
  {
   "cell_type": "markdown",
   "metadata": {},
   "source": [
    "# Restaurant Recommendation System\n",
    "\n",
    "## Base models for MVP (minimum viable product)"
   ]
  },
  {
   "cell_type": "code",
   "execution_count": 1,
   "metadata": {},
   "outputs": [],
   "source": [
    "#Import standard libraries\n",
    "import pandas as pd\n",
    "import numpy as np\n",
    "import random\n",
    "import matplotlib.pyplot as plt\n",
    "import seaborn as sns\n",
    "import time\n",
    "%matplotlib inline"
   ]
  },
  {
   "cell_type": "code",
   "execution_count": 2,
   "metadata": {},
   "outputs": [],
   "source": [
    "#Import surprise libraries\n",
    "from surprise import Reader, Dataset\n",
    "from surprise.model_selection import cross_validate\n",
    "from surprise.prediction_algorithms import SVD, baseline_only\n",
    "from surprise.prediction_algorithms import KNNWithMeans, KNNBasic, KNNBaseline\n",
    "from surprise.model_selection import GridSearchCV\n",
    "from surprise import accuracy, dataset\n",
    "from surprise.dataset import DatasetAutoFolds"
   ]
  },
  {
   "cell_type": "code",
   "execution_count": 3,
   "metadata": {},
   "outputs": [],
   "source": [
    "pd.set_option('display.max_columns', None)"
   ]
  },
  {
   "cell_type": "code",
   "execution_count": 4,
   "metadata": {},
   "outputs": [
    {
     "name": "stdout",
     "output_type": "stream",
     "text": [
      "Rec Sys Modelling.ipynb\r\n"
     ]
    }
   ],
   "source": [
    "!ls"
   ]
  },
  {
   "cell_type": "code",
   "execution_count": 5,
   "metadata": {},
   "outputs": [],
   "source": [
    "#Let's read in our base review dataset\n",
    "df = pd.read_csv('../data/new_collaborative_limit.csv')"
   ]
  },
  {
   "cell_type": "code",
   "execution_count": 6,
   "metadata": {
    "scrolled": false
   },
   "outputs": [
    {
     "name": "stdout",
     "output_type": "stream",
     "text": [
      "(12552, 10)\n"
     ]
    },
    {
     "data": {
      "text/html": [
       "<div>\n",
       "<style scoped>\n",
       "    .dataframe tbody tr th:only-of-type {\n",
       "        vertical-align: middle;\n",
       "    }\n",
       "\n",
       "    .dataframe tbody tr th {\n",
       "        vertical-align: top;\n",
       "    }\n",
       "\n",
       "    .dataframe thead th {\n",
       "        text-align: right;\n",
       "    }\n",
       "</style>\n",
       "<table border=\"1\" class=\"dataframe\">\n",
       "  <thead>\n",
       "    <tr style=\"text-align: right;\">\n",
       "      <th></th>\n",
       "      <th>Unnamed: 0</th>\n",
       "      <th>business_ref</th>\n",
       "      <th>business_id</th>\n",
       "      <th>name</th>\n",
       "      <th>city</th>\n",
       "      <th>categories</th>\n",
       "      <th>review_id</th>\n",
       "      <th>user_id</th>\n",
       "      <th>stars</th>\n",
       "      <th>user_ref</th>\n",
       "    </tr>\n",
       "  </thead>\n",
       "  <tbody>\n",
       "    <tr>\n",
       "      <th>0</th>\n",
       "      <td>1900</td>\n",
       "      <td>68</td>\n",
       "      <td>F31RycVVooeIOp9jsXmg6g</td>\n",
       "      <td>\"The Bluebird Cafe\"</td>\n",
       "      <td>Edinburgh</td>\n",
       "      <td>Breakfast &amp; Brunch;Diners;Restaurants;Cafes;Br...</td>\n",
       "      <td>b31UZTy2TvnFtkfygJG40Q</td>\n",
       "      <td>bcxcQhp0sKYd9eUnEVUzPA</td>\n",
       "      <td>5</td>\n",
       "      <td>246</td>\n",
       "    </tr>\n",
       "    <tr>\n",
       "      <th>1</th>\n",
       "      <td>1901</td>\n",
       "      <td>68</td>\n",
       "      <td>F31RycVVooeIOp9jsXmg6g</td>\n",
       "      <td>\"The Bluebird Cafe\"</td>\n",
       "      <td>Edinburgh</td>\n",
       "      <td>Breakfast &amp; Brunch;Diners;Restaurants;Cafes;Br...</td>\n",
       "      <td>jYxWLyWrWy8dJFQs9DEuEg</td>\n",
       "      <td>RFxjYeLW_aYLdVW3PBwFNg</td>\n",
       "      <td>4</td>\n",
       "      <td>146572</td>\n",
       "    </tr>\n",
       "    <tr>\n",
       "      <th>2</th>\n",
       "      <td>1903</td>\n",
       "      <td>68</td>\n",
       "      <td>F31RycVVooeIOp9jsXmg6g</td>\n",
       "      <td>\"The Bluebird Cafe\"</td>\n",
       "      <td>Edinburgh</td>\n",
       "      <td>Breakfast &amp; Brunch;Diners;Restaurants;Cafes;Br...</td>\n",
       "      <td>GGWxoYbx_h2x7a46m0MYRA</td>\n",
       "      <td>BhYROfCjIJsKUk22_IVHig</td>\n",
       "      <td>3</td>\n",
       "      <td>211139</td>\n",
       "    </tr>\n",
       "    <tr>\n",
       "      <th>3</th>\n",
       "      <td>1904</td>\n",
       "      <td>68</td>\n",
       "      <td>F31RycVVooeIOp9jsXmg6g</td>\n",
       "      <td>\"The Bluebird Cafe\"</td>\n",
       "      <td>Edinburgh</td>\n",
       "      <td>Breakfast &amp; Brunch;Diners;Restaurants;Cafes;Br...</td>\n",
       "      <td>PslbThtGZ_yOWZxAFc3GVg</td>\n",
       "      <td>J_qpI2jCkwv7vPNz_9JeqA</td>\n",
       "      <td>4</td>\n",
       "      <td>260271</td>\n",
       "    </tr>\n",
       "    <tr>\n",
       "      <th>4</th>\n",
       "      <td>1907</td>\n",
       "      <td>68</td>\n",
       "      <td>F31RycVVooeIOp9jsXmg6g</td>\n",
       "      <td>\"The Bluebird Cafe\"</td>\n",
       "      <td>Edinburgh</td>\n",
       "      <td>Breakfast &amp; Brunch;Diners;Restaurants;Cafes;Br...</td>\n",
       "      <td>oRYhx_qYK5slteB5nyEAiQ</td>\n",
       "      <td>NMelfYHO9mncdmZLIABLgQ</td>\n",
       "      <td>5</td>\n",
       "      <td>491834</td>\n",
       "    </tr>\n",
       "  </tbody>\n",
       "</table>\n",
       "</div>"
      ],
      "text/plain": [
       "   Unnamed: 0  business_ref             business_id                 name  \\\n",
       "0        1900            68  F31RycVVooeIOp9jsXmg6g  \"The Bluebird Cafe\"   \n",
       "1        1901            68  F31RycVVooeIOp9jsXmg6g  \"The Bluebird Cafe\"   \n",
       "2        1903            68  F31RycVVooeIOp9jsXmg6g  \"The Bluebird Cafe\"   \n",
       "3        1904            68  F31RycVVooeIOp9jsXmg6g  \"The Bluebird Cafe\"   \n",
       "4        1907            68  F31RycVVooeIOp9jsXmg6g  \"The Bluebird Cafe\"   \n",
       "\n",
       "        city                                         categories  \\\n",
       "0  Edinburgh  Breakfast & Brunch;Diners;Restaurants;Cafes;Br...   \n",
       "1  Edinburgh  Breakfast & Brunch;Diners;Restaurants;Cafes;Br...   \n",
       "2  Edinburgh  Breakfast & Brunch;Diners;Restaurants;Cafes;Br...   \n",
       "3  Edinburgh  Breakfast & Brunch;Diners;Restaurants;Cafes;Br...   \n",
       "4  Edinburgh  Breakfast & Brunch;Diners;Restaurants;Cafes;Br...   \n",
       "\n",
       "                review_id                 user_id  stars  user_ref  \n",
       "0  b31UZTy2TvnFtkfygJG40Q  bcxcQhp0sKYd9eUnEVUzPA      5       246  \n",
       "1  jYxWLyWrWy8dJFQs9DEuEg  RFxjYeLW_aYLdVW3PBwFNg      4    146572  \n",
       "2  GGWxoYbx_h2x7a46m0MYRA  BhYROfCjIJsKUk22_IVHig      3    211139  \n",
       "3  PslbThtGZ_yOWZxAFc3GVg  J_qpI2jCkwv7vPNz_9JeqA      4    260271  \n",
       "4  oRYhx_qYK5slteB5nyEAiQ  NMelfYHO9mncdmZLIABLgQ      5    491834  "
      ]
     },
     "execution_count": 6,
     "metadata": {},
     "output_type": "execute_result"
    }
   ],
   "source": [
    "print(df.shape)\n",
    "df.head()"
   ]
  },
  {
   "cell_type": "code",
   "execution_count": 7,
   "metadata": {},
   "outputs": [
    {
     "data": {
      "text/plain": [
       "Index(['Unnamed: 0', 'business_ref', 'business_id', 'name', 'city',\n",
       "       'categories', 'review_id', 'user_id', 'stars', 'user_ref'],\n",
       "      dtype='object')"
      ]
     },
     "execution_count": 7,
     "metadata": {},
     "output_type": "execute_result"
    }
   ],
   "source": [
    "df.columns"
   ]
  },
  {
   "cell_type": "code",
   "execution_count": 8,
   "metadata": {},
   "outputs": [
    {
     "data": {
      "text/html": [
       "<div>\n",
       "<style scoped>\n",
       "    .dataframe tbody tr th:only-of-type {\n",
       "        vertical-align: middle;\n",
       "    }\n",
       "\n",
       "    .dataframe tbody tr th {\n",
       "        vertical-align: top;\n",
       "    }\n",
       "\n",
       "    .dataframe thead th {\n",
       "        text-align: right;\n",
       "    }\n",
       "</style>\n",
       "<table border=\"1\" class=\"dataframe\">\n",
       "  <thead>\n",
       "    <tr style=\"text-align: right;\">\n",
       "      <th></th>\n",
       "      <th>user_ref</th>\n",
       "      <th>business_ref</th>\n",
       "      <th>stars</th>\n",
       "    </tr>\n",
       "  </thead>\n",
       "  <tbody>\n",
       "    <tr>\n",
       "      <th>0</th>\n",
       "      <td>246</td>\n",
       "      <td>68</td>\n",
       "      <td>5</td>\n",
       "    </tr>\n",
       "    <tr>\n",
       "      <th>1</th>\n",
       "      <td>146572</td>\n",
       "      <td>68</td>\n",
       "      <td>4</td>\n",
       "    </tr>\n",
       "    <tr>\n",
       "      <th>2</th>\n",
       "      <td>211139</td>\n",
       "      <td>68</td>\n",
       "      <td>3</td>\n",
       "    </tr>\n",
       "    <tr>\n",
       "      <th>3</th>\n",
       "      <td>260271</td>\n",
       "      <td>68</td>\n",
       "      <td>4</td>\n",
       "    </tr>\n",
       "    <tr>\n",
       "      <th>4</th>\n",
       "      <td>491834</td>\n",
       "      <td>68</td>\n",
       "      <td>5</td>\n",
       "    </tr>\n",
       "  </tbody>\n",
       "</table>\n",
       "</div>"
      ],
      "text/plain": [
       "   user_ref  business_ref  stars\n",
       "0       246            68      5\n",
       "1    146572            68      4\n",
       "2    211139            68      3\n",
       "3    260271            68      4\n",
       "4    491834            68      5"
      ]
     },
     "execution_count": 8,
     "metadata": {},
     "output_type": "execute_result"
    }
   ],
   "source": [
    "#drop out the columns we habve no use for. \n",
    "# ratings = df.drop(columns = ['Unnamed: 0', 'name', 'city', 'categories', 'review_id', ])\n",
    "ratings = df[['user_ref', 'business_ref', 'stars']]\n",
    "ratings.head()"
   ]
  },
  {
   "cell_type": "code",
   "execution_count": 9,
   "metadata": {},
   "outputs": [],
   "source": [
    "class DataSet(dataset.DatasetAutoFolds):\n",
    "    #Creates data set that can be accessed by Surprise including folds for cross validation\n",
    "    \n",
    "    def __init__(self, df, reader):\n",
    "        \n",
    "        \n",
    "        self.raw_ratings = [(uid, iid, r, None) for (uid, iid, r) in zip(df['user_ref'], \n",
    "                                                                         df['business_ref'], df['stars'])]\n",
    "        self.reader=reader"
   ]
  },
  {
   "cell_type": "code",
   "execution_count": 10,
   "metadata": {},
   "outputs": [],
   "source": [
    "#instantiate an instance of Reader to enable surprise libraries to usethe data\n",
    "reader = Reader(rating_scale=(0.0, 5.0))"
   ]
  },
  {
   "cell_type": "code",
   "execution_count": 11,
   "metadata": {},
   "outputs": [],
   "source": [
    "#Load in our data to a surprise Dataset\n",
    "data = DataSet(ratings, reader)"
   ]
  },
  {
   "cell_type": "markdown",
   "metadata": {},
   "source": [
    "### Split data into Train Validation and Split sets"
   ]
  },
  {
   "cell_type": "code",
   "execution_count": 12,
   "metadata": {},
   "outputs": [],
   "source": [
    "#Extrace raw ratings from the dataset\n",
    "raw_ratings = data.raw_ratings"
   ]
  },
  {
   "cell_type": "code",
   "execution_count": 13,
   "metadata": {},
   "outputs": [],
   "source": [
    "#perform data shuffle\n",
    "random.shuffle(raw_ratings) "
   ]
  },
  {
   "cell_type": "code",
   "execution_count": 14,
   "metadata": {},
   "outputs": [],
   "source": [
    "#We'll use a 80/20 train test ratio and 80/20 train validate ration. Train:Validate:Test - 64:16:20\n",
    "test_threshold = int(.8 * len(raw_ratings))\n",
    "\n",
    "train_raw_ratings = raw_ratings[:test_threshold] #create the train set\n",
    "test_raw_ratings = raw_ratings[test_threshold:] #creat the test set"
   ]
  },
  {
   "cell_type": "code",
   "execution_count": 15,
   "metadata": {},
   "outputs": [],
   "source": [
    "val_threshold = int(.8 * len(train_raw_ratings))\n",
    "\n",
    "val_raw_ratings = train_raw_ratings[val_threshold:] #create the validation set\n",
    "train_raw_ratings = train_raw_ratings[:val_threshold] #re_assign the training set\n",
    "                            "
   ]
  },
  {
   "cell_type": "code",
   "execution_count": 16,
   "metadata": {},
   "outputs": [],
   "source": [
    "#Now we make the training set the data\n",
    "data.raw_ratings = train_raw_ratings"
   ]
  },
  {
   "cell_type": "code",
   "execution_count": null,
   "metadata": {},
   "outputs": [],
   "source": []
  },
  {
   "cell_type": "markdown",
   "metadata": {},
   "source": [
    "## Memory based collaborative filtering\n",
    "### We start with KNN Basic"
   ]
  },
  {
   "cell_type": "code",
   "execution_count": 17,
   "metadata": {},
   "outputs": [],
   "source": [
    "#We'll bring in some basic text stylin to help with output clarity. \n",
    "# start = \"\\033[1m\"\n",
    "# end = \"\\033[0;0m\""
   ]
  },
  {
   "cell_type": "code",
   "execution_count": 18,
   "metadata": {},
   "outputs": [],
   "source": [
    "def Knn_Basic(data, user, item):\n",
    "    '''\n",
    "    Function to run different similarity metrics across KNNBasic method. \n",
    "    \n",
    "    '''\n",
    "    frame = []\n",
    "    similarity_met = ['cosine', 'msd', 'pearson']\n",
    "    user_item= [True, False]\n",
    "    for i in similarity_met:\n",
    "            #user-user similarities\n",
    "            print(\"Evaluation of {} similarity for KNNBasic {} comparison: \". format(i, user))\n",
    "            results = cross_validate(KNNBasic(sim_options={'name': i, 'user_based': True}), \n",
    "                           data=data, cv=5, return_train_measures=True, n_jobs=-1, verbose = True)\n",
    "            print('\\n\\n')\n",
    "            \n",
    "            \n",
    "            \n",
    "            #item-item similarities\n",
    "            print(\"Evaluation of {} similarity for KNNBasic {} comparison: \". format(i, item))\n",
    "            results = cross_validate(KNNBasic(sim_options={'name': i, 'user_based': False}), \n",
    "                           data=data, cv=5, return_train_measures=True, n_jobs=-1, verbose = True)\n",
    "            print('\\n\\n')\n",
    "            \n",
    "            \n",
    "    return None\n"
   ]
  },
  {
   "cell_type": "code",
   "execution_count": 19,
   "metadata": {
    "scrolled": true
   },
   "outputs": [
    {
     "name": "stdout",
     "output_type": "stream",
     "text": [
      "Evaluation of cosine similarity for KNNBasic user-user comparison: \n",
      "Evaluating RMSE, MAE of algorithm KNNBasic on 5 split(s).\n",
      "\n",
      "                  Fold 1  Fold 2  Fold 3  Fold 4  Fold 5  Mean    Std     \n",
      "RMSE (testset)    0.9668  0.9758  0.9864  0.9767  0.9933  0.9798  0.0092  \n",
      "MAE (testset)     0.7378  0.7486  0.7554  0.7499  0.7531  0.7490  0.0061  \n",
      "RMSE (trainset)   0.7532  0.7578  0.7451  0.7534  0.7481  0.7515  0.0045  \n",
      "MAE (trainset)    0.5620  0.5666  0.5577  0.5647  0.5583  0.5618  0.0035  \n",
      "Fit time          0.02    0.02    0.02    0.02    0.02    0.02    0.00    \n",
      "Test time         0.03    0.03    0.03    0.03    0.03    0.03    0.00    \n",
      "\n",
      "\n",
      "\n",
      "Evaluation of cosine similarity for KNNBasic item-item comparison: \n",
      "Evaluating RMSE, MAE of algorithm KNNBasic on 5 split(s).\n",
      "\n",
      "                  Fold 1  Fold 2  Fold 3  Fold 4  Fold 5  Mean    Std     \n",
      "RMSE (testset)    1.0118  1.0017  1.0122  0.9969  1.0250  1.0095  0.0097  \n",
      "MAE (testset)     0.7670  0.7629  0.7784  0.7705  0.7918  0.7741  0.0102  \n",
      "RMSE (trainset)   0.8909  0.8887  0.8871  0.8825  0.8834  0.8865  0.0032  \n",
      "MAE (trainset)    0.6879  0.6958  0.6910  0.6898  0.6855  0.6900  0.0035  \n",
      "Fit time          0.18    0.20    0.20    0.23    0.23    0.21    0.02    \n",
      "Test time         0.07    0.10    0.10    0.11    0.10    0.09    0.01    \n",
      "\n",
      "\n",
      "\n",
      "Evaluation of msd similarity for KNNBasic user-user comparison: \n",
      "Evaluating RMSE, MAE of algorithm KNNBasic on 5 split(s).\n",
      "\n",
      "                  Fold 1  Fold 2  Fold 3  Fold 4  Fold 5  Mean    Std     \n",
      "RMSE (testset)    0.9963  0.9818  0.9928  0.9946  0.9846  0.9901  0.0057  \n",
      "MAE (testset)     0.7651  0.7479  0.7520  0.7500  0.7481  0.7526  0.0064  \n",
      "RMSE (trainset)   0.4982  0.4976  0.4971  0.4981  0.4976  0.4977  0.0004  \n",
      "MAE (trainset)    0.3712  0.3709  0.3730  0.3715  0.3713  0.3716  0.0007  \n",
      "Fit time          0.00    0.00    0.00    0.00    0.00    0.00    0.00    \n",
      "Test time         0.02    0.03    0.02    0.02    0.02    0.03    0.00    \n",
      "\n",
      "\n",
      "\n",
      "Evaluation of msd similarity for KNNBasic item-item comparison: \n",
      "Evaluating RMSE, MAE of algorithm KNNBasic on 5 split(s).\n",
      "\n",
      "                  Fold 1  Fold 2  Fold 3  Fold 4  Fold 5  Mean    Std     \n",
      "RMSE (testset)    1.0019  1.0054  1.0153  1.0025  0.9779  1.0006  0.0123  \n",
      "MAE (testset)     0.7681  0.7755  0.7695  0.7479  0.7552  0.7633  0.0101  \n",
      "RMSE (trainset)   0.4889  0.4922  0.4938  0.4920  0.4955  0.4925  0.0022  \n",
      "MAE (trainset)    0.3527  0.3541  0.3550  0.3550  0.3558  0.3545  0.0011  \n",
      "Fit time          0.06    0.06    0.06    0.07    0.07    0.06    0.01    \n",
      "Test time         0.07    0.07    0.09    0.10    0.10    0.09    0.01    \n",
      "\n",
      "\n",
      "\n",
      "Evaluation of pearson similarity for KNNBasic user-user comparison: \n",
      "Evaluating RMSE, MAE of algorithm KNNBasic on 5 split(s).\n",
      "\n",
      "                  Fold 1  Fold 2  Fold 3  Fold 4  Fold 5  Mean    Std     \n",
      "RMSE (testset)    0.9998  1.0055  1.0180  1.0314  1.0556  1.0220  0.0200  \n",
      "MAE (testset)     0.7628  0.7691  0.7817  0.7818  0.8010  0.7793  0.0131  \n",
      "RMSE (trainset)   0.4187  0.4219  0.4150  0.4119  0.4100  0.4155  0.0043  \n",
      "MAE (trainset)    0.2645  0.2671  0.2610  0.2613  0.2601  0.2628  0.0026  \n",
      "Fit time          0.03    0.02    0.03    0.02    0.03    0.03    0.00    \n",
      "Test time         0.02    0.02    0.02    0.02    0.02    0.02    0.00    \n",
      "\n",
      "\n",
      "\n",
      "Evaluation of pearson similarity for KNNBasic item-item comparison: \n",
      "Evaluating RMSE, MAE of algorithm KNNBasic on 5 split(s).\n",
      "\n",
      "                  Fold 1  Fold 2  Fold 3  Fold 4  Fold 5  Mean    Std     \n",
      "RMSE (testset)    1.0212  1.0407  1.0235  1.0698  1.0478  1.0406  0.0177  \n",
      "MAE (testset)     0.8043  0.8017  0.7820  0.8307  0.8018  0.8041  0.0156  \n",
      "RMSE (trainset)   0.4749  0.4852  0.4752  0.4559  0.4722  0.4727  0.0095  \n",
      "MAE (trainset)    0.2979  0.3037  0.2972  0.2805  0.2973  0.2953  0.0078  \n",
      "Fit time          0.23    0.25    0.34    0.32    0.28    0.28    0.04    \n",
      "Test time         0.07    0.09    0.10    0.08    0.06    0.08    0.01    \n",
      "\n",
      "\n",
      "\n"
     ]
    }
   ],
   "source": [
    "Knn_Basic(data, 'user-user', 'item-item')"
   ]
  },
  {
   "cell_type": "markdown",
   "metadata": {},
   "source": [
    "### KNNBaseline"
   ]
  },
  {
   "cell_type": "code",
   "execution_count": 20,
   "metadata": {},
   "outputs": [],
   "source": [
    "def Knn_Baseline(data, user, item):\n",
    "    '''\n",
    "    Function to run different similarity metrics across KNNBaseline method. \n",
    "    \n",
    "    '''\n",
    "    similarity_met = ['cosine', 'msd', 'pearson']\n",
    "    user_item= [True, False]\n",
    "    for i in similarity_met:\n",
    "            #user-user similarities\n",
    "            print(\"Evaluation of {} similarity for KNNBaseline {} comparison: \". format(i, user))\n",
    "            cross_validate(KNNBaseline(sim_options={'name': i, 'user_based': True}), \n",
    "                           data=data, cv=5, return_train_measures=True, n_jobs=-1, verbose = True)\n",
    "            print('\\n\\n')\n",
    "            \n",
    "            #item-item similarities\n",
    "            print(\"Evaluation of {} similarity for KNNBaseline {} comparison: \". format(i, item))\n",
    "            cross_validate(KNNBaseline(sim_options={'name': i, 'user_based': False}), \n",
    "                           data=data, cv=5, return_train_measures=True, n_jobs=-1, verbose = True)\n",
    "            print('\\n\\n')\n",
    "    return None"
   ]
  },
  {
   "cell_type": "code",
   "execution_count": 21,
   "metadata": {
    "scrolled": true
   },
   "outputs": [
    {
     "name": "stdout",
     "output_type": "stream",
     "text": [
      "Evaluation of cosine similarity for KNNBaseline user-user comparison: \n",
      "Evaluating RMSE, MAE of algorithm KNNBaseline on 5 split(s).\n",
      "\n",
      "                  Fold 1  Fold 2  Fold 3  Fold 4  Fold 5  Mean    Std     \n",
      "RMSE (testset)    0.9571  0.9574  0.9379  0.9334  0.9610  0.9494  0.0114  \n",
      "MAE (testset)     0.7334  0.7458  0.7217  0.7172  0.7437  0.7324  0.0114  \n",
      "RMSE (trainset)   0.7084  0.7091  0.7147  0.7130  0.7128  0.7116  0.0024  \n",
      "MAE (trainset)    0.5331  0.5315  0.5398  0.5350  0.5380  0.5355  0.0031  \n",
      "Fit time          0.03    0.03    0.04    0.03    0.03    0.03    0.00    \n",
      "Test time         0.03    0.03    0.03    0.03    0.03    0.03    0.00    \n",
      "\n",
      "\n",
      "\n",
      "Evaluation of cosine similarity for KNNBaseline item-item comparison: \n",
      "Evaluating RMSE, MAE of algorithm KNNBaseline on 5 split(s).\n",
      "\n",
      "                  Fold 1  Fold 2  Fold 3  Fold 4  Fold 5  Mean    Std     \n",
      "RMSE (testset)    0.9581  0.9223  0.9462  0.9859  0.9349  0.9495  0.0217  \n",
      "MAE (testset)     0.7424  0.7049  0.7307  0.7553  0.7242  0.7315  0.0170  \n",
      "RMSE (trainset)   0.7911  0.7998  0.7864  0.7804  0.7900  0.7895  0.0063  \n",
      "MAE (trainset)    0.6130  0.6196  0.6089  0.6051  0.6113  0.6116  0.0048  \n",
      "Fit time          0.18    0.18    0.20    0.24    0.23    0.21    0.02    \n",
      "Test time         0.09    0.11    0.12    0.13    0.11    0.11    0.01    \n",
      "\n",
      "\n",
      "\n",
      "Evaluation of msd similarity for KNNBaseline user-user comparison: \n",
      "Evaluating RMSE, MAE of algorithm KNNBaseline on 5 split(s).\n",
      "\n",
      "                  Fold 1  Fold 2  Fold 3  Fold 4  Fold 5  Mean    Std     \n",
      "RMSE (testset)    0.9675  0.9532  0.9700  0.9125  0.9387  0.9484  0.0212  \n",
      "MAE (testset)     0.7466  0.7294  0.7452  0.7082  0.7231  0.7305  0.0143  \n",
      "RMSE (trainset)   0.4788  0.4792  0.4772  0.4829  0.4836  0.4803  0.0025  \n",
      "MAE (trainset)    0.3617  0.3624  0.3599  0.3644  0.3656  0.3628  0.0020  \n",
      "Fit time          0.01    0.01    0.01    0.01    0.01    0.01    0.00    \n",
      "Test time         0.03    0.03    0.04    0.03    0.03    0.03    0.00    \n",
      "\n",
      "\n",
      "\n",
      "Evaluation of msd similarity for KNNBaseline item-item comparison: \n",
      "Evaluating RMSE, MAE of algorithm KNNBaseline on 5 split(s).\n",
      "\n",
      "                  Fold 1  Fold 2  Fold 3  Fold 4  Fold 5  Mean    Std     \n",
      "RMSE (testset)    0.9858  0.9706  0.9092  0.9987  0.9231  0.9575  0.0352  \n",
      "MAE (testset)     0.7548  0.7515  0.7029  0.7678  0.6942  0.7342  0.0298  \n",
      "RMSE (trainset)   0.4545  0.4614  0.4633  0.4589  0.4608  0.4598  0.0030  \n",
      "MAE (trainset)    0.3416  0.3450  0.3444  0.3406  0.3446  0.3432  0.0018  \n",
      "Fit time          0.06    0.06    0.07    0.08    0.07    0.07    0.01    \n",
      "Test time         0.09    0.09    0.10    0.12    0.15    0.11    0.02    \n",
      "\n",
      "\n",
      "\n",
      "Evaluation of pearson similarity for KNNBaseline user-user comparison: \n",
      "Evaluating RMSE, MAE of algorithm KNNBaseline on 5 split(s).\n",
      "\n",
      "                  Fold 1  Fold 2  Fold 3  Fold 4  Fold 5  Mean    Std     \n",
      "RMSE (testset)    0.9631  0.9953  0.9871  0.9586  0.9461  0.9700  0.0183  \n",
      "MAE (testset)     0.7396  0.7752  0.7613  0.7458  0.7305  0.7505  0.0159  \n",
      "RMSE (trainset)   0.3744  0.3790  0.3861  0.3853  0.3952  0.3840  0.0070  \n",
      "MAE (trainset)    0.2387  0.2445  0.2487  0.2530  0.2560  0.2482  0.0061  \n",
      "Fit time          0.03    0.03    0.03    0.03    0.03    0.03    0.00    \n",
      "Test time         0.02    0.03    0.03    0.03    0.03    0.03    0.00    \n",
      "\n",
      "\n",
      "\n",
      "Evaluation of pearson similarity for KNNBaseline item-item comparison: \n",
      "Evaluating RMSE, MAE of algorithm KNNBaseline on 5 split(s).\n",
      "\n",
      "                  Fold 1  Fold 2  Fold 3  Fold 4  Fold 5  Mean    Std     \n",
      "RMSE (testset)    0.9620  0.9848  0.9448  0.9514  0.9766  0.9639  0.0150  \n",
      "MAE (testset)     0.7375  0.7696  0.7230  0.7301  0.7458  0.7412  0.0161  \n",
      "RMSE (trainset)   0.3871  0.3848  0.3830  0.3855  0.3883  0.3857  0.0018  \n",
      "MAE (trainset)    0.2440  0.2431  0.2385  0.2430  0.2448  0.2427  0.0022  \n",
      "Fit time          0.23    0.26    0.30    0.33    0.30    0.29    0.04    \n",
      "Test time         0.08    0.09    0.09    0.08    0.07    0.08    0.01    \n",
      "\n",
      "\n",
      "\n"
     ]
    }
   ],
   "source": [
    "Knn_Baseline(data, 'user-user', 'item-item')"
   ]
  },
  {
   "cell_type": "markdown",
   "metadata": {},
   "source": [
    "### KNNWithMeans"
   ]
  },
  {
   "cell_type": "code",
   "execution_count": 22,
   "metadata": {},
   "outputs": [],
   "source": [
    "def Knn_With_Means(data, user, item):\n",
    "    '''\n",
    "    Function to run different similarity metrics across KNNBaseline method. \n",
    "    \n",
    "    '''\n",
    "    similarity_met = ['cosine', 'msd', 'pearson']\n",
    "    user_item= [True, False]\n",
    "    for i in similarity_met:\n",
    "            #user-user similarities\n",
    "            print(\"Evaluation of {} similarity for KNNBWithMeans {} comparison: \". format(i, user))\n",
    "            cross_validate(KNNWithMeans(sim_options={'name': i, 'user_based': True}), \n",
    "                           data=data, cv=5, return_train_measures=True, n_jobs=-1, verbose = True)\n",
    "            print('\\n\\n')\n",
    "            \n",
    "            #item-item similarities\n",
    "            print(\"Evaluation of {} similarity for KNNWithMeans {} comparison: \". format(i, item))\n",
    "            cross_validate(KNNWithMeans(sim_options={'name': i, 'user_based': False}), \n",
    "                           data=data, cv=5, return_train_measures=True, n_jobs=-1, verbose = True)\n",
    "            print('\\n\\n')\n",
    "    return None"
   ]
  },
  {
   "cell_type": "code",
   "execution_count": 23,
   "metadata": {
    "scrolled": true
   },
   "outputs": [
    {
     "name": "stdout",
     "output_type": "stream",
     "text": [
      "Evaluation of cosine similarity for KNNBWithMeans user-user comparison: \n",
      "Evaluating RMSE, MAE of algorithm KNNWithMeans on 5 split(s).\n",
      "\n",
      "                  Fold 1  Fold 2  Fold 3  Fold 4  Fold 5  Mean    Std     \n",
      "RMSE (testset)    0.9843  0.9867  0.9396  0.9618  0.9722  0.9689  0.0171  \n",
      "MAE (testset)     0.7559  0.7544  0.7171  0.7456  0.7497  0.7445  0.0142  \n",
      "RMSE (trainset)   0.7060  0.7024  0.7093  0.7081  0.7073  0.7066  0.0024  \n",
      "MAE (trainset)    0.5302  0.5282  0.5334  0.5316  0.5304  0.5308  0.0017  \n",
      "Fit time          0.02    0.02    0.02    0.02    0.02    0.02    0.00    \n",
      "Test time         0.03    0.03    0.03    0.03    0.03    0.03    0.00    \n",
      "\n",
      "\n",
      "\n",
      "Evaluation of cosine similarity for KNNWithMeans item-item comparison: \n",
      "Evaluating RMSE, MAE of algorithm KNNWithMeans on 5 split(s).\n",
      "\n",
      "                  Fold 1  Fold 2  Fold 3  Fold 4  Fold 5  Mean    Std     \n",
      "RMSE (testset)    0.9895  1.0051  0.9920  0.9627  1.0009  0.9900  0.0148  \n",
      "MAE (testset)     0.7485  0.7622  0.7560  0.7422  0.7785  0.7575  0.0125  \n",
      "RMSE (trainset)   0.7052  0.6936  0.6988  0.7031  0.6944  0.6990  0.0046  \n",
      "MAE (trainset)    0.5375  0.5294  0.5320  0.5322  0.5270  0.5316  0.0035  \n",
      "Fit time          0.18    0.19    0.23    0.25    0.23    0.21    0.03    \n",
      "Test time         0.08    0.10    0.11    0.10    0.12    0.10    0.01    \n",
      "\n",
      "\n",
      "\n",
      "Evaluation of msd similarity for KNNBWithMeans user-user comparison: \n",
      "Evaluating RMSE, MAE of algorithm KNNWithMeans on 5 split(s).\n",
      "\n",
      "                  Fold 1  Fold 2  Fold 3  Fold 4  Fold 5  Mean    Std     \n",
      "RMSE (testset)    0.9525  0.9482  0.9723  0.9807  0.9830  0.9674  0.0144  \n",
      "MAE (testset)     0.7379  0.7306  0.7554  0.7493  0.7451  0.7436  0.0087  \n",
      "RMSE (trainset)   0.5026  0.5012  0.5008  0.5024  0.4995  0.5013  0.0011  \n",
      "MAE (trainset)    0.3781  0.3783  0.3766  0.3799  0.3767  0.3779  0.0012  \n",
      "Fit time          0.01    0.01    0.01    0.01    0.01    0.01    0.00    \n",
      "Test time         0.03    0.03    0.03    0.03    0.03    0.03    0.00    \n",
      "\n",
      "\n",
      "\n",
      "Evaluation of msd similarity for KNNWithMeans item-item comparison: \n",
      "Evaluating RMSE, MAE of algorithm KNNWithMeans on 5 split(s).\n",
      "\n",
      "                  Fold 1  Fold 2  Fold 3  Fold 4  Fold 5  Mean    Std     \n",
      "RMSE (testset)    0.9865  0.9759  0.9561  1.0067  1.0056  0.9861  0.0190  \n",
      "MAE (testset)     0.7427  0.7443  0.7321  0.7631  0.7645  0.7493  0.0125  \n",
      "RMSE (trainset)   0.5213  0.5171  0.5206  0.5139  0.5143  0.5174  0.0031  \n",
      "MAE (trainset)    0.3965  0.3952  0.3944  0.3901  0.3885  0.3929  0.0031  \n",
      "Fit time          0.07    0.07    0.07    0.09    0.09    0.08    0.01    \n",
      "Test time         0.08    0.08    0.10    0.10    0.11    0.09    0.01    \n",
      "\n",
      "\n",
      "\n",
      "Evaluation of pearson similarity for KNNBWithMeans user-user comparison: \n",
      "Evaluating RMSE, MAE of algorithm KNNWithMeans on 5 split(s).\n",
      "\n",
      "                  Fold 1  Fold 2  Fold 3  Fold 4  Fold 5  Mean    Std     \n",
      "RMSE (testset)    1.0031  0.9698  0.9634  1.0193  0.9949  0.9901  0.0208  \n",
      "MAE (testset)     0.7765  0.7531  0.7435  0.7757  0.7593  0.7616  0.0128  \n",
      "RMSE (trainset)   0.3853  0.3862  0.3850  0.3803  0.3782  0.3830  0.0032  \n",
      "MAE (trainset)    0.2468  0.2467  0.2483  0.2439  0.2441  0.2460  0.0017  \n",
      "Fit time          0.03    0.03    0.03    0.03    0.03    0.03    0.00    \n",
      "Test time         0.02    0.02    0.02    0.03    0.02    0.02    0.00    \n",
      "\n",
      "\n",
      "\n",
      "Evaluation of pearson similarity for KNNWithMeans item-item comparison: \n",
      "Evaluating RMSE, MAE of algorithm KNNWithMeans on 5 split(s).\n",
      "\n",
      "                  Fold 1  Fold 2  Fold 3  Fold 4  Fold 5  Mean    Std     \n",
      "RMSE (testset)    1.0520  1.0427  0.9868  0.9698  1.0382  1.0179  0.0331  \n",
      "MAE (testset)     0.7953  0.7916  0.7487  0.7382  0.7856  0.7719  0.0236  \n",
      "RMSE (trainset)   0.3419  0.3471  0.3481  0.3578  0.3416  0.3473  0.0059  \n",
      "MAE (trainset)    0.2098  0.2151  0.2158  0.2205  0.2043  0.2131  0.0055  \n",
      "Fit time          0.28    0.28    0.31    0.30    0.31    0.30    0.01    \n",
      "Test time         0.07    0.08    0.08    0.09    0.07    0.08    0.01    \n",
      "\n",
      "\n",
      "\n"
     ]
    }
   ],
   "source": [
    "Knn_With_Means(data, 'user-user', 'item-item')"
   ]
  },
  {
   "cell_type": "markdown",
   "metadata": {},
   "source": [
    "From the initial memory based model runs we can see that there is a preponderence of overfit training RMSE results and also less than spectacular test RMSE results. \n",
    "\n",
    "The best mean test RMSE is 0.9514 for KNN Baseline with cosine similarity. "
   ]
  },
  {
   "cell_type": "markdown",
   "metadata": {},
   "source": [
    "## Model Based Collaborative Filtering"
   ]
  },
  {
   "cell_type": "markdown",
   "metadata": {},
   "source": [
    "### Singular Value Decomposition (SVD) with GridSearchCV"
   ]
  },
  {
   "cell_type": "markdown",
   "metadata": {},
   "source": [
    "#### Grid Search Run 1"
   ]
  },
  {
   "cell_type": "code",
   "execution_count": 24,
   "metadata": {},
   "outputs": [
    {
     "data": {
      "text/plain": [
       "surprise.model_selection.search.GridSearchCV"
      ]
     },
     "execution_count": 24,
     "metadata": {},
     "output_type": "execute_result"
    }
   ],
   "source": [
    "param_grid = {'n_factors': [10, 50, 250], 'n_epochs':[5, 10, 15], 'lr_all': [0.002, 0.005, 0.01], \n",
    "              'reg_all':[0.005, 0.01, 0.05]}\n",
    "\n",
    "grid_search = GridSearchCV(SVD, param_grid=param_grid, measures=['rmse'],\n",
    "                           cv=5, n_jobs=-1, return_train_measures= True, joblib_verbose=5)\n",
    "        \n",
    "type(grid_search)"
   ]
  },
  {
   "cell_type": "code",
   "execution_count": 25,
   "metadata": {},
   "outputs": [
    {
     "name": "stderr",
     "output_type": "stream",
     "text": [
      "[Parallel(n_jobs=-1)]: Using backend LokyBackend with 8 concurrent workers.\n",
      "[Parallel(n_jobs=-1)]: Done   2 tasks      | elapsed:    0.3s\n",
      "[Parallel(n_jobs=-1)]: Done  56 tasks      | elapsed:    5.6s\n",
      "[Parallel(n_jobs=-1)]: Done 146 tasks      | elapsed:   15.2s\n",
      "[Parallel(n_jobs=-1)]: Done 272 tasks      | elapsed:   28.5s\n",
      "[Parallel(n_jobs=-1)]: Done 405 out of 405 | elapsed:   48.7s finished\n"
     ]
    }
   ],
   "source": [
    "grid_search.fit(data)"
   ]
  },
  {
   "cell_type": "code",
   "execution_count": 26,
   "metadata": {},
   "outputs": [
    {
     "name": "stdout",
     "output_type": "stream",
     "text": [
      "{'rmse': 0.8844288082753238}\n",
      "{'rmse': {'n_factors': 10, 'n_epochs': 15, 'lr_all': 0.01, 'reg_all': 0.05}}\n"
     ]
    }
   ],
   "source": [
    "print(grid_search.best_score)\n",
    "print(grid_search.best_params)"
   ]
  },
  {
   "cell_type": "markdown",
   "metadata": {},
   "source": [
    "#### Grid Search Run 2"
   ]
  },
  {
   "cell_type": "code",
   "execution_count": 27,
   "metadata": {},
   "outputs": [
    {
     "data": {
      "text/plain": [
       "surprise.model_selection.search.GridSearchCV"
      ]
     },
     "execution_count": 27,
     "metadata": {},
     "output_type": "execute_result"
    }
   ],
   "source": [
    "#Let's tune the n_factors, n_epochs and reg_all hyperparamters as the best fit is at the edges of the ranges\n",
    "param_grid = {'n_factors': [10, 50, 250], 'n_epochs':[12, 15, 17], 'lr_all': [0.002, 0.005, 0.01], \n",
    "              'reg_all':[0.005, 0.01, 0.05]}\n",
    "\n",
    "grid_search = GridSearchCV(SVD, param_grid=param_grid, measures=['rmse'],\n",
    "                           cv=5, n_jobs=-1, return_train_measures= True, joblib_verbose=5)\n",
    "        \n",
    "type(grid_search)"
   ]
  },
  {
   "cell_type": "code",
   "execution_count": 28,
   "metadata": {},
   "outputs": [
    {
     "name": "stderr",
     "output_type": "stream",
     "text": [
      "[Parallel(n_jobs=-1)]: Using backend LokyBackend with 8 concurrent workers.\n",
      "[Parallel(n_jobs=-1)]: Done   2 tasks      | elapsed:    0.3s\n",
      "[Parallel(n_jobs=-1)]: Done  56 tasks      | elapsed:    5.6s\n",
      "[Parallel(n_jobs=-1)]: Done 146 tasks      | elapsed:   14.6s\n",
      "[Parallel(n_jobs=-1)]: Done 272 tasks      | elapsed:   28.8s\n",
      "[Parallel(n_jobs=-1)]: Done 405 out of 405 | elapsed:   53.2s finished\n"
     ]
    }
   ],
   "source": [
    "grid_search.fit(data)"
   ]
  },
  {
   "cell_type": "code",
   "execution_count": 29,
   "metadata": {},
   "outputs": [
    {
     "name": "stdout",
     "output_type": "stream",
     "text": [
      "{'rmse': 0.8847694759225533}\n",
      "{'rmse': {'n_factors': 10, 'n_epochs': 15, 'lr_all': 0.01, 'reg_all': 0.05}}\n"
     ]
    }
   ],
   "source": [
    "print(grid_search.best_score)\n",
    "print(grid_search.best_params)"
   ]
  },
  {
   "cell_type": "markdown",
   "metadata": {},
   "source": [
    "#### Grid Search Run 3"
   ]
  },
  {
   "cell_type": "code",
   "execution_count": 30,
   "metadata": {},
   "outputs": [
    {
     "name": "stderr",
     "output_type": "stream",
     "text": [
      "[Parallel(n_jobs=-1)]: Using backend LokyBackend with 8 concurrent workers.\n",
      "[Parallel(n_jobs=-1)]: Done   2 tasks      | elapsed:    0.3s\n",
      "[Parallel(n_jobs=-1)]: Done  56 tasks      | elapsed:    5.6s\n",
      "[Parallel(n_jobs=-1)]: Done 146 tasks      | elapsed:   14.5s\n",
      "[Parallel(n_jobs=-1)]: Done 272 tasks      | elapsed:   27.4s\n",
      "[Parallel(n_jobs=-1)]: Done 405 out of 405 | elapsed:   41.2s finished\n"
     ]
    }
   ],
   "source": [
    "#Let's keep tuning as the RMSE is still reducing. \n",
    "param_grid = {'n_factors': [5, 10, 15], 'n_epochs':[15, 17, 20], 'lr_all': [0.002, 0.005, 0.01], \n",
    "              'reg_all':[0.01, 0.05, 0.1]}\n",
    "\n",
    "grid_search = GridSearchCV(SVD, param_grid=param_grid, measures=['rmse'],\n",
    "                           cv=5, n_jobs=-1, return_train_measures= True, joblib_verbose=5)\n",
    "        \n",
    "type(grid_search)\n",
    "grid_search.fit(data)"
   ]
  },
  {
   "cell_type": "code",
   "execution_count": 31,
   "metadata": {},
   "outputs": [
    {
     "name": "stdout",
     "output_type": "stream",
     "text": [
      "{'rmse': 0.8809104121329755}\n",
      "{'rmse': {'n_factors': 5, 'n_epochs': 20, 'lr_all': 0.01, 'reg_all': 0.1}}\n"
     ]
    }
   ],
   "source": [
    "print(grid_search.best_score)\n",
    "print(grid_search.best_params)"
   ]
  },
  {
   "cell_type": "markdown",
   "metadata": {},
   "source": [
    "#### Grid Search Run 4"
   ]
  },
  {
   "cell_type": "code",
   "execution_count": 32,
   "metadata": {},
   "outputs": [
    {
     "name": "stderr",
     "output_type": "stream",
     "text": [
      "[Parallel(n_jobs=-1)]: Using backend LokyBackend with 8 concurrent workers.\n",
      "[Parallel(n_jobs=-1)]: Done   2 tasks      | elapsed:    0.3s\n",
      "[Parallel(n_jobs=-1)]: Done  56 tasks      | elapsed:    5.8s\n",
      "[Parallel(n_jobs=-1)]: Done 146 tasks      | elapsed:   14.9s\n",
      "[Parallel(n_jobs=-1)]: Done 272 tasks      | elapsed:   28.2s\n",
      "[Parallel(n_jobs=-1)]: Done 405 out of 405 | elapsed:   42.5s finished\n"
     ]
    }
   ],
   "source": [
    "#And again we have achieved iterative improvement so we continue to tune. \n",
    "param_grid = {'n_factors': [8, 10, 12], 'n_epochs':[20, 25, 30], 'lr_all': [0.005, 0.01, 0.03], \n",
    "              'reg_all':[0.08, 0.11, 0.13]}\n",
    "\n",
    "opt_grid_search = GridSearchCV(SVD, param_grid=param_grid, measures=['rmse'],\n",
    "                           cv=5, n_jobs=-1, return_train_measures= True, joblib_verbose=5)\n",
    "        \n",
    "type(opt_grid_search)\n",
    "opt_grid_search.fit(data)"
   ]
  },
  {
   "cell_type": "code",
   "execution_count": 33,
   "metadata": {},
   "outputs": [
    {
     "name": "stdout",
     "output_type": "stream",
     "text": [
      "{'rmse': 0.8804283383656022}\n",
      "{'rmse': {'n_factors': 10, 'n_epochs': 20, 'lr_all': 0.01, 'reg_all': 0.13}}\n"
     ]
    }
   ],
   "source": [
    "print(opt_grid_search.best_score)\n",
    "print(opt_grid_search.best_params)"
   ]
  },
  {
   "cell_type": "code",
   "execution_count": 34,
   "metadata": {},
   "outputs": [
    {
     "name": "stdout",
     "output_type": "stream",
     "text": [
      "Our mean train RMSE achieved with SVD is:  0.6630173633656051\n",
      "Our mean test RMSE achieved with SVD is:  0.8894711117051208\n"
     ]
    }
   ],
   "source": [
    "print('Our mean train RMSE achieved with SVD is: ', opt_grid_search.cv_results['mean_train_rmse'].mean())\n",
    "print('Our mean test RMSE achieved with SVD is: ', opt_grid_search.cv_results['mean_test_rmse'].mean()) "
   ]
  },
  {
   "cell_type": "markdown",
   "metadata": {},
   "source": [
    "Using the optimum output from run 4 we can see that the SVD model is overfitting and we report that there is instability in the model as on repeated runs we achieve small but potentially significant differences in the mean RMSE for both test and training sets. "
   ]
  },
  {
   "cell_type": "markdown",
   "metadata": {},
   "source": [
    "### Matrix Factorisation with Alternating Least Squares or Stochastic Gradient Descent"
   ]
  },
  {
   "cell_type": "code",
   "execution_count": 35,
   "metadata": {},
   "outputs": [
    {
     "name": "stdout",
     "output_type": "stream",
     "text": [
      "Possible hyperparameter permutations:  125\n"
     ]
    }
   ],
   "source": [
    "#We would like to tune hyperparamters with GridSearchCV but let's see if we can automate the tuning.\n",
    "#We can tune items regularization(default=10), user regularization(def=15) and the numbe rof iterations(def=10).\n",
    "#We'll use the default values as the midpoint of our tuning range. \n",
    "epochs = [3, 8, 10, 12, 18]\n",
    "reg_u = [8, 10, 15, 20, 23]\n",
    "reg_i = [3, 8, 10, 12, 18]\n",
    "\n",
    "params = [[i, j, k] for i in epochs\n",
    "        for j in reg_u\n",
    "        for k in reg_i]\n",
    "print('Possible hyperparameter permutations: ', len(params))"
   ]
  },
  {
   "cell_type": "code",
   "execution_count": 36,
   "metadata": {},
   "outputs": [
    {
     "name": "stdout",
     "output_type": "stream",
     "text": [
      "Estimating biases using als...\n",
      "Estimating biases using als...\n",
      "Estimating biases using als...\n",
      "Estimating biases using als...\n",
      "Estimating biases using als...\n",
      "Estimating biases using als...\n",
      "Estimating biases using als...\n",
      "Estimating biases using als...\n",
      "Estimating biases using als...\n",
      "Estimating biases using als...\n",
      "Estimating biases using als...\n",
      "Estimating biases using als...\n",
      "Estimating biases using als...\n",
      "Estimating biases using als...\n",
      "Estimating biases using als...\n",
      "Estimating biases using als...\n",
      "Estimating biases using als...\n",
      "Estimating biases using als...\n",
      "Estimating biases using als...\n",
      "Estimating biases using als...\n",
      "Estimating biases using als...\n",
      "Estimating biases using als...\n",
      "Estimating biases using als...\n",
      "Estimating biases using als...\n",
      "Estimating biases using als...\n",
      "Estimating biases using als...\n",
      "Estimating biases using als...\n",
      "Estimating biases using als...\n",
      "Estimating biases using als...\n",
      "Estimating biases using als...\n",
      "Estimating biases using als...\n",
      "Estimating biases using als...\n",
      "Estimating biases using als...\n",
      "Estimating biases using als...\n",
      "Estimating biases using als...\n",
      "Estimating biases using als...\n",
      "Estimating biases using als...\n",
      "Estimating biases using als...\n",
      "Estimating biases using als...\n",
      "Estimating biases using als...\n",
      "Estimating biases using als...\n",
      "Estimating biases using als...\n",
      "Estimating biases using als...\n",
      "Estimating biases using als...\n",
      "Estimating biases using als...\n",
      "Estimating biases using als...\n",
      "Estimating biases using als...\n",
      "Estimating biases using als...\n",
      "Estimating biases using als...\n",
      "Estimating biases using als...\n",
      "Estimating biases using als...\n",
      "Estimating biases using als...\n",
      "Estimating biases using als...\n",
      "Estimating biases using als...\n",
      "Estimating biases using als...\n",
      "Estimating biases using als...\n",
      "Estimating biases using als...\n",
      "Estimating biases using als...\n",
      "Estimating biases using als...\n",
      "Estimating biases using als...\n",
      "Estimating biases using als...\n",
      "Estimating biases using als...\n",
      "Estimating biases using als...\n",
      "Estimating biases using als...\n",
      "Estimating biases using als...\n",
      "Estimating biases using als...\n",
      "Estimating biases using als...\n",
      "Estimating biases using als...\n",
      "Estimating biases using als...\n",
      "Estimating biases using als...\n",
      "Estimating biases using als...\n",
      "Estimating biases using als...\n",
      "Estimating biases using als...\n",
      "Estimating biases using als...\n",
      "Estimating biases using als...\n",
      "Estimating biases using als...\n",
      "Estimating biases using als...\n",
      "Estimating biases using als...\n",
      "Estimating biases using als...\n",
      "Estimating biases using als...\n",
      "Estimating biases using als...\n",
      "Estimating biases using als...\n",
      "Estimating biases using als...\n",
      "Estimating biases using als...\n",
      "Estimating biases using als...\n",
      "Estimating biases using als...\n",
      "Estimating biases using als...\n",
      "Estimating biases using als...\n",
      "Estimating biases using als...\n",
      "Estimating biases using als...\n",
      "Estimating biases using als...\n",
      "Estimating biases using als...\n",
      "Estimating biases using als...\n",
      "Estimating biases using als...\n",
      "Estimating biases using als...\n",
      "Estimating biases using als...\n",
      "Estimating biases using als...\n",
      "Estimating biases using als...\n",
      "Estimating biases using als...\n",
      "Estimating biases using als...\n",
      "Estimating biases using als...\n",
      "Estimating biases using als...\n",
      "Estimating biases using als...\n",
      "Estimating biases using als...\n",
      "Estimating biases using als...\n",
      "Estimating biases using als...\n",
      "Estimating biases using als...\n",
      "Estimating biases using als...\n",
      "Estimating biases using als...\n",
      "Estimating biases using als...\n",
      "Estimating biases using als...\n",
      "Estimating biases using als...\n",
      "Estimating biases using als...\n",
      "Estimating biases using als...\n",
      "Estimating biases using als...\n",
      "Estimating biases using als...\n",
      "Estimating biases using als...\n",
      "Estimating biases using als...\n",
      "Estimating biases using als...\n",
      "Estimating biases using als...\n",
      "Estimating biases using als...\n",
      "Estimating biases using als...\n",
      "Estimating biases using als...\n",
      "Estimating biases using als...\n",
      "Estimating biases using als...\n",
      "Estimating biases using als...\n",
      "Estimating biases using als...\n",
      "Estimating biases using als...\n",
      "Estimating biases using als...\n",
      "Estimating biases using als...\n",
      "Estimating biases using als...\n",
      "Estimating biases using als...\n",
      "Estimating biases using als...\n",
      "Estimating biases using als...\n",
      "Estimating biases using als...\n",
      "Estimating biases using als...\n",
      "Estimating biases using als...\n",
      "Estimating biases using als...\n",
      "Estimating biases using als...\n",
      "Estimating biases using als...\n",
      "Estimating biases using als...\n",
      "Estimating biases using als...\n",
      "Estimating biases using als...\n",
      "Estimating biases using als...\n",
      "Estimating biases using als...\n",
      "Estimating biases using als...\n",
      "Estimating biases using als...\n",
      "Estimating biases using als...\n",
      "Estimating biases using als...\n",
      "Estimating biases using als...\n",
      "Estimating biases using als...\n",
      "Estimating biases using als...\n",
      "Estimating biases using als...\n",
      "Estimating biases using als...\n",
      "Estimating biases using als...\n",
      "Estimating biases using als...\n",
      "Estimating biases using als...\n",
      "Estimating biases using als...\n",
      "Estimating biases using als...\n",
      "Estimating biases using als...\n",
      "Estimating biases using als...\n",
      "Estimating biases using als...\n",
      "Estimating biases using als...\n",
      "Estimating biases using als...\n",
      "Estimating biases using als...\n",
      "Estimating biases using als...\n",
      "Estimating biases using als...\n",
      "Estimating biases using als...\n",
      "Estimating biases using als...\n",
      "Estimating biases using als...\n",
      "Estimating biases using als...\n",
      "Estimating biases using als...\n",
      "Estimating biases using als...\n",
      "Estimating biases using als...\n",
      "Estimating biases using als...\n",
      "Estimating biases using als...\n",
      "Estimating biases using als...\n",
      "Estimating biases using als...\n",
      "Estimating biases using als...\n",
      "Estimating biases using als...\n",
      "Estimating biases using als...\n",
      "Estimating biases using als...\n",
      "Estimating biases using als...\n",
      "Estimating biases using als...\n",
      "Estimating biases using als...\n",
      "Estimating biases using als...\n",
      "Estimating biases using als...\n",
      "Estimating biases using als...\n",
      "Estimating biases using als...\n",
      "Estimating biases using als...\n",
      "Estimating biases using als...\n",
      "Estimating biases using als...\n",
      "Estimating biases using als...\n",
      "Estimating biases using als...\n",
      "Estimating biases using als...\n",
      "Estimating biases using als...\n",
      "Estimating biases using als...\n",
      "Estimating biases using als...\n",
      "Estimating biases using als...\n",
      "Estimating biases using als...\n",
      "Estimating biases using als...\n",
      "Estimating biases using als...\n",
      "Estimating biases using als...\n",
      "Estimating biases using als...\n",
      "Estimating biases using als...\n",
      "Estimating biases using als...\n",
      "Estimating biases using als...\n",
      "Estimating biases using als...\n",
      "Estimating biases using als...\n",
      "Estimating biases using als...\n",
      "Estimating biases using als...\n",
      "Estimating biases using als...\n",
      "Estimating biases using als...\n",
      "Estimating biases using als...\n",
      "Estimating biases using als...\n",
      "Estimating biases using als...\n",
      "Estimating biases using als...\n",
      "Estimating biases using als...\n",
      "Estimating biases using als...\n",
      "Estimating biases using als...\n",
      "Estimating biases using als...\n",
      "Estimating biases using als...\n",
      "Estimating biases using als...\n",
      "Estimating biases using als...\n",
      "Estimating biases using als...\n",
      "Estimating biases using als...\n",
      "Estimating biases using als...\n",
      "Estimating biases using als...\n",
      "Estimating biases using als...\n",
      "Estimating biases using als...\n",
      "Estimating biases using als...\n",
      "Estimating biases using als...\n",
      "Estimating biases using als...\n",
      "Estimating biases using als...\n",
      "Estimating biases using als...\n",
      "Estimating biases using als...\n",
      "Estimating biases using als...\n",
      "Estimating biases using als...\n",
      "Estimating biases using als...\n",
      "Estimating biases using als...\n",
      "Estimating biases using als...\n",
      "Estimating biases using als...\n",
      "Estimating biases using als...\n",
      "Estimating biases using als...\n",
      "Estimating biases using als...\n",
      "Estimating biases using als...\n",
      "Estimating biases using als...\n",
      "Estimating biases using als...\n",
      "Estimating biases using als...\n",
      "Estimating biases using als...\n",
      "Estimating biases using als...\n",
      "Estimating biases using als...\n",
      "Estimating biases using als...\n",
      "Estimating biases using als...\n",
      "Estimating biases using als...\n",
      "Estimating biases using als...\n",
      "Estimating biases using als...\n",
      "Estimating biases using als...\n",
      "Estimating biases using als...\n",
      "Estimating biases using als...\n",
      "Estimating biases using als...\n",
      "Estimating biases using als...\n",
      "Estimating biases using als...\n",
      "Estimating biases using als...\n",
      "Estimating biases using als...\n",
      "Estimating biases using als...\n",
      "Estimating biases using als...\n"
     ]
    },
    {
     "name": "stdout",
     "output_type": "stream",
     "text": [
      "Estimating biases using als...\n",
      "Estimating biases using als...\n",
      "Estimating biases using als...\n",
      "Estimating biases using als...\n",
      "Estimating biases using als...\n",
      "Estimating biases using als...\n",
      "Estimating biases using als...\n",
      "Estimating biases using als...\n",
      "Estimating biases using als...\n",
      "Estimating biases using als...\n",
      "Estimating biases using als...\n",
      "Estimating biases using als...\n",
      "Estimating biases using als...\n",
      "Estimating biases using als...\n",
      "Estimating biases using als...\n",
      "Estimating biases using als...\n",
      "Estimating biases using als...\n",
      "Estimating biases using als...\n",
      "Estimating biases using als...\n",
      "Estimating biases using als...\n",
      "Estimating biases using als...\n",
      "Estimating biases using als...\n",
      "Estimating biases using als...\n",
      "Estimating biases using als...\n",
      "Estimating biases using als...\n",
      "Estimating biases using als...\n",
      "Estimating biases using als...\n",
      "Estimating biases using als...\n",
      "Estimating biases using als...\n",
      "Estimating biases using als...\n",
      "Estimating biases using als...\n",
      "Estimating biases using als...\n",
      "Estimating biases using als...\n",
      "Estimating biases using als...\n",
      "Estimating biases using als...\n",
      "Estimating biases using als...\n",
      "Estimating biases using als...\n",
      "Estimating biases using als...\n",
      "Estimating biases using als...\n",
      "Estimating biases using als...\n",
      "Estimating biases using als...\n",
      "Estimating biases using als...\n",
      "Estimating biases using als...\n",
      "Estimating biases using als...\n",
      "Estimating biases using als...\n",
      "Estimating biases using als...\n",
      "Estimating biases using als...\n",
      "Estimating biases using als...\n",
      "Estimating biases using als...\n",
      "Estimating biases using als...\n",
      "Estimating biases using als...\n",
      "Estimating biases using als...\n",
      "Estimating biases using als...\n",
      "Estimating biases using als...\n",
      "Estimating biases using als...\n",
      "Estimating biases using als...\n",
      "Estimating biases using als...\n",
      "Estimating biases using als...\n",
      "Estimating biases using als...\n",
      "Estimating biases using als...\n",
      "Estimating biases using als...\n",
      "Estimating biases using als...\n",
      "Estimating biases using als...\n",
      "Estimating biases using als...\n",
      "Estimating biases using als...\n",
      "Estimating biases using als...\n",
      "Estimating biases using als...\n",
      "Estimating biases using als...\n",
      "Estimating biases using als...\n",
      "Estimating biases using als...\n",
      "Estimating biases using als...\n",
      "Estimating biases using als...\n",
      "Estimating biases using als...\n",
      "Estimating biases using als...\n",
      "Estimating biases using als...\n",
      "Estimating biases using als...\n",
      "Estimating biases using als...\n",
      "Estimating biases using als...\n",
      "Estimating biases using als...\n",
      "Estimating biases using als...\n",
      "Estimating biases using als...\n",
      "Estimating biases using als...\n",
      "Estimating biases using als...\n",
      "Estimating biases using als...\n",
      "Estimating biases using als...\n",
      "Estimating biases using als...\n",
      "Estimating biases using als...\n",
      "Estimating biases using als...\n",
      "Estimating biases using als...\n",
      "Estimating biases using als...\n",
      "Estimating biases using als...\n",
      "Estimating biases using als...\n",
      "Estimating biases using als...\n",
      "Estimating biases using als...\n",
      "Estimating biases using als...\n",
      "Estimating biases using als...\n",
      "Estimating biases using als...\n",
      "Estimating biases using als...\n",
      "Estimating biases using als...\n",
      "Estimating biases using als...\n",
      "Estimating biases using als...\n",
      "Estimating biases using als...\n",
      "Estimating biases using als...\n",
      "Estimating biases using als...\n",
      "Estimating biases using als...\n",
      "Estimating biases using als...\n",
      "Estimating biases using als...\n",
      "Estimating biases using als...\n",
      "Estimating biases using als...\n",
      "Estimating biases using als...\n",
      "Estimating biases using als...\n",
      "Estimating biases using als...\n",
      "Estimating biases using als...\n",
      "Estimating biases using als...\n",
      "Estimating biases using als...\n",
      "Estimating biases using als...\n",
      "Estimating biases using als...\n",
      "Estimating biases using als...\n",
      "Estimating biases using als...\n",
      "Estimating biases using als...\n",
      "Estimating biases using als...\n",
      "Estimating biases using als...\n",
      "Estimating biases using als...\n",
      "Estimating biases using als...\n",
      "Estimating biases using als...\n",
      "Estimating biases using als...\n",
      "Estimating biases using als...\n",
      "Estimating biases using als...\n",
      "Estimating biases using als...\n",
      "Estimating biases using als...\n",
      "Estimating biases using als...\n",
      "Estimating biases using als...\n",
      "Estimating biases using als...\n",
      "Estimating biases using als...\n",
      "Estimating biases using als...\n",
      "Estimating biases using als...\n",
      "Estimating biases using als...\n",
      "Estimating biases using als...\n",
      "Estimating biases using als...\n",
      "Estimating biases using als...\n",
      "Estimating biases using als...\n",
      "Estimating biases using als...\n",
      "Estimating biases using als...\n",
      "Estimating biases using als...\n",
      "Estimating biases using als...\n",
      "Estimating biases using als...\n",
      "Estimating biases using als...\n",
      "Estimating biases using als...\n",
      "Estimating biases using als...\n",
      "Estimating biases using als...\n",
      "Estimating biases using als...\n",
      "Estimating biases using als...\n",
      "Estimating biases using als...\n",
      "Estimating biases using als...\n",
      "Estimating biases using als...\n",
      "Estimating biases using als...\n",
      "Estimating biases using als...\n",
      "Estimating biases using als...\n",
      "Estimating biases using als...\n",
      "Estimating biases using als...\n",
      "Estimating biases using als...\n",
      "Estimating biases using als...\n",
      "Estimating biases using als...\n",
      "Estimating biases using als...\n",
      "Estimating biases using als...\n",
      "Estimating biases using als...\n",
      "Estimating biases using als...\n",
      "Estimating biases using als...\n",
      "Estimating biases using als...\n",
      "Estimating biases using als...\n",
      "Estimating biases using als...\n",
      "Estimating biases using als...\n",
      "Estimating biases using als...\n",
      "Estimating biases using als...\n",
      "Estimating biases using als...\n",
      "Estimating biases using als...\n",
      "Estimating biases using als...\n",
      "Estimating biases using als...\n",
      "Estimating biases using als...\n",
      "Estimating biases using als...\n",
      "Estimating biases using als...\n",
      "Estimating biases using als...\n",
      "Estimating biases using als...\n",
      "Estimating biases using als...\n",
      "Estimating biases using als...\n",
      "Estimating biases using als...\n",
      "Estimating biases using als...\n",
      "Estimating biases using als...\n",
      "Estimating biases using als...\n",
      "Estimating biases using als...\n",
      "Estimating biases using als...\n",
      "Estimating biases using als...\n",
      "Estimating biases using als...\n",
      "Estimating biases using als...\n",
      "Estimating biases using als...\n",
      "Estimating biases using als...\n",
      "Estimating biases using als...\n",
      "Estimating biases using als...\n",
      "Estimating biases using als...\n",
      "Estimating biases using als...\n",
      "Estimating biases using als...\n",
      "Estimating biases using als...\n",
      "Estimating biases using als...\n",
      "Estimating biases using als...\n",
      "Estimating biases using als...\n",
      "Estimating biases using als...\n",
      "Estimating biases using als...\n",
      "Estimating biases using als...\n",
      "Estimating biases using als...\n",
      "Estimating biases using als...\n",
      "Estimating biases using als...\n",
      "Estimating biases using als...\n",
      "Estimating biases using als...\n",
      "Estimating biases using als...\n",
      "Estimating biases using als...\n",
      "Estimating biases using als...\n",
      "Estimating biases using als...\n",
      "Estimating biases using als...\n",
      "Estimating biases using als...\n",
      "Estimating biases using als...\n",
      "Estimating biases using als...\n",
      "Estimating biases using als...\n",
      "Estimating biases using als...\n",
      "Estimating biases using als...\n",
      "Estimating biases using als...\n",
      "Estimating biases using als...\n",
      "Estimating biases using als...\n",
      "Estimating biases using als...\n",
      "Estimating biases using als...\n",
      "Estimating biases using als...\n",
      "Estimating biases using als...\n",
      "Estimating biases using als...\n",
      "Estimating biases using als...\n",
      "Estimating biases using als...\n",
      "Estimating biases using als...\n",
      "Estimating biases using als...\n",
      "Estimating biases using als...\n",
      "Estimating biases using als...\n",
      "Estimating biases using als...\n",
      "Estimating biases using als...\n",
      "Estimating biases using als...\n",
      "Estimating biases using als...\n",
      "Estimating biases using als...\n",
      "Estimating biases using als...\n",
      "Estimating biases using als...\n",
      "Estimating biases using als...\n",
      "Estimating biases using als...\n",
      "Estimating biases using als...\n",
      "Estimating biases using als...\n",
      "Estimating biases using als...\n",
      "Estimating biases using als...\n",
      "Estimating biases using als...\n",
      "Estimating biases using als...\n",
      "Estimating biases using als...\n",
      "Estimating biases using als...\n",
      "Estimating biases using als...\n",
      "Estimating biases using als...\n",
      "Estimating biases using als...\n",
      "Estimating biases using als...\n",
      "Estimating biases using als...\n",
      "Estimating biases using als...\n",
      "Estimating biases using als...\n",
      "Estimating biases using als...\n",
      "Estimating biases using als...\n",
      "Estimating biases using als...\n",
      "Estimating biases using als...\n",
      "Estimating biases using als...\n"
     ]
    },
    {
     "name": "stdout",
     "output_type": "stream",
     "text": [
      "Estimating biases using als...\n",
      "Estimating biases using als...\n",
      "Estimating biases using als...\n",
      "Estimating biases using als...\n",
      "Estimating biases using als...\n",
      "Estimating biases using als...\n",
      "Estimating biases using als...\n",
      "Estimating biases using als...\n",
      "Estimating biases using als...\n",
      "Estimating biases using als...\n",
      "Estimating biases using als...\n",
      "Estimating biases using als...\n",
      "Estimating biases using als...\n",
      "Estimating biases using als...\n",
      "Estimating biases using als...\n",
      "Estimating biases using als...\n",
      "Estimating biases using als...\n",
      "Estimating biases using als...\n",
      "Estimating biases using als...\n",
      "Estimating biases using als...\n",
      "Estimating biases using als...\n",
      "Estimating biases using als...\n",
      "Estimating biases using als...\n",
      "Estimating biases using als...\n",
      "Estimating biases using als...\n",
      "Estimating biases using als...\n",
      "Estimating biases using als...\n",
      "Estimating biases using als...\n",
      "Estimating biases using als...\n",
      "Estimating biases using als...\n",
      "Estimating biases using als...\n",
      "Estimating biases using als...\n",
      "Estimating biases using als...\n",
      "Estimating biases using als...\n",
      "Estimating biases using als...\n",
      "Estimating biases using als...\n",
      "Estimating biases using als...\n",
      "Estimating biases using als...\n",
      "Estimating biases using als...\n",
      "Estimating biases using als...\n",
      "Estimating biases using als...\n",
      "Estimating biases using als...\n",
      "Estimating biases using als...\n",
      "Estimating biases using als...\n",
      "Estimating biases using als...\n",
      "Estimating biases using als...\n",
      "Estimating biases using als...\n",
      "Estimating biases using als...\n",
      "Estimating biases using als...\n",
      "Estimating biases using als...\n",
      "Estimating biases using als...\n",
      "Estimating biases using als...\n",
      "Estimating biases using als...\n",
      "Estimating biases using als...\n",
      "Estimating biases using als...\n",
      "Estimating biases using als...\n",
      "Estimating biases using als...\n",
      "Estimating biases using als...\n",
      "Estimating biases using als...\n",
      "Estimating biases using als...\n",
      "Estimating biases using als...\n",
      "Estimating biases using als...\n",
      "Estimating biases using als...\n",
      "Estimating biases using als...\n",
      "Estimating biases using als...\n",
      "Estimating biases using als...\n",
      "Estimating biases using als...\n",
      "Estimating biases using als...\n",
      "Estimating biases using als...\n",
      "Estimating biases using als...\n",
      "Estimating biases using als...\n",
      "Estimating biases using als...\n",
      "Estimating biases using als...\n",
      "Estimating biases using als...\n",
      "Estimating biases using als...\n",
      "Estimating biases using als...\n",
      "Estimating biases using als...\n",
      "Estimating biases using als...\n",
      "Estimating biases using als...\n",
      "Estimating biases using als...\n",
      "Estimating biases using als...\n",
      "Estimating biases using als...\n",
      "Estimating biases using als...\n",
      "Estimating biases using als...\n",
      "Estimating biases using als...\n",
      "Estimating biases using als...\n",
      "Estimating biases using als...\n",
      "Estimating biases using als...\n",
      "Estimating biases using als...\n",
      "Estimating biases using als...\n",
      "Estimating biases using als...\n"
     ]
    }
   ],
   "source": [
    "bsl_options_scores = {}\n",
    "\n",
    "\n",
    "for bsl_perm in params:\n",
    "    bsl_options = {'method': 'als', \n",
    "                  'n_epochs': bsl_perm[0],\n",
    "                  'reg_u': bsl_perm[1],\n",
    "                  'reg_i': bsl_perm[2]}\n",
    "    \n",
    "    algo = baseline_only.BaselineOnly(bsl_options=bsl_options)\n",
    "    a = cross_validate(algo, data, measures=['RMSE'], cv=5, return_train_measures=True, verbose=False);\n",
    "    \n",
    "    bsl_perm_2 = (str(bsl_perm[0]) + ' ' + str(bsl_perm[1]) + ' ' + str(bsl_perm[2]))\n",
    "    bsl_options_scores[bsl_perm_2] = {'mean_train_rmse': a['train_rmse'].mean(), 'mean_test_rmse': a['test_rmse'].mean()}"
   ]
  },
  {
   "cell_type": "code",
   "execution_count": 37,
   "metadata": {},
   "outputs": [
    {
     "data": {
      "text/plain": [
       "[['8 8 3',\n",
       "  {'mean_train_rmse': 0.7565085456222658,\n",
       "   'mean_test_rmse': 0.8809107030146871}],\n",
       " ['18 8 3',\n",
       "  {'mean_train_rmse': 0.7568331664105118,\n",
       "   'mean_test_rmse': 0.879115094437417}],\n",
       " ['12 8 3',\n",
       "  {'mean_train_rmse': 0.7568790762577661,\n",
       "   'mean_test_rmse': 0.8783716602724713}],\n",
       " ['10 8 3',\n",
       "  {'mean_train_rmse': 0.7569712834330165,\n",
       "   'mean_test_rmse': 0.8784688544339649}],\n",
       " ['3 8 3',\n",
       "  {'mean_train_rmse': 0.7570432448662135,\n",
       "   'mean_test_rmse': 0.8789214626263903}],\n",
       " ['18 10 3',\n",
       "  {'mean_train_rmse': 0.7587792756004599,\n",
       "   'mean_test_rmse': 0.8816826666136623}],\n",
       " ['10 10 3',\n",
       "  {'mean_train_rmse': 0.7589286840078798,\n",
       "   'mean_test_rmse': 0.8811137227543533}],\n",
       " ['12 10 3',\n",
       "  {'mean_train_rmse': 0.7592696733375579,\n",
       "   'mean_test_rmse': 0.8796485848232892}],\n",
       " ['8 10 3',\n",
       "  {'mean_train_rmse': 0.75930163904315, 'mean_test_rmse': 0.8795673002434944}],\n",
       " ['3 10 3',\n",
       "  {'mean_train_rmse': 0.7594474284556995,\n",
       "   'mean_test_rmse': 0.8789923337590114}]]"
      ]
     },
     "execution_count": 37,
     "metadata": {},
     "output_type": "execute_result"
    }
   ],
   "source": [
    "sorted([[k, v] for k, v in bsl_options_scores.items()], key = lambda x: x[1]['mean_train_rmse'])[:10]"
   ]
  },
  {
   "cell_type": "markdown",
   "metadata": {},
   "source": [
    "The optimimum hyperparameters are located on the edge of the ranges. We should retune to see if we can improve the rmse. "
   ]
  },
  {
   "cell_type": "code",
   "execution_count": 38,
   "metadata": {},
   "outputs": [
    {
     "name": "stdout",
     "output_type": "stream",
     "text": [
      "Possible hyperparameter permutations:  80\n",
      "Estimating biases using als...\n",
      "Estimating biases using als...\n",
      "Estimating biases using als...\n",
      "Estimating biases using als...\n",
      "Estimating biases using als...\n",
      "Estimating biases using als...\n",
      "Estimating biases using als...\n",
      "Estimating biases using als...\n",
      "Estimating biases using als...\n",
      "Estimating biases using als...\n",
      "Estimating biases using als...\n",
      "Estimating biases using als...\n",
      "Estimating biases using als...\n",
      "Estimating biases using als...\n",
      "Estimating biases using als...\n",
      "Estimating biases using als...\n",
      "Estimating biases using als...\n",
      "Estimating biases using als...\n",
      "Estimating biases using als...\n",
      "Estimating biases using als...\n",
      "Estimating biases using als...\n",
      "Estimating biases using als...\n",
      "Estimating biases using als...\n",
      "Estimating biases using als...\n",
      "Estimating biases using als...\n",
      "Estimating biases using als...\n",
      "Estimating biases using als...\n",
      "Estimating biases using als...\n",
      "Estimating biases using als...\n",
      "Estimating biases using als...\n",
      "Estimating biases using als...\n",
      "Estimating biases using als...\n",
      "Estimating biases using als...\n",
      "Estimating biases using als...\n",
      "Estimating biases using als...\n",
      "Estimating biases using als...\n",
      "Estimating biases using als...\n",
      "Estimating biases using als...\n",
      "Estimating biases using als...\n",
      "Estimating biases using als...\n",
      "Estimating biases using als...\n",
      "Estimating biases using als...\n",
      "Estimating biases using als...\n",
      "Estimating biases using als...\n",
      "Estimating biases using als...\n",
      "Estimating biases using als...\n",
      "Estimating biases using als...\n",
      "Estimating biases using als...\n",
      "Estimating biases using als...\n",
      "Estimating biases using als...\n",
      "Estimating biases using als...\n",
      "Estimating biases using als...\n",
      "Estimating biases using als...\n",
      "Estimating biases using als...\n",
      "Estimating biases using als...\n",
      "Estimating biases using als...\n",
      "Estimating biases using als...\n",
      "Estimating biases using als...\n",
      "Estimating biases using als...\n",
      "Estimating biases using als...\n",
      "Estimating biases using als...\n",
      "Estimating biases using als...\n",
      "Estimating biases using als...\n",
      "Estimating biases using als...\n",
      "Estimating biases using als...\n",
      "Estimating biases using als...\n",
      "Estimating biases using als...\n",
      "Estimating biases using als...\n",
      "Estimating biases using als...\n",
      "Estimating biases using als...\n",
      "Estimating biases using als...\n",
      "Estimating biases using als...\n",
      "Estimating biases using als...\n",
      "Estimating biases using als...\n",
      "Estimating biases using als...\n",
      "Estimating biases using als...\n",
      "Estimating biases using als...\n",
      "Estimating biases using als...\n",
      "Estimating biases using als...\n",
      "Estimating biases using als...\n",
      "Estimating biases using als...\n",
      "Estimating biases using als...\n",
      "Estimating biases using als...\n",
      "Estimating biases using als...\n",
      "Estimating biases using als...\n",
      "Estimating biases using als...\n",
      "Estimating biases using als...\n",
      "Estimating biases using als...\n",
      "Estimating biases using als...\n",
      "Estimating biases using als...\n",
      "Estimating biases using als...\n",
      "Estimating biases using als...\n",
      "Estimating biases using als...\n",
      "Estimating biases using als...\n",
      "Estimating biases using als...\n",
      "Estimating biases using als...\n",
      "Estimating biases using als...\n",
      "Estimating biases using als...\n",
      "Estimating biases using als...\n",
      "Estimating biases using als...\n",
      "Estimating biases using als...\n",
      "Estimating biases using als...\n",
      "Estimating biases using als...\n",
      "Estimating biases using als...\n",
      "Estimating biases using als...\n",
      "Estimating biases using als...\n",
      "Estimating biases using als...\n",
      "Estimating biases using als...\n",
      "Estimating biases using als...\n",
      "Estimating biases using als...\n",
      "Estimating biases using als...\n",
      "Estimating biases using als...\n",
      "Estimating biases using als...\n",
      "Estimating biases using als...\n",
      "Estimating biases using als...\n",
      "Estimating biases using als...\n",
      "Estimating biases using als...\n",
      "Estimating biases using als...\n",
      "Estimating biases using als...\n",
      "Estimating biases using als...\n",
      "Estimating biases using als...\n",
      "Estimating biases using als...\n",
      "Estimating biases using als...\n",
      "Estimating biases using als...\n",
      "Estimating biases using als...\n",
      "Estimating biases using als...\n",
      "Estimating biases using als...\n",
      "Estimating biases using als...\n",
      "Estimating biases using als...\n",
      "Estimating biases using als...\n",
      "Estimating biases using als...\n",
      "Estimating biases using als...\n",
      "Estimating biases using als...\n",
      "Estimating biases using als...\n",
      "Estimating biases using als...\n",
      "Estimating biases using als...\n",
      "Estimating biases using als...\n",
      "Estimating biases using als...\n",
      "Estimating biases using als...\n",
      "Estimating biases using als...\n",
      "Estimating biases using als...\n",
      "Estimating biases using als...\n",
      "Estimating biases using als...\n",
      "Estimating biases using als...\n",
      "Estimating biases using als...\n",
      "Estimating biases using als...\n",
      "Estimating biases using als...\n",
      "Estimating biases using als...\n",
      "Estimating biases using als...\n",
      "Estimating biases using als...\n",
      "Estimating biases using als...\n",
      "Estimating biases using als...\n",
      "Estimating biases using als...\n",
      "Estimating biases using als...\n",
      "Estimating biases using als...\n",
      "Estimating biases using als...\n",
      "Estimating biases using als...\n",
      "Estimating biases using als...\n",
      "Estimating biases using als...\n",
      "Estimating biases using als...\n",
      "Estimating biases using als...\n",
      "Estimating biases using als...\n",
      "Estimating biases using als...\n",
      "Estimating biases using als...\n",
      "Estimating biases using als...\n",
      "Estimating biases using als...\n",
      "Estimating biases using als...\n",
      "Estimating biases using als...\n",
      "Estimating biases using als...\n",
      "Estimating biases using als...\n",
      "Estimating biases using als...\n",
      "Estimating biases using als...\n",
      "Estimating biases using als...\n",
      "Estimating biases using als...\n",
      "Estimating biases using als...\n",
      "Estimating biases using als...\n",
      "Estimating biases using als...\n",
      "Estimating biases using als...\n",
      "Estimating biases using als...\n",
      "Estimating biases using als...\n",
      "Estimating biases using als...\n",
      "Estimating biases using als...\n",
      "Estimating biases using als...\n",
      "Estimating biases using als...\n",
      "Estimating biases using als...\n",
      "Estimating biases using als...\n",
      "Estimating biases using als...\n",
      "Estimating biases using als...\n",
      "Estimating biases using als...\n",
      "Estimating biases using als...\n",
      "Estimating biases using als...\n",
      "Estimating biases using als...\n",
      "Estimating biases using als...\n",
      "Estimating biases using als...\n",
      "Estimating biases using als...\n",
      "Estimating biases using als...\n",
      "Estimating biases using als...\n",
      "Estimating biases using als...\n",
      "Estimating biases using als...\n",
      "Estimating biases using als...\n",
      "Estimating biases using als...\n",
      "Estimating biases using als...\n",
      "Estimating biases using als...\n",
      "Estimating biases using als...\n",
      "Estimating biases using als...\n",
      "Estimating biases using als...\n",
      "Estimating biases using als...\n",
      "Estimating biases using als...\n",
      "Estimating biases using als...\n",
      "Estimating biases using als...\n",
      "Estimating biases using als...\n",
      "Estimating biases using als...\n",
      "Estimating biases using als...\n",
      "Estimating biases using als...\n",
      "Estimating biases using als...\n",
      "Estimating biases using als...\n",
      "Estimating biases using als...\n",
      "Estimating biases using als...\n",
      "Estimating biases using als...\n",
      "Estimating biases using als...\n",
      "Estimating biases using als...\n",
      "Estimating biases using als...\n",
      "Estimating biases using als...\n",
      "Estimating biases using als...\n",
      "Estimating biases using als...\n",
      "Estimating biases using als...\n",
      "Estimating biases using als...\n",
      "Estimating biases using als...\n",
      "Estimating biases using als...\n",
      "Estimating biases using als...\n",
      "Estimating biases using als...\n",
      "Estimating biases using als...\n",
      "Estimating biases using als...\n",
      "Estimating biases using als...\n",
      "Estimating biases using als...\n",
      "Estimating biases using als...\n",
      "Estimating biases using als...\n",
      "Estimating biases using als...\n",
      "Estimating biases using als...\n",
      "Estimating biases using als...\n",
      "Estimating biases using als...\n",
      "Estimating biases using als...\n",
      "Estimating biases using als...\n",
      "Estimating biases using als...\n",
      "Estimating biases using als...\n",
      "Estimating biases using als...\n",
      "Estimating biases using als...\n",
      "Estimating biases using als...\n",
      "Estimating biases using als...\n",
      "Estimating biases using als...\n",
      "Estimating biases using als...\n",
      "Estimating biases using als...\n",
      "Estimating biases using als...\n",
      "Estimating biases using als...\n",
      "Estimating biases using als...\n",
      "Estimating biases using als...\n",
      "Estimating biases using als...\n",
      "Estimating biases using als...\n",
      "Estimating biases using als...\n",
      "Estimating biases using als...\n",
      "Estimating biases using als...\n",
      "Estimating biases using als...\n",
      "Estimating biases using als...\n"
     ]
    },
    {
     "name": "stdout",
     "output_type": "stream",
     "text": [
      "Estimating biases using als...\n",
      "Estimating biases using als...\n",
      "Estimating biases using als...\n",
      "Estimating biases using als...\n",
      "Estimating biases using als...\n",
      "Estimating biases using als...\n",
      "Estimating biases using als...\n",
      "Estimating biases using als...\n",
      "Estimating biases using als...\n",
      "Estimating biases using als...\n",
      "Estimating biases using als...\n",
      "Estimating biases using als...\n",
      "Estimating biases using als...\n",
      "Estimating biases using als...\n",
      "Estimating biases using als...\n",
      "Estimating biases using als...\n",
      "Estimating biases using als...\n",
      "Estimating biases using als...\n",
      "Estimating biases using als...\n",
      "Estimating biases using als...\n",
      "Estimating biases using als...\n",
      "Estimating biases using als...\n",
      "Estimating biases using als...\n",
      "Estimating biases using als...\n",
      "Estimating biases using als...\n",
      "Estimating biases using als...\n",
      "Estimating biases using als...\n",
      "Estimating biases using als...\n",
      "Estimating biases using als...\n",
      "Estimating biases using als...\n",
      "Estimating biases using als...\n",
      "Estimating biases using als...\n",
      "Estimating biases using als...\n",
      "Estimating biases using als...\n",
      "Estimating biases using als...\n",
      "Estimating biases using als...\n",
      "Estimating biases using als...\n",
      "Estimating biases using als...\n",
      "Estimating biases using als...\n",
      "Estimating biases using als...\n",
      "Estimating biases using als...\n",
      "Estimating biases using als...\n",
      "Estimating biases using als...\n",
      "Estimating biases using als...\n",
      "Estimating biases using als...\n",
      "Estimating biases using als...\n",
      "Estimating biases using als...\n",
      "Estimating biases using als...\n",
      "Estimating biases using als...\n",
      "Estimating biases using als...\n",
      "Estimating biases using als...\n",
      "Estimating biases using als...\n",
      "Estimating biases using als...\n",
      "Estimating biases using als...\n",
      "Estimating biases using als...\n",
      "Estimating biases using als...\n",
      "Estimating biases using als...\n",
      "Estimating biases using als...\n",
      "Estimating biases using als...\n",
      "Estimating biases using als...\n",
      "Estimating biases using als...\n",
      "Estimating biases using als...\n",
      "Estimating biases using als...\n",
      "Estimating biases using als...\n",
      "Estimating biases using als...\n",
      "Estimating biases using als...\n",
      "Estimating biases using als...\n",
      "Estimating biases using als...\n",
      "Estimating biases using als...\n",
      "Estimating biases using als...\n",
      "Estimating biases using als...\n",
      "Estimating biases using als...\n",
      "Estimating biases using als...\n",
      "Estimating biases using als...\n",
      "Estimating biases using als...\n",
      "Estimating biases using als...\n",
      "Estimating biases using als...\n",
      "Estimating biases using als...\n",
      "Estimating biases using als...\n",
      "Estimating biases using als...\n",
      "Estimating biases using als...\n",
      "Estimating biases using als...\n",
      "Estimating biases using als...\n",
      "Estimating biases using als...\n",
      "Estimating biases using als...\n",
      "Estimating biases using als...\n",
      "Estimating biases using als...\n",
      "Estimating biases using als...\n",
      "Estimating biases using als...\n",
      "Estimating biases using als...\n",
      "Estimating biases using als...\n",
      "Estimating biases using als...\n",
      "Estimating biases using als...\n",
      "Estimating biases using als...\n",
      "Estimating biases using als...\n",
      "Estimating biases using als...\n",
      "Estimating biases using als...\n",
      "Estimating biases using als...\n",
      "Estimating biases using als...\n",
      "Estimating biases using als...\n",
      "Estimating biases using als...\n",
      "Estimating biases using als...\n",
      "Estimating biases using als...\n",
      "Estimating biases using als...\n",
      "Estimating biases using als...\n",
      "Estimating biases using als...\n",
      "Estimating biases using als...\n",
      "Estimating biases using als...\n",
      "Estimating biases using als...\n",
      "Estimating biases using als...\n",
      "Estimating biases using als...\n",
      "Estimating biases using als...\n",
      "Estimating biases using als...\n",
      "Estimating biases using als...\n",
      "Estimating biases using als...\n",
      "Estimating biases using als...\n",
      "Estimating biases using als...\n",
      "Estimating biases using als...\n",
      "Estimating biases using als...\n",
      "Estimating biases using als...\n",
      "Estimating biases using als...\n",
      "Estimating biases using als...\n",
      "Estimating biases using als...\n",
      "Estimating biases using als...\n",
      "Estimating biases using als...\n",
      "Estimating biases using als...\n",
      "Estimating biases using als...\n",
      "Estimating biases using als...\n",
      "Estimating biases using als...\n",
      "Estimating biases using als...\n",
      "Estimating biases using als...\n",
      "Estimating biases using als...\n",
      "Estimating biases using als...\n",
      "Estimating biases using als...\n",
      "Estimating biases using als...\n",
      "Estimating biases using als...\n",
      "Estimating biases using als...\n"
     ]
    }
   ],
   "source": [
    "#On the previous run we had an optimum result at 18, 8, 3. Lets reduce the range for reg_u and reg_i to see if there\n",
    "#is any room for improvement. \n",
    "epochs = [15, 18, 20, 25]\n",
    "reg_u = [3, 5, 8, 12, 15]\n",
    "reg_i = [2, 3, 4, 5]\n",
    "\n",
    "params = [[i, j, k] for i in epochs\n",
    "        for j in reg_u\n",
    "        for k in reg_i]\n",
    "print('Possible hyperparameter permutations: ', len(params))\n",
    "\n",
    "\n",
    "bsl_options_scores = {}\n",
    "\n",
    "\n",
    "for bsl_perm in params:\n",
    "    bsl_options = {'method': 'als', \n",
    "                  'n_epochs': bsl_perm[0],\n",
    "                  'reg_u': bsl_perm[1],\n",
    "                  'reg_i': bsl_perm[2]}\n",
    "    \n",
    "    algo = baseline_only.BaselineOnly(bsl_options=bsl_options)\n",
    "    a = cross_validate(algo, data, measures=['RMSE'], cv=5, return_train_measures=True, verbose=False);\n",
    "    \n",
    "    bsl_perm_2 = (str(bsl_perm[0]) + ' ' + str(bsl_perm[1]) + ' ' + str(bsl_perm[2]))\n",
    "    bsl_options_scores[bsl_perm_2] = {'mean_train_rmse': a['train_rmse'].mean(), 'mean_test_rmse': a['test_rmse'].mean()}"
   ]
  },
  {
   "cell_type": "code",
   "execution_count": 39,
   "metadata": {},
   "outputs": [
    {
     "data": {
      "text/plain": [
       "[['15 3 2',\n",
       "  {'mean_train_rmse': 0.7346743978013822,\n",
       "   'mean_test_rmse': 0.887624566023487}],\n",
       " ['25 3 2',\n",
       "  {'mean_train_rmse': 0.734952060810619,\n",
       "   'mean_test_rmse': 0.8851111652394252}],\n",
       " ['18 3 2',\n",
       "  {'mean_train_rmse': 0.7351219351587964,\n",
       "   'mean_test_rmse': 0.8851577077794598}],\n",
       " ['20 3 2',\n",
       "  {'mean_train_rmse': 0.735233825472174,\n",
       "   'mean_test_rmse': 0.8824767192739555}],\n",
       " ['25 5 2',\n",
       "  {'mean_train_rmse': 0.7381778248159103,\n",
       "   'mean_test_rmse': 0.8825719051940573}],\n",
       " ['20 5 2',\n",
       "  {'mean_train_rmse': 0.7382587775642508,\n",
       "   'mean_test_rmse': 0.8827727847750341}],\n",
       " ['15 5 2',\n",
       "  {'mean_train_rmse': 0.7383803927995208,\n",
       "   'mean_test_rmse': 0.8817165869468809}],\n",
       " ['18 5 2',\n",
       "  {'mean_train_rmse': 0.7384165546271196,\n",
       "   'mean_test_rmse': 0.8821348687122809}],\n",
       " ['15 8 2',\n",
       "  {'mean_train_rmse': 0.7426733452579339,\n",
       "   'mean_test_rmse': 0.8808194209822862}],\n",
       " ['20 8 2',\n",
       "  {'mean_train_rmse': 0.7427204734449324,\n",
       "   'mean_test_rmse': 0.8809803201560745}]]"
      ]
     },
     "execution_count": 39,
     "metadata": {},
     "output_type": "execute_result"
    }
   ],
   "source": [
    "sorted([[k, v] for k, v in bsl_options_scores.items()], key = lambda x: x[1]['mean_train_rmse'])[:10]"
   ]
  },
  {
   "cell_type": "markdown",
   "metadata": {},
   "source": [
    "The attempt to improve the hyperparameters did not yield any improved results. in fact training data is slightly more overfit and the test RMSE is slightly worse. \n",
    "So we can progress using the preferred ALS model based filter as our current optimum model. "
   ]
  },
  {
   "cell_type": "code",
   "execution_count": 40,
   "metadata": {},
   "outputs": [
    {
     "name": "stdout",
     "output_type": "stream",
     "text": [
      "Estimating biases using als...\n",
      "Estimating biases using als...\n",
      "Estimating biases using als...\n",
      "Estimating biases using als...\n",
      "Estimating biases using als...\n",
      "Evaluating RMSE of algorithm BaselineOnly on 5 split(s).\n",
      "\n",
      "                  Fold 1  Fold 2  Fold 3  Fold 4  Fold 5  Mean    Std     \n",
      "RMSE (testset)    0.9029  0.9034  0.8868  0.8687  0.8826  0.8889  0.0131  \n",
      "RMSE (trainset)   0.8067  0.8049  0.8102  0.8146  0.8112  0.8095  0.0034  \n",
      "Fit time          0.02    0.01    0.01    0.01    0.01    0.01    0.00    \n",
      "Test time         0.01    0.01    0.01    0.01    0.01    0.01    0.00    \n"
     ]
    }
   ],
   "source": [
    "#Let's run a cross validation based on the preferred ALS hyperparamters. \n",
    "best_bsl_option = {'method': 'als', \n",
    "                   'n_epochs': 15,\n",
    "                   'reg_u': 8, \n",
    "                   'reg_iu': 2}\n",
    "\n",
    "best_algo = baseline_only.BaselineOnly(bsl_options=best_bsl_option)\n",
    "best_cv = cross_validate(best_algo, data, measures=['rmse'], cv=5, verbose=True, return_train_measures=True)"
   ]
  },
  {
   "cell_type": "markdown",
   "metadata": {},
   "source": [
    "## Model Predictions and Evaluation"
   ]
  },
  {
   "cell_type": "code",
   "execution_count": 41,
   "metadata": {},
   "outputs": [
    {
     "name": "stdout",
     "output_type": "stream",
     "text": [
      "Estimating biases using als...\n"
     ]
    },
    {
     "data": {
      "text/plain": [
       "<surprise.prediction_algorithms.baseline_only.BaselineOnly at 0x1a22da8dd8>"
      ]
     },
     "execution_count": 41,
     "metadata": {},
     "output_type": "execute_result"
    }
   ],
   "source": [
    "#we now retrain on the whole training set ie training and validation together!\n",
    "trainset = data.build_full_trainset()\n",
    "best_algo.fit(trainset)"
   ]
  },
  {
   "cell_type": "code",
   "execution_count": 42,
   "metadata": {},
   "outputs": [],
   "source": [
    "# testset = data.construct_testset(test_raw_ratings) #testset is now the test set sample as created at top of page\n",
    "# predictions = best_algo.test(testset)\n",
    "# print('Test set accuracy is: ', end=' ')\n",
    "# accuracy.rmse(predictions)"
   ]
  },
  {
   "cell_type": "code",
   "execution_count": 43,
   "metadata": {},
   "outputs": [
    {
     "name": "stdout",
     "output_type": "stream",
     "text": [
      "RMSE: 0.8976\n",
      "Validation set accuracy is: 0.8975752751252586\n"
     ]
    }
   ],
   "source": [
    "valset = data.construct_testset(val_raw_ratings)\n",
    "predictions = best_algo.test(valset)\n",
    "print('Validation set accuracy is: {}' .format(accuracy.rmse(predictions)))"
   ]
  },
  {
   "cell_type": "markdown",
   "metadata": {},
   "source": [
    "Using our original dataframe we can now undertake a quick comparison to see how our model would predict a small sample of from these know values. "
   ]
  },
  {
   "cell_type": "code",
   "execution_count": 44,
   "metadata": {},
   "outputs": [
    {
     "data": {
      "text/html": [
       "<div>\n",
       "<style scoped>\n",
       "    .dataframe tbody tr th:only-of-type {\n",
       "        vertical-align: middle;\n",
       "    }\n",
       "\n",
       "    .dataframe tbody tr th {\n",
       "        vertical-align: top;\n",
       "    }\n",
       "\n",
       "    .dataframe thead th {\n",
       "        text-align: right;\n",
       "    }\n",
       "</style>\n",
       "<table border=\"1\" class=\"dataframe\">\n",
       "  <thead>\n",
       "    <tr style=\"text-align: right;\">\n",
       "      <th></th>\n",
       "      <th>user_ref</th>\n",
       "      <th>business_ref</th>\n",
       "      <th>stars</th>\n",
       "    </tr>\n",
       "  </thead>\n",
       "  <tbody>\n",
       "    <tr>\n",
       "      <th>0</th>\n",
       "      <td>246</td>\n",
       "      <td>68</td>\n",
       "      <td>5</td>\n",
       "    </tr>\n",
       "    <tr>\n",
       "      <th>1</th>\n",
       "      <td>146572</td>\n",
       "      <td>68</td>\n",
       "      <td>4</td>\n",
       "    </tr>\n",
       "    <tr>\n",
       "      <th>2</th>\n",
       "      <td>211139</td>\n",
       "      <td>68</td>\n",
       "      <td>3</td>\n",
       "    </tr>\n",
       "    <tr>\n",
       "      <th>3</th>\n",
       "      <td>260271</td>\n",
       "      <td>68</td>\n",
       "      <td>4</td>\n",
       "    </tr>\n",
       "    <tr>\n",
       "      <th>4</th>\n",
       "      <td>491834</td>\n",
       "      <td>68</td>\n",
       "      <td>5</td>\n",
       "    </tr>\n",
       "    <tr>\n",
       "      <th>5</th>\n",
       "      <td>1168645</td>\n",
       "      <td>68</td>\n",
       "      <td>4</td>\n",
       "    </tr>\n",
       "    <tr>\n",
       "      <th>6</th>\n",
       "      <td>35710</td>\n",
       "      <td>380</td>\n",
       "      <td>5</td>\n",
       "    </tr>\n",
       "    <tr>\n",
       "      <th>7</th>\n",
       "      <td>77088</td>\n",
       "      <td>380</td>\n",
       "      <td>4</td>\n",
       "    </tr>\n",
       "    <tr>\n",
       "      <th>8</th>\n",
       "      <td>438436</td>\n",
       "      <td>380</td>\n",
       "      <td>5</td>\n",
       "    </tr>\n",
       "    <tr>\n",
       "      <th>9</th>\n",
       "      <td>590862</td>\n",
       "      <td>380</td>\n",
       "      <td>4</td>\n",
       "    </tr>\n",
       "  </tbody>\n",
       "</table>\n",
       "</div>"
      ],
      "text/plain": [
       "   user_ref  business_ref  stars\n",
       "0       246            68      5\n",
       "1    146572            68      4\n",
       "2    211139            68      3\n",
       "3    260271            68      4\n",
       "4    491834            68      5\n",
       "5   1168645            68      4\n",
       "6     35710           380      5\n",
       "7     77088           380      4\n",
       "8    438436           380      5\n",
       "9    590862           380      4"
      ]
     },
     "execution_count": 44,
     "metadata": {},
     "output_type": "execute_result"
    }
   ],
   "source": [
    "ratings.head(10)"
   ]
  },
  {
   "cell_type": "code",
   "execution_count": 45,
   "metadata": {},
   "outputs": [
    {
     "data": {
      "text/plain": [
       "(12552, 3)"
      ]
     },
     "execution_count": 45,
     "metadata": {},
     "output_type": "execute_result"
    }
   ],
   "source": [
    "ratings.shape"
   ]
  },
  {
   "cell_type": "markdown",
   "metadata": {},
   "source": [
    "Now we can call our model and see what we would predict each user would rate for the given businesses. "
   ]
  },
  {
   "cell_type": "code",
   "execution_count": 46,
   "metadata": {
    "scrolled": true
   },
   "outputs": [
    {
     "name": "stdout",
     "output_type": "stream",
     "text": [
      "246    68     5     3.84     1.16\n",
      "146572    68     4     4.18     0.18\n",
      "211139    68     3     3.89     0.89\n",
      "260271    68     4     3.74     0.26\n",
      "491834    68     5     3.57     1.43\n",
      "1168645    68     4     3.67     0.33\n",
      "35710    380     5     4.1     0.9\n",
      "77088    380     4     4.07     0.07\n",
      "438436    380     5     4.21     0.79\n",
      "590862    380     4     3.86     0.14\n"
     ]
    }
   ],
   "source": [
    "for i in range(10):\n",
    "    prediction = round(best_algo.predict(uid = ratings.user_ref[i], iid = ratings.business_ref[i])[3], 2)\n",
    "    print(ratings.user_ref[i], '  ', ratings.business_ref[i], '   ', ratings.stars[i], '   ', \n",
    "         prediction, '   ', round(abs(ratings.stars[i]-prediction), 2))"
   ]
  },
  {
   "cell_type": "markdown",
   "metadata": {},
   "source": [
    "### Create table to show accuracy of current collaborative model"
   ]
  },
  {
   "cell_type": "code",
   "execution_count": 47,
   "metadata": {},
   "outputs": [
    {
     "data": {
      "text/html": [
       "<div>\n",
       "<style scoped>\n",
       "    .dataframe tbody tr th:only-of-type {\n",
       "        vertical-align: middle;\n",
       "    }\n",
       "\n",
       "    .dataframe tbody tr th {\n",
       "        vertical-align: top;\n",
       "    }\n",
       "\n",
       "    .dataframe thead th {\n",
       "        text-align: right;\n",
       "    }\n",
       "</style>\n",
       "<table border=\"1\" class=\"dataframe\">\n",
       "  <thead>\n",
       "    <tr style=\"text-align: right;\">\n",
       "      <th></th>\n",
       "      <th>user_ref</th>\n",
       "      <th>business_ref</th>\n",
       "      <th>stars</th>\n",
       "      <th>Prediction</th>\n",
       "      <th>Difference</th>\n",
       "    </tr>\n",
       "  </thead>\n",
       "  <tbody>\n",
       "    <tr>\n",
       "      <th>0</th>\n",
       "      <td>246</td>\n",
       "      <td>68</td>\n",
       "      <td>5</td>\n",
       "      <td>3.84</td>\n",
       "      <td>1.16</td>\n",
       "    </tr>\n",
       "    <tr>\n",
       "      <th>1</th>\n",
       "      <td>146572</td>\n",
       "      <td>68</td>\n",
       "      <td>4</td>\n",
       "      <td>4.18</td>\n",
       "      <td>0.18</td>\n",
       "    </tr>\n",
       "    <tr>\n",
       "      <th>2</th>\n",
       "      <td>211139</td>\n",
       "      <td>68</td>\n",
       "      <td>3</td>\n",
       "      <td>3.89</td>\n",
       "      <td>0.89</td>\n",
       "    </tr>\n",
       "    <tr>\n",
       "      <th>3</th>\n",
       "      <td>260271</td>\n",
       "      <td>68</td>\n",
       "      <td>4</td>\n",
       "      <td>3.74</td>\n",
       "      <td>0.26</td>\n",
       "    </tr>\n",
       "    <tr>\n",
       "      <th>4</th>\n",
       "      <td>491834</td>\n",
       "      <td>68</td>\n",
       "      <td>5</td>\n",
       "      <td>3.57</td>\n",
       "      <td>1.43</td>\n",
       "    </tr>\n",
       "    <tr>\n",
       "      <th>5</th>\n",
       "      <td>1168645</td>\n",
       "      <td>68</td>\n",
       "      <td>4</td>\n",
       "      <td>3.67</td>\n",
       "      <td>0.33</td>\n",
       "    </tr>\n",
       "    <tr>\n",
       "      <th>6</th>\n",
       "      <td>35710</td>\n",
       "      <td>380</td>\n",
       "      <td>5</td>\n",
       "      <td>4.10</td>\n",
       "      <td>0.90</td>\n",
       "    </tr>\n",
       "    <tr>\n",
       "      <th>7</th>\n",
       "      <td>77088</td>\n",
       "      <td>380</td>\n",
       "      <td>4</td>\n",
       "      <td>4.07</td>\n",
       "      <td>0.07</td>\n",
       "    </tr>\n",
       "    <tr>\n",
       "      <th>8</th>\n",
       "      <td>438436</td>\n",
       "      <td>380</td>\n",
       "      <td>5</td>\n",
       "      <td>4.21</td>\n",
       "      <td>0.79</td>\n",
       "    </tr>\n",
       "    <tr>\n",
       "      <th>9</th>\n",
       "      <td>590862</td>\n",
       "      <td>380</td>\n",
       "      <td>4</td>\n",
       "      <td>3.86</td>\n",
       "      <td>0.14</td>\n",
       "    </tr>\n",
       "  </tbody>\n",
       "</table>\n",
       "</div>"
      ],
      "text/plain": [
       "   user_ref  business_ref  stars  Prediction  Difference\n",
       "0       246            68      5        3.84        1.16\n",
       "1    146572            68      4        4.18        0.18\n",
       "2    211139            68      3        3.89        0.89\n",
       "3    260271            68      4        3.74        0.26\n",
       "4    491834            68      5        3.57        1.43\n",
       "5   1168645            68      4        3.67        0.33\n",
       "6     35710           380      5        4.10        0.90\n",
       "7     77088           380      4        4.07        0.07\n",
       "8    438436           380      5        4.21        0.79\n",
       "9    590862           380      4        3.86        0.14"
      ]
     },
     "execution_count": 47,
     "metadata": {},
     "output_type": "execute_result"
    }
   ],
   "source": [
    "\n",
    "pred_df = ratings.copy().head(10)\n",
    "d = pd.DataFrame()\n",
    "\n",
    "for i in range(10):\n",
    "    prediction = round(best_algo.predict(uid = ratings.user_ref[i], iid = ratings.business_ref[i])[3], 2)\n",
    "    difference = round(abs(ratings.stars[i]-prediction), 2)\n",
    "#     print(ratings.user_ref[i], '  ', ratings.business_ref[i], '   ', ratings.stars[i], '   ', \n",
    "#          prediction, '   ', difference)\n",
    "    \n",
    "    temp = pd.DataFrame(\n",
    "        {\n",
    "            'Prediction': prediction,\n",
    "            'Difference': difference\n",
    "        \n",
    "        }, \n",
    "        index=[0]\n",
    "    \n",
    "    \n",
    "    )\n",
    "    \n",
    "    d = pd.concat([d, temp], axis=0)\n",
    "    \n",
    "    \n",
    "    \n",
    "d = d.reset_index().drop(columns =['index'])\n",
    "\n",
    "pred_acc = pd.concat([pred_df, d], axis=1)\n",
    "pred_acc\n"
   ]
  },
  {
   "cell_type": "markdown",
   "metadata": {},
   "source": [
    "As expected there is some variance in our predictions and we are ~0.6 of a point out on average across this small sample. On the scale we're working with that's an average of ~15% error on average but in worst case predictions we are ~27% out on the real world value. There is clearly some room for improvement here and we shall investigate further in the next phase of the project. "
   ]
  },
  {
   "cell_type": "markdown",
   "metadata": {},
   "source": [
    "## Build our base Recommenders"
   ]
  },
  {
   "cell_type": "markdown",
   "metadata": {},
   "source": [
    "We'll progress to make a simple recommender based on this model. \n",
    "The following recommender may be a little crude for the purposes of recommending restaurants however it is a good kicking off point. It works by asking a new user to rate previous restaurants they may have visited and then offers them a basket of new restaurants that the may wish to visit.\n",
    "\n",
    "Future iterations of this model will likely ask a new user to rate how they feel about certain aspects of a restaurant that they would like to visits such as 'music', 'outdoor-seating', 'fish', 'chinese', 'cosy' etc etc. This approach together with taking the best rated / most popular restaurants will be one of the potential improvements that could be made. "
   ]
  },
  {
   "cell_type": "code",
   "execution_count": 48,
   "metadata": {},
   "outputs": [],
   "source": [
    "#We need to import a separate dataset to help with the next section. the dataframe should have three columns including\n",
    "#busniness_id, name, categories"
   ]
  },
  {
   "cell_type": "code",
   "execution_count": 49,
   "metadata": {},
   "outputs": [
    {
     "data": {
      "text/html": [
       "<div>\n",
       "<style scoped>\n",
       "    .dataframe tbody tr th:only-of-type {\n",
       "        vertical-align: middle;\n",
       "    }\n",
       "\n",
       "    .dataframe tbody tr th {\n",
       "        vertical-align: top;\n",
       "    }\n",
       "\n",
       "    .dataframe thead th {\n",
       "        text-align: right;\n",
       "    }\n",
       "</style>\n",
       "<table border=\"1\" class=\"dataframe\">\n",
       "  <thead>\n",
       "    <tr style=\"text-align: right;\">\n",
       "      <th></th>\n",
       "      <th>Unnamed: 0</th>\n",
       "      <th>business_id</th>\n",
       "      <th>name</th>\n",
       "      <th>neighborhood</th>\n",
       "      <th>address</th>\n",
       "      <th>city</th>\n",
       "      <th>state</th>\n",
       "      <th>postal_code</th>\n",
       "      <th>latitude</th>\n",
       "      <th>longitude</th>\n",
       "      <th>stars</th>\n",
       "      <th>review_count</th>\n",
       "      <th>is_open</th>\n",
       "      <th>categories</th>\n",
       "      <th>business_ref</th>\n",
       "    </tr>\n",
       "  </thead>\n",
       "  <tbody>\n",
       "    <tr>\n",
       "      <th>0</th>\n",
       "      <td>68</td>\n",
       "      <td>F31RycVVooeIOp9jsXmg6g</td>\n",
       "      <td>\"The Bluebird Cafe\"</td>\n",
       "      <td>Cannonmills</td>\n",
       "      <td>\"5 Canonmills\"</td>\n",
       "      <td>Edinburgh</td>\n",
       "      <td>MLN</td>\n",
       "      <td>EH3 5HA</td>\n",
       "      <td>55.962444</td>\n",
       "      <td>-3.197662</td>\n",
       "      <td>4.5</td>\n",
       "      <td>16</td>\n",
       "      <td>1</td>\n",
       "      <td>Breakfast &amp; Brunch;Diners;Restaurants;Cafes;Br...</td>\n",
       "      <td>68</td>\n",
       "    </tr>\n",
       "    <tr>\n",
       "      <th>1</th>\n",
       "      <td>380</td>\n",
       "      <td>inaACfObL1NBNJmBG11iuQ</td>\n",
       "      <td>\"Global Deli\"</td>\n",
       "      <td>Grassmarket</td>\n",
       "      <td>\"13 George IV Bridge, Old Town\"</td>\n",
       "      <td>Edinburgh</td>\n",
       "      <td>EDH</td>\n",
       "      <td>EH1 1EE</td>\n",
       "      <td>55.947960</td>\n",
       "      <td>-3.192143</td>\n",
       "      <td>4.0</td>\n",
       "      <td>13</td>\n",
       "      <td>1</td>\n",
       "      <td>Restaurants;Food;Sandwiches;Coffee &amp; Tea;Delis</td>\n",
       "      <td>380</td>\n",
       "    </tr>\n",
       "  </tbody>\n",
       "</table>\n",
       "</div>"
      ],
      "text/plain": [
       "   Unnamed: 0             business_id                 name neighborhood  \\\n",
       "0          68  F31RycVVooeIOp9jsXmg6g  \"The Bluebird Cafe\"  Cannonmills   \n",
       "1         380  inaACfObL1NBNJmBG11iuQ        \"Global Deli\"  Grassmarket   \n",
       "\n",
       "                           address       city state postal_code   latitude  \\\n",
       "0                   \"5 Canonmills\"  Edinburgh   MLN     EH3 5HA  55.962444   \n",
       "1  \"13 George IV Bridge, Old Town\"  Edinburgh   EDH     EH1 1EE  55.947960   \n",
       "\n",
       "   longitude  stars  review_count  is_open  \\\n",
       "0  -3.197662    4.5            16        1   \n",
       "1  -3.192143    4.0            13        1   \n",
       "\n",
       "                                          categories  business_ref  \n",
       "0  Breakfast & Brunch;Diners;Restaurants;Cafes;Br...            68  \n",
       "1     Restaurants;Food;Sandwiches;Coffee & Tea;Delis           380  "
      ]
     },
     "execution_count": 49,
     "metadata": {},
     "output_type": "execute_result"
    }
   ],
   "source": [
    "restaurants = pd.read_csv('../data/new_restaurants.csv')\n",
    "# print(restaurants.columns)\n",
    "restaurants.head(2)"
   ]
  },
  {
   "cell_type": "code",
   "execution_count": 50,
   "metadata": {},
   "outputs": [
    {
     "data": {
      "text/plain": [
       "'\"Hanedan\"'"
      ]
     },
     "execution_count": 50,
     "metadata": {},
     "output_type": "execute_result"
    }
   ],
   "source": [
    "restaurants.name.loc[1532] #our restaurant names have extra punctuation that needs removing. "
   ]
  },
  {
   "cell_type": "code",
   "execution_count": 51,
   "metadata": {},
   "outputs": [],
   "source": [
    "restaurants.name = restaurants.name.str.replace('[^\\w\\s]', '')"
   ]
  },
  {
   "cell_type": "code",
   "execution_count": 52,
   "metadata": {},
   "outputs": [
    {
     "data": {
      "text/plain": [
       "'Hanedan'"
      ]
     },
     "execution_count": 52,
     "metadata": {},
     "output_type": "execute_result"
    }
   ],
   "source": [
    "restaurants.name.loc[1532]"
   ]
  },
  {
   "cell_type": "code",
   "execution_count": 53,
   "metadata": {},
   "outputs": [
    {
     "data": {
      "text/html": [
       "<div>\n",
       "<style scoped>\n",
       "    .dataframe tbody tr th:only-of-type {\n",
       "        vertical-align: middle;\n",
       "    }\n",
       "\n",
       "    .dataframe tbody tr th {\n",
       "        vertical-align: top;\n",
       "    }\n",
       "\n",
       "    .dataframe thead th {\n",
       "        text-align: right;\n",
       "    }\n",
       "</style>\n",
       "<table border=\"1\" class=\"dataframe\">\n",
       "  <thead>\n",
       "    <tr style=\"text-align: right;\">\n",
       "      <th></th>\n",
       "      <th>business_ref</th>\n",
       "      <th>name</th>\n",
       "      <th>categories</th>\n",
       "    </tr>\n",
       "  </thead>\n",
       "  <tbody>\n",
       "    <tr>\n",
       "      <th>0</th>\n",
       "      <td>68</td>\n",
       "      <td>The Bluebird Cafe</td>\n",
       "      <td>Breakfast &amp; Brunch, Diners, Restaurants, Cafes...</td>\n",
       "    </tr>\n",
       "    <tr>\n",
       "      <th>1</th>\n",
       "      <td>380</td>\n",
       "      <td>Global Deli</td>\n",
       "      <td>Restaurants, Food, Sandwiches, Coffee &amp; Tea, D...</td>\n",
       "    </tr>\n",
       "  </tbody>\n",
       "</table>\n",
       "</div>"
      ],
      "text/plain": [
       "   business_ref               name  \\\n",
       "0            68  The Bluebird Cafe   \n",
       "1           380        Global Deli   \n",
       "\n",
       "                                          categories  \n",
       "0  Breakfast & Brunch, Diners, Restaurants, Cafes...  \n",
       "1  Restaurants, Food, Sandwiches, Coffee & Tea, D...  "
      ]
     },
     "execution_count": 53,
     "metadata": {},
     "output_type": "execute_result"
    }
   ],
   "source": [
    "rests = restaurants[['business_ref', 'name', 'categories']].replace({';':', '}, regex=True)\n",
    "rests.head(2)"
   ]
  },
  {
   "cell_type": "code",
   "execution_count": 54,
   "metadata": {},
   "outputs": [
    {
     "name": "stdout",
     "output_type": "stream",
     "text": [
      "     business_ref           name            categories\n",
      "880         98319  Tony Macaroni  Italian, Restaurants\n",
      "how do you rate this restaurant on a scale of 1-5, press n if you don't know:\n",
      "3\n",
      "     business_ref           name                   categories\n",
      "538         58081  Pizza Express  Restaurants, Italian, Pizza\n",
      "how do you rate this restaurant on a scale of 1-5, press n if you don't know:\n",
      "2\n",
      "      business_ref       name                                  categories\n",
      "1598        174041  Pizza Hut  Restaurants, Pizza, Chicken Wings, Italian\n",
      "how do you rate this restaurant on a scale of 1-5, press n if you don't know:\n",
      "2\n",
      "     business_ref             name                      categories\n",
      "896         99417  The Castle Cafe  Italian, Restaurants, Scottish\n",
      "how do you rate this restaurant on a scale of 1-5, press n if you don't know:\n",
      "4\n",
      "      business_ref            name            categories\n",
      "1494        162231  Antonios Pizza  Restaurants, Italian\n",
      "how do you rate this restaurant on a scale of 1-5, press n if you don't know:\n",
      "3\n"
     ]
    }
   ],
   "source": [
    "def restaurant_rater(df, num, category=None):\n",
    "    userID = 2011\n",
    "    ratings_info = []\n",
    "    \n",
    "    while num > 0:\n",
    "        if category:\n",
    "            restaurant = df[df['categories'].str.contains(category)].sample(1)\n",
    "        else:\n",
    "            restaurant = df.sample(1)\n",
    "        print(restaurant)\n",
    "        rating = input(\"how do you rate this restaurant on a scale of 1-5, press n if you don't know:\\n\")\n",
    "        \n",
    "        if rating == 'n':\n",
    "            continue\n",
    "        else: \n",
    "            rating_one_restaurant = {'user_ref': userID, 'business_ref':restaurant['business_ref'].values[0],\n",
    "                                     'stars': rating}\n",
    "            ratings_info.append(rating_one_restaurant)\n",
    "            num-=1\n",
    "    return ratings_info\n",
    "\n",
    "user_rating = restaurant_rater(rests, 5, 'Italian')"
   ]
  },
  {
   "cell_type": "code",
   "execution_count": 55,
   "metadata": {},
   "outputs": [],
   "source": [
    "new_ratings_df = ratings.append(user_rating, ignore_index=True)\n",
    "new_data = Dataset.load_from_df(new_ratings_df, reader)"
   ]
  },
  {
   "cell_type": "code",
   "execution_count": 88,
   "metadata": {},
   "outputs": [
    {
     "data": {
      "text/plain": [
       "<surprise.prediction_algorithms.matrix_factorization.SVD at 0x1a1da43710>"
      ]
     },
     "execution_count": 88,
     "metadata": {},
     "output_type": "execute_result"
    }
   ],
   "source": [
    "# svd_ = SVD(n_factors=5, reg_all=0.02)\n",
    "# svd_.fit(new_data.build_full_trainset())"
   ]
  },
  {
   "cell_type": "code",
   "execution_count": 56,
   "metadata": {},
   "outputs": [
    {
     "name": "stdout",
     "output_type": "stream",
     "text": [
      "Estimating biases using als...\n"
     ]
    },
    {
     "data": {
      "text/plain": [
       "<surprise.prediction_algorithms.baseline_only.BaselineOnly at 0x1a22da8dd8>"
      ]
     },
     "execution_count": 56,
     "metadata": {},
     "output_type": "execute_result"
    }
   ],
   "source": [
    "best_algo.fit(new_data.build_full_trainset())"
   ]
  },
  {
   "cell_type": "code",
   "execution_count": 57,
   "metadata": {},
   "outputs": [],
   "source": [
    "list_of_restaurants = []\n",
    "for rest in ratings['business_ref'].unique():\n",
    "    list_of_restaurants.append((rest, best_algo.predict(2011,rest)[3]))"
   ]
  },
  {
   "cell_type": "code",
   "execution_count": 58,
   "metadata": {},
   "outputs": [
    {
     "data": {
      "text/plain": [
       "[(49357, 4.135841204466745),\n",
       " (85492, 4.108243208390912),\n",
       " (166894, 4.1059199729646085),\n",
       " (99404, 4.084869516136566),\n",
       " (10769, 4.0409355647297),\n",
       " (157250, 4.022618660147958),\n",
       " (70513, 4.021609647691692),\n",
       " (124483, 4.015579103869256),\n",
       " (134710, 4.00556951944482),\n",
       " (59942, 3.9914605530472445)]"
      ]
     },
     "execution_count": 58,
     "metadata": {},
     "output_type": "execute_result"
    }
   ],
   "source": [
    "ranked_recommended = sorted(list_of_restaurants, key=lambda x:x[1], reverse=True)\n",
    "ranked_recommended[:10]"
   ]
  },
  {
   "cell_type": "markdown",
   "metadata": {},
   "source": [
    "And now we want to be able to return the actual restaurant names not just the id's from the ratings df. We'll write a function to extract this information. "
   ]
  },
  {
   "cell_type": "code",
   "execution_count": 59,
   "metadata": {},
   "outputs": [
    {
     "name": "stdout",
     "output_type": "stream",
     "text": [
      "Recommendation #  1 :  450    Martin Wishart\n",
      "Name: name, dtype: object \n",
      "\n",
      "Recommendation #  2 :  773    Field\n",
      "Name: name, dtype: object \n",
      "\n",
      "Recommendation #  3 :  1532    Hanedan\n",
      "Name: name, dtype: object \n",
      "\n",
      "Recommendation #  4 :  895    The Scotch Malt Whisky Society\n",
      "Name: name, dtype: object \n",
      "\n",
      "Recommendation #  5 :  95    Royal Mile\n",
      "Name: name, dtype: object \n",
      "\n",
      "Recommendation #  6 :  1448    Patisserie Madeleine\n",
      "Name: name, dtype: object \n",
      "\n",
      "Recommendation #  7 :  653    Hotel Chocolat Cafe\n",
      "Name: name, dtype: object \n",
      "\n",
      "Recommendation #  8 :  1151    Oink\n",
      "Name: name, dtype: object \n",
      "\n",
      "Recommendation #  9 :  1253    Noor Indian Takeaway\n",
      "Name: name, dtype: object \n",
      "\n",
      "Recommendation #  10 :  563    Blackwoods Bar  Grill\n",
      "Name: name, dtype: object \n",
      "\n"
     ]
    }
   ],
   "source": [
    "# return the top n recommendations \n",
    "def restaurant_recommender(user_ratings, restaurant_name_df, n):\n",
    "    '''\n",
    "    function returns the top recommended restaurants\n",
    "    '''\n",
    "    for index, rec in enumerate(user_ratings):\n",
    "        name = restaurant_name_df.loc[restaurant_name_df['business_ref'] == int(rec[0])]['name']\n",
    "        print('Recommendation # ', index+1, ': ', name, '\\n')\n",
    "        n-=1\n",
    "        if n == 0:\n",
    "            break\n",
    "restaurant_recommender(ranked_recommended, rests, 10)"
   ]
  },
  {
   "cell_type": "markdown",
   "metadata": {},
   "source": []
  },
  {
   "cell_type": "markdown",
   "metadata": {},
   "source": [
    "After a number of runs we are consistently being returned the same or similar list of recommendation. We suspect that only asking for five ratings is not having enough impact in the sparse matrix and we are simply being recommended the highest rated and or most popular restaurants in the area. Let's test this theory...."
   ]
  },
  {
   "cell_type": "code",
   "execution_count": 61,
   "metadata": {},
   "outputs": [
    {
     "data": {
      "text/html": [
       "<div>\n",
       "<style scoped>\n",
       "    .dataframe tbody tr th:only-of-type {\n",
       "        vertical-align: middle;\n",
       "    }\n",
       "\n",
       "    .dataframe tbody tr th {\n",
       "        vertical-align: top;\n",
       "    }\n",
       "\n",
       "    .dataframe thead th {\n",
       "        text-align: right;\n",
       "    }\n",
       "</style>\n",
       "<table border=\"1\" class=\"dataframe\">\n",
       "  <thead>\n",
       "    <tr style=\"text-align: right;\">\n",
       "      <th></th>\n",
       "      <th>Unnamed: 0</th>\n",
       "      <th>business_id</th>\n",
       "      <th>name</th>\n",
       "      <th>neighborhood</th>\n",
       "      <th>address</th>\n",
       "      <th>city</th>\n",
       "      <th>state</th>\n",
       "      <th>postal_code</th>\n",
       "      <th>latitude</th>\n",
       "      <th>longitude</th>\n",
       "      <th>stars</th>\n",
       "      <th>review_count</th>\n",
       "      <th>is_open</th>\n",
       "      <th>categories</th>\n",
       "      <th>business_ref</th>\n",
       "    </tr>\n",
       "  </thead>\n",
       "  <tbody>\n",
       "    <tr>\n",
       "      <th>1532</th>\n",
       "      <td>166894</td>\n",
       "      <td>WAMesuyxdmL3SRigsxlXng</td>\n",
       "      <td>Hanedan</td>\n",
       "      <td>Newington</td>\n",
       "      <td>\"41-42 West Preston Street\"</td>\n",
       "      <td>Edinburgh</td>\n",
       "      <td>EDH</td>\n",
       "      <td>EH8 9PY</td>\n",
       "      <td>55.938891</td>\n",
       "      <td>-3.181186</td>\n",
       "      <td>5.0</td>\n",
       "      <td>57</td>\n",
       "      <td>1</td>\n",
       "      <td>Turkish;Restaurants</td>\n",
       "      <td>166894</td>\n",
       "    </tr>\n",
       "  </tbody>\n",
       "</table>\n",
       "</div>"
      ],
      "text/plain": [
       "      Unnamed: 0             business_id     name neighborhood  \\\n",
       "1532      166894  WAMesuyxdmL3SRigsxlXng  Hanedan    Newington   \n",
       "\n",
       "                          address       city state postal_code   latitude  \\\n",
       "1532  \"41-42 West Preston Street\"  Edinburgh   EDH     EH8 9PY  55.938891   \n",
       "\n",
       "      longitude  stars  review_count  is_open           categories  \\\n",
       "1532  -3.181186    5.0            57        1  Turkish;Restaurants   \n",
       "\n",
       "      business_ref  \n",
       "1532        166894  "
      ]
     },
     "execution_count": 61,
     "metadata": {},
     "output_type": "execute_result"
    }
   ],
   "source": [
    "#We're getting similar recommendations for every run - let's look at the individual restaurants\n",
    "restaurants[restaurants['name'].str.match('Hanedan')]"
   ]
  },
  {
   "cell_type": "markdown",
   "metadata": {},
   "source": [
    "So Hanedan has an average 5 stars and has a high review count in relation to the whole set. This implies our theory might be relevant so let's check all the restaurants in the top ranked set."
   ]
  },
  {
   "cell_type": "code",
   "execution_count": 62,
   "metadata": {},
   "outputs": [
    {
     "data": {
      "text/plain": [
       "[49357, 85492, 166894, 99404, 10769, 157250, 70513, 124483, 134710, 59942]"
      ]
     },
     "execution_count": 62,
     "metadata": {},
     "output_type": "execute_result"
    }
   ],
   "source": [
    "#extract the business refs in ranked_recommended\n",
    "ranked_refs = [x[0] for x in ranked_recommended[:10]]\n",
    "ranked_refs"
   ]
  },
  {
   "cell_type": "code",
   "execution_count": 63,
   "metadata": {},
   "outputs": [
    {
     "data": {
      "text/plain": [
       "['Royal Mile',\n",
       " 'Martin Wishart',\n",
       " 'Blackwoods Bar  Grill',\n",
       " 'Hotel Chocolat Cafe',\n",
       " 'Field',\n",
       " 'The Scotch Malt Whisky Society',\n",
       " 'Oink',\n",
       " 'Noor Indian Takeaway',\n",
       " 'Patisserie Madeleine',\n",
       " 'Hanedan']"
      ]
     },
     "execution_count": 63,
     "metadata": {},
     "output_type": "execute_result"
    }
   ],
   "source": [
    "#Return the names associated with these refs into a list\n",
    "rec_list = []\n",
    "for index, row in rests.iterrows():\n",
    "    if row['business_ref'] in ranked_refs:\n",
    "#         print(row['name'])\n",
    "        rec_list.append(row['name'])\n",
    "rec_list"
   ]
  },
  {
   "cell_type": "code",
   "execution_count": 64,
   "metadata": {},
   "outputs": [
    {
     "name": "stdout",
     "output_type": "stream",
     "text": [
      "Royal Mile has 4.5 stars and 99 reviews\n",
      "Martin Wishart has 5.0 stars and 24 reviews\n",
      "Blackwoods Bar  Grill has 4.5 stars and 12 reviews\n",
      "Hotel Chocolat Cafe has 4.5 stars and 45 reviews\n",
      "Field has 4.5 stars and 41 reviews\n",
      "The Scotch Malt Whisky Society has 5.0 stars and 26 reviews\n",
      "The Scotch Malt Whisky Society has 4.5 stars and 26 reviews\n",
      "Oink has 4.5 stars and 32 reviews\n",
      "Oink has 4.5 stars and 238 reviews\n",
      "Noor Indian Takeaway has 4.5 stars and 40 reviews\n",
      "Patisserie Madeleine has 5.0 stars and 21 reviews\n",
      "Hanedan has 5.0 stars and 57 reviews\n"
     ]
    }
   ],
   "source": [
    "for i in rec_list:\n",
    "    for index, row in restaurants.iterrows():\n",
    "        if row['name'] == i:\n",
    "            print(row['name'], 'has', row['stars'], 'stars and', row['review_count'], 'reviews')\n",
    "            "
   ]
  },
  {
   "cell_type": "markdown",
   "metadata": {},
   "source": [
    "We can see as suspected that all the recommended restaurants have a very high average rating and also high relative review counts. When recommendations are only based on a small user review set our collaborative recommender will normally just return the best restaurants in Edinburgh. This is currently operating as a basic cold start recommender. "
   ]
  },
  {
   "cell_type": "markdown",
   "metadata": {},
   "source": [
    "## Content Based Models\n",
    "### Get most similar restaurants based on categorical and review information"
   ]
  },
  {
   "cell_type": "code",
   "execution_count": 65,
   "metadata": {},
   "outputs": [],
   "source": [
    "import nltk\n",
    "from nltk.corpus import stopwords\n",
    "from nltk import word_tokenize, FreqDist\n",
    "from sklearn.feature_extraction.text import TfidfVectorizer\n",
    "import string\n",
    "import re"
   ]
  },
  {
   "cell_type": "code",
   "execution_count": 66,
   "metadata": {},
   "outputs": [],
   "source": [
    "from sklearn.decomposition import TruncatedSVD\n",
    "from sklearn.metrics.pairwise import linear_kernel"
   ]
  },
  {
   "cell_type": "code",
   "execution_count": 67,
   "metadata": {},
   "outputs": [
    {
     "name": "stdout",
     "output_type": "stream",
     "text": [
      "(1605, 6)\n"
     ]
    },
    {
     "data": {
      "text/html": [
       "<div>\n",
       "<style scoped>\n",
       "    .dataframe tbody tr th:only-of-type {\n",
       "        vertical-align: middle;\n",
       "    }\n",
       "\n",
       "    .dataframe tbody tr th {\n",
       "        vertical-align: top;\n",
       "    }\n",
       "\n",
       "    .dataframe thead th {\n",
       "        text-align: right;\n",
       "    }\n",
       "</style>\n",
       "<table border=\"1\" class=\"dataframe\">\n",
       "  <thead>\n",
       "    <tr style=\"text-align: right;\">\n",
       "      <th></th>\n",
       "      <th>Unnamed: 0</th>\n",
       "      <th>business_id</th>\n",
       "      <th>name</th>\n",
       "      <th>city</th>\n",
       "      <th>categories</th>\n",
       "      <th>text</th>\n",
       "    </tr>\n",
       "  </thead>\n",
       "  <tbody>\n",
       "    <tr>\n",
       "      <th>0</th>\n",
       "      <td>68</td>\n",
       "      <td>F31RycVVooeIOp9jsXmg6g</td>\n",
       "      <td>\"The Bluebird Cafe\"</td>\n",
       "      <td>Edinburgh</td>\n",
       "      <td>Breakfast &amp; Brunch, Diners, Restaurants, Cafes...</td>\n",
       "      <td>When Blythe told me he'd checked out a new spo...</td>\n",
       "    </tr>\n",
       "    <tr>\n",
       "      <th>1</th>\n",
       "      <td>380</td>\n",
       "      <td>inaACfObL1NBNJmBG11iuQ</td>\n",
       "      <td>\"Global Deli\"</td>\n",
       "      <td>Edinburgh</td>\n",
       "      <td>Restaurants, Food, Sandwiches, Coffee &amp; Tea, D...</td>\n",
       "      <td>Global Deli is a great find if you're feeling ...</td>\n",
       "    </tr>\n",
       "    <tr>\n",
       "      <th>2</th>\n",
       "      <td>397</td>\n",
       "      <td>Di5ApLgoQpcv5Aew82fI_A</td>\n",
       "      <td>\"The Rendezvous\"</td>\n",
       "      <td>Edinburgh</td>\n",
       "      <td>Restaurants, Cantonese, Chinese</td>\n",
       "      <td>Not been to this restaurant for about 2 years ...</td>\n",
       "    </tr>\n",
       "    <tr>\n",
       "      <th>3</th>\n",
       "      <td>420</td>\n",
       "      <td>OvbLKXkJCg8ZMHX9L5faIA</td>\n",
       "      <td>\"Bread Meats Bread\"</td>\n",
       "      <td>Edinburgh</td>\n",
       "      <td>Burgers, Restaurants</td>\n",
       "      <td>I know people rave about this place so I'm sur...</td>\n",
       "    </tr>\n",
       "    <tr>\n",
       "      <th>4</th>\n",
       "      <td>446</td>\n",
       "      <td>T2jfXhvQPk9wLdt1OVV-Kg</td>\n",
       "      <td>\"Rose Street Brewery\"</td>\n",
       "      <td>Edinburgh</td>\n",
       "      <td>Pubs, Whiskey Bars, Nightlife, Breakfast &amp; Bru...</td>\n",
       "      <td>One of many spots on Rose St. A good variety o...</td>\n",
       "    </tr>\n",
       "  </tbody>\n",
       "</table>\n",
       "</div>"
      ],
      "text/plain": [
       "   Unnamed: 0             business_id                   name       city  \\\n",
       "0          68  F31RycVVooeIOp9jsXmg6g    \"The Bluebird Cafe\"  Edinburgh   \n",
       "1         380  inaACfObL1NBNJmBG11iuQ          \"Global Deli\"  Edinburgh   \n",
       "2         397  Di5ApLgoQpcv5Aew82fI_A       \"The Rendezvous\"  Edinburgh   \n",
       "3         420  OvbLKXkJCg8ZMHX9L5faIA    \"Bread Meats Bread\"  Edinburgh   \n",
       "4         446  T2jfXhvQPk9wLdt1OVV-Kg  \"Rose Street Brewery\"  Edinburgh   \n",
       "\n",
       "                                          categories  \\\n",
       "0  Breakfast & Brunch, Diners, Restaurants, Cafes...   \n",
       "1  Restaurants, Food, Sandwiches, Coffee & Tea, D...   \n",
       "2                    Restaurants, Cantonese, Chinese   \n",
       "3                               Burgers, Restaurants   \n",
       "4  Pubs, Whiskey Bars, Nightlife, Breakfast & Bru...   \n",
       "\n",
       "                                                text  \n",
       "0  When Blythe told me he'd checked out a new spo...  \n",
       "1  Global Deli is a great find if you're feeling ...  \n",
       "2  Not been to this restaurant for about 2 years ...  \n",
       "3  I know people rave about this place so I'm sur...  \n",
       "4  One of many spots on Rose St. A good variety o...  "
      ]
     },
     "execution_count": 67,
     "metadata": {},
     "output_type": "execute_result"
    }
   ],
   "source": [
    "df = pd.read_csv('../data/content.csv')\n",
    "print(df.shape)\n",
    "df.head()"
   ]
  },
  {
   "cell_type": "markdown",
   "metadata": {},
   "source": [
    "For our minimum viable product we will utilise the categorical data to find similarities between restaurants. "
   ]
  },
  {
   "cell_type": "code",
   "execution_count": 68,
   "metadata": {},
   "outputs": [
    {
     "data": {
      "text/html": [
       "<div>\n",
       "<style scoped>\n",
       "    .dataframe tbody tr th:only-of-type {\n",
       "        vertical-align: middle;\n",
       "    }\n",
       "\n",
       "    .dataframe tbody tr th {\n",
       "        vertical-align: top;\n",
       "    }\n",
       "\n",
       "    .dataframe thead th {\n",
       "        text-align: right;\n",
       "    }\n",
       "</style>\n",
       "<table border=\"1\" class=\"dataframe\">\n",
       "  <thead>\n",
       "    <tr style=\"text-align: right;\">\n",
       "      <th></th>\n",
       "      <th>Unnamed: 0</th>\n",
       "      <th>business_id</th>\n",
       "      <th>name</th>\n",
       "      <th>city</th>\n",
       "      <th>categories</th>\n",
       "      <th>text</th>\n",
       "    </tr>\n",
       "  </thead>\n",
       "  <tbody>\n",
       "    <tr>\n",
       "      <th>0</th>\n",
       "      <td>68</td>\n",
       "      <td>F31RycVVooeIOp9jsXmg6g</td>\n",
       "      <td>\"The Bluebird Cafe\"</td>\n",
       "      <td>Edinburgh</td>\n",
       "      <td>breakfast &amp; brunch, diners, restaurants, cafes...</td>\n",
       "      <td>When Blythe told me he'd checked out a new spo...</td>\n",
       "    </tr>\n",
       "    <tr>\n",
       "      <th>1</th>\n",
       "      <td>380</td>\n",
       "      <td>inaACfObL1NBNJmBG11iuQ</td>\n",
       "      <td>\"Global Deli\"</td>\n",
       "      <td>Edinburgh</td>\n",
       "      <td>restaurants, food, sandwiches, coffee &amp; tea, d...</td>\n",
       "      <td>Global Deli is a great find if you're feeling ...</td>\n",
       "    </tr>\n",
       "    <tr>\n",
       "      <th>2</th>\n",
       "      <td>397</td>\n",
       "      <td>Di5ApLgoQpcv5Aew82fI_A</td>\n",
       "      <td>\"The Rendezvous\"</td>\n",
       "      <td>Edinburgh</td>\n",
       "      <td>restaurants, cantonese, chinese</td>\n",
       "      <td>Not been to this restaurant for about 2 years ...</td>\n",
       "    </tr>\n",
       "    <tr>\n",
       "      <th>3</th>\n",
       "      <td>420</td>\n",
       "      <td>OvbLKXkJCg8ZMHX9L5faIA</td>\n",
       "      <td>\"Bread Meats Bread\"</td>\n",
       "      <td>Edinburgh</td>\n",
       "      <td>burgers, restaurants</td>\n",
       "      <td>I know people rave about this place so I'm sur...</td>\n",
       "    </tr>\n",
       "    <tr>\n",
       "      <th>4</th>\n",
       "      <td>446</td>\n",
       "      <td>T2jfXhvQPk9wLdt1OVV-Kg</td>\n",
       "      <td>\"Rose Street Brewery\"</td>\n",
       "      <td>Edinburgh</td>\n",
       "      <td>pubs, whiskey bars, nightlife, breakfast &amp; bru...</td>\n",
       "      <td>One of many spots on Rose St. A good variety o...</td>\n",
       "    </tr>\n",
       "  </tbody>\n",
       "</table>\n",
       "</div>"
      ],
      "text/plain": [
       "   Unnamed: 0             business_id                   name       city  \\\n",
       "0          68  F31RycVVooeIOp9jsXmg6g    \"The Bluebird Cafe\"  Edinburgh   \n",
       "1         380  inaACfObL1NBNJmBG11iuQ          \"Global Deli\"  Edinburgh   \n",
       "2         397  Di5ApLgoQpcv5Aew82fI_A       \"The Rendezvous\"  Edinburgh   \n",
       "3         420  OvbLKXkJCg8ZMHX9L5faIA    \"Bread Meats Bread\"  Edinburgh   \n",
       "4         446  T2jfXhvQPk9wLdt1OVV-Kg  \"Rose Street Brewery\"  Edinburgh   \n",
       "\n",
       "                                          categories  \\\n",
       "0  breakfast & brunch, diners, restaurants, cafes...   \n",
       "1  restaurants, food, sandwiches, coffee & tea, d...   \n",
       "2                    restaurants, cantonese, chinese   \n",
       "3                               burgers, restaurants   \n",
       "4  pubs, whiskey bars, nightlife, breakfast & bru...   \n",
       "\n",
       "                                                text  \n",
       "0  When Blythe told me he'd checked out a new spo...  \n",
       "1  Global Deli is a great find if you're feeling ...  \n",
       "2  Not been to this restaurant for about 2 years ...  \n",
       "3  I know people rave about this place so I'm sur...  \n",
       "4  One of many spots on Rose St. A good variety o...  "
      ]
     },
     "execution_count": 68,
     "metadata": {},
     "output_type": "execute_result"
    }
   ],
   "source": [
    "df['categories'] = df['categories'].str.lower()\n",
    "df['categories'] = df['categories'].apply(lambda x: x.strip())\n",
    "df.head()"
   ]
  },
  {
   "cell_type": "code",
   "execution_count": 69,
   "metadata": {},
   "outputs": [
    {
     "data": {
      "text/plain": [
       "'\"Crazy Ivans\"'"
      ]
     },
     "execution_count": 69,
     "metadata": {},
     "output_type": "execute_result"
    }
   ],
   "source": [
    "df.name.loc[302] #too much punctuation in the string"
   ]
  },
  {
   "cell_type": "code",
   "execution_count": 70,
   "metadata": {},
   "outputs": [
    {
     "data": {
      "text/plain": [
       "'Crazy Ivans'"
      ]
     },
     "execution_count": 70,
     "metadata": {},
     "output_type": "execute_result"
    }
   ],
   "source": [
    "df.name = df.name.str.replace('[^\\w\\s]', '') #Remove problematic speech marks\n",
    "df.name.loc[302]"
   ]
  },
  {
   "cell_type": "markdown",
   "metadata": {},
   "source": [
    "We know from the restauranty EDA that there are some high frequency category words which we don't want for modelling purposes. This is because they don't tell us anything specific about the establishment.\\\n",
    "The words we'll remove on this initial run are 'Restaurant' & 'Food'. We have to assume that the establishments in question are 'restaurants' as that's a condition of entry into the dataset and 'food' as that's a condition of being a restaurant! "
   ]
  },
  {
   "cell_type": "code",
   "execution_count": 71,
   "metadata": {},
   "outputs": [],
   "source": [
    "#create required stop words list\n",
    "stopwords = nltk.corpus.stopwords.words('english')\n",
    "add_stopwords = ['restaurants', 'food']\n",
    "stopwords.extend(add_stopwords)"
   ]
  },
  {
   "cell_type": "code",
   "execution_count": 72,
   "metadata": {},
   "outputs": [
    {
     "data": {
      "text/plain": [
       "Unnamed: 0     0\n",
       "business_id    0\n",
       "name           0\n",
       "city           0\n",
       "categories     0\n",
       "text           0\n",
       "dtype: int64"
      ]
     },
     "execution_count": 72,
     "metadata": {},
     "output_type": "execute_result"
    }
   ],
   "source": [
    "df.isna().sum() #double check no NANS"
   ]
  },
  {
   "cell_type": "markdown",
   "metadata": {},
   "source": [
    "Create an instance of the TFidFVectorizer class and pass in parameters. "
   ]
  },
  {
   "cell_type": "code",
   "execution_count": 73,
   "metadata": {},
   "outputs": [],
   "source": [
    "tfv = TfidfVectorizer(min_df=3, max_df=1600, max_features=None, strip_accents='unicode', \n",
    "                    analyzer='word', token_pattern=r'\\w{1,}', ngram_range=(1,2), stop_words=stopwords)"
   ]
  },
  {
   "cell_type": "markdown",
   "metadata": {},
   "source": [
    "Fit and transform the instance on the restaurant's categories"
   ]
  },
  {
   "cell_type": "code",
   "execution_count": 74,
   "metadata": {},
   "outputs": [],
   "source": [
    "\n",
    "tfv_matrix = tfv.fit_transform(df['categories'])"
   ]
  },
  {
   "cell_type": "code",
   "execution_count": 75,
   "metadata": {},
   "outputs": [
    {
     "name": "stdout",
     "output_type": "stream",
     "text": [
      "(1605, 396)\n"
     ]
    },
    {
     "data": {
      "text/plain": [
       "<1605x396 sparse matrix of type '<class 'numpy.float64'>'\n",
       "\twith 7457 stored elements in Compressed Sparse Row format>"
      ]
     },
     "execution_count": 75,
     "metadata": {},
     "output_type": "execute_result"
    }
   ],
   "source": [
    "print(tfv_matrix.shape)\n",
    "tfv_matrix"
   ]
  },
  {
   "cell_type": "markdown",
   "metadata": {},
   "source": [
    "Use our pairwise algorithm to compare the every element of the sparse matrix with every other element of the same sparse matrix."
   ]
  },
  {
   "cell_type": "code",
   "execution_count": 76,
   "metadata": {},
   "outputs": [],
   "source": [
    "lin = linear_kernel(tfv_matrix, tfv_matrix)"
   ]
  },
  {
   "cell_type": "code",
   "execution_count": 77,
   "metadata": {},
   "outputs": [
    {
     "data": {
      "text/plain": [
       "array([[1.        , 0.        , 0.        , ..., 0.        , 0.        ,\n",
       "        0.12050794],\n",
       "       [0.        , 1.        , 0.        , ..., 0.        , 0.        ,\n",
       "        0.        ],\n",
       "       [0.        , 0.        , 1.        , ..., 0.        , 0.        ,\n",
       "        0.        ],\n",
       "       [0.        , 0.        , 0.        , ..., 0.        , 0.        ,\n",
       "        0.        ],\n",
       "       [0.21763582, 0.        , 0.        , ..., 0.06295493, 0.        ,\n",
       "        0.        ]])"
      ]
     },
     "execution_count": 77,
     "metadata": {},
     "output_type": "execute_result"
    }
   ],
   "source": [
    "lin[0:5]"
   ]
  },
  {
   "cell_type": "markdown",
   "metadata": {},
   "source": [
    "Now we'll build a basic recommender"
   ]
  },
  {
   "cell_type": "code",
   "execution_count": 78,
   "metadata": {},
   "outputs": [],
   "source": [
    "indices = pd.Series(df.index, index=df['name']).drop_duplicates()"
   ]
  },
  {
   "cell_type": "code",
   "execution_count": 79,
   "metadata": {},
   "outputs": [
    {
     "data": {
      "text/plain": [
       "name\n",
       "Antojito Cantina                   300\n",
       "Lazeez Tandoori                    301\n",
       "Crazy Ivans                        302\n",
       "Dean Gallery Café                  303\n",
       "Joseph Pearce                      304\n",
       "Cafe Cassis                        305\n",
       "Serrano Manchego                   306\n",
       "Pierinos Take Away Food Shops      307\n",
       "Broughton Delicatessen and Café    308\n",
       "Lazy Lohans                        309\n",
       "On Tap Medina                      310\n",
       "Zazou Cruises                      311\n",
       "Spirit of Thai                     312\n",
       "Michelles Place                    313\n",
       "Frankie  Bennys                    314\n",
       "Jackson Restaurant                 315\n",
       "Zizzi                              316\n",
       "Buckstone Pub  Kitchen             317\n",
       "Dolphin Fish Bar                   318\n",
       "Usquabae                           319\n",
       "dtype: int64"
      ]
     },
     "execution_count": 79,
     "metadata": {},
     "output_type": "execute_result"
    }
   ],
   "source": [
    "indices[300:320]"
   ]
  },
  {
   "cell_type": "code",
   "execution_count": 80,
   "metadata": {},
   "outputs": [
    {
     "data": {
      "text/plain": [
       "309"
      ]
     },
     "execution_count": 80,
     "metadata": {},
     "output_type": "execute_result"
    }
   ],
   "source": [
    "indices['Lazy Lohans'] #Check the correct index is returned"
   ]
  },
  {
   "cell_type": "code",
   "execution_count": 81,
   "metadata": {},
   "outputs": [],
   "source": [
    "def recommender(name, lin=lin):\n",
    "    \"\"\"\n",
    "    This function takes a restaurant title as an argument and \n",
    "    returns the n=5 most similar resstaurants based on the content\n",
    "    of the restaurant categories and the limnear similarity scores.  \n",
    "    \n",
    "    \"\"\"\n",
    "    \n",
    "    #First we get the index corresponding to the argument / original title\n",
    "    index = indices[name]\n",
    "    \n",
    "    #Then we fetch all the linear similarity scores for the pairwise comparisons \n",
    "    lin_scores = list(enumerate(lin[index]))\n",
    "    \n",
    "    #Now we sort the scores so the top recommended restaurants are at the top\n",
    "    sorted_lin_scores = sorted(lin_scores, key=lambda x: x[1], reverse=True)\n",
    "    \n",
    "    #give us a list equal to n=5\n",
    "    top_lin_scores = sorted_lin_scores[1:6]\n",
    "    \n",
    "    #Identify the restaurant indices corresponding to the above list\n",
    "    restaurant_index = [i[0] for i in top_lin_scores]\n",
    "    \n",
    "    #Now find the title names at these idices and return them as our recommendations!!\n",
    "    return df['name'].iloc[restaurant_index]"
   ]
  },
  {
   "cell_type": "code",
   "execution_count": 82,
   "metadata": {},
   "outputs": [
    {
     "data": {
      "text/plain": [
       "72        La Garrigue Bistro\n",
       "205           La PTite Folie\n",
       "299    Water of Leith Bistro\n",
       "324           Le Mouton Noir\n",
       "414              La Garrigue\n",
       "Name: name, dtype: object"
      ]
     },
     "execution_count": 82,
     "metadata": {},
     "output_type": "execute_result"
    }
   ],
   "source": [
    "#We call the recommender function with a restaurant that we want similar hits for!\n",
    "recommender('Martin Wishart') "
   ]
  },
  {
   "cell_type": "markdown",
   "metadata": {},
   "source": [
    "## Hybrid Recommender - under construction "
   ]
  },
  {
   "cell_type": "code",
   "execution_count": null,
   "metadata": {},
   "outputs": [],
   "source": [
    "######### For info only - DELETE THIS CELL ----- DELETE THIS CELL --------\n",
    "def restaurant_rater(df, num, category=None):\n",
    "    userID = 2011\n",
    "    ratings_info = []\n",
    "    \n",
    "    while num > 0:\n",
    "        if category:\n",
    "            restaurant = df[df['categories'].str.contains(category)].sample(1)\n",
    "        else:\n",
    "            restaurant = df.sample(1)\n",
    "        print(restaurant)\n",
    "        rating = input(\"how do you rate this restaurant on a scale of 1-5, press n if you don't know:\\n\")\n",
    "        \n",
    "        if rating == 'n':\n",
    "            continue\n",
    "        else: \n",
    "            rating_one_restaurant = {'user_ref': userID, 'business_ref':restaurant['business_ref'].values[0],\n",
    "                                     'stars': rating}\n",
    "            ratings_info.append(rating_one_restaurant)\n",
    "            num-=1\n",
    "    return ratings_info\n",
    "\n",
    "user_rating = restaurant_rater(rests, 5, 'Italian')"
   ]
  },
  {
   "cell_type": "code",
   "execution_count": 135,
   "metadata": {},
   "outputs": [
    {
     "name": "stdout",
     "output_type": "stream",
     "text": [
      "enter an int, or 'q' to quit:w\n",
      "I need an integer to contiue.\n",
      "enter an int, or 'q' to quit:g\n",
      "I need an integer to contiue.\n",
      "enter an int, or 'q' to quit:q\n"
     ]
    }
   ],
   "source": [
    "def get_int():\n",
    "    userdata = input(\"enter an int, or 'q' to quit:\")\n",
    "    if userdata=='q':\n",
    "        return None\n",
    "    try:\n",
    "        user_num = int(userdata)\n",
    "        return user_num\n",
    "    except ValueError:\n",
    "        print(\"I need an integer to contiue.\")\n",
    "        return(get_int())\n",
    "get_int()"
   ]
  },
  {
   "cell_type": "code",
   "execution_count": 160,
   "metadata": {},
   "outputs": [
    {
     "name": "stdout",
     "output_type": "stream",
     "text": [
      "Are you an existing user? y/n? Hit any other key to quit!!y\n",
      "What is your user reference?246\n",
      "yeh you been found!\n",
      "74\n",
      "hmm you active\n"
     ]
    }
   ],
   "source": [
    "def hybrid_rec():\n",
    "    existing = input('Are you an existing user? y/n? Hit any other key to quit!!') #Ask initial question\n",
    "    \n",
    "    if existing == 'y': #if input is y\n",
    "        user_ref = input('What is your user reference?') #Ask what their user ref is?\n",
    "        try:\n",
    "            user_ref = int(user_ref) #input should be converted to integer\n",
    "        except ValueError:\n",
    "            print(\"I need an integer to continue\")  #if input cannot be integer print statement and loop to start\n",
    "            return hybrid_rec()\n",
    "        if int(user_ref) in ratings['user_ref'].values: #is user _ref in the ratings dataset\n",
    "                print('yeh you been found!')\n",
    "                \n",
    "                #How many reviews does this user have\n",
    "                user_count = ratings.loc[ratings['user_ref'] == user_ref].shape[0] \n",
    "                print(user_count)\n",
    "                if user_count > 10: #Set size of user count to progress through recommender. \n",
    "                    print('hmm you active')\n",
    "                else:\n",
    "                    print('you don\"t have enough ratings')\n",
    "            \n",
    "            \n",
    "            \n",
    "            \n",
    "        else:\n",
    "            print('nah we can\"t find you')\n",
    "            \n",
    "    return None\n",
    "  \n",
    "            \n",
    "\n",
    "hybrid_rec()"
   ]
  },
  {
   "cell_type": "code",
   "execution_count": 131,
   "metadata": {},
   "outputs": [
    {
     "data": {
      "text/html": [
       "<div>\n",
       "<style scoped>\n",
       "    .dataframe tbody tr th:only-of-type {\n",
       "        vertical-align: middle;\n",
       "    }\n",
       "\n",
       "    .dataframe tbody tr th {\n",
       "        vertical-align: top;\n",
       "    }\n",
       "\n",
       "    .dataframe thead th {\n",
       "        text-align: right;\n",
       "    }\n",
       "</style>\n",
       "<table border=\"1\" class=\"dataframe\">\n",
       "  <thead>\n",
       "    <tr style=\"text-align: right;\">\n",
       "      <th></th>\n",
       "      <th>user_ref</th>\n",
       "      <th>business_ref</th>\n",
       "      <th>stars</th>\n",
       "    </tr>\n",
       "  </thead>\n",
       "  <tbody>\n",
       "    <tr>\n",
       "      <th>0</th>\n",
       "      <td>246</td>\n",
       "      <td>68</td>\n",
       "      <td>5</td>\n",
       "    </tr>\n",
       "    <tr>\n",
       "      <th>1</th>\n",
       "      <td>146572</td>\n",
       "      <td>68</td>\n",
       "      <td>4</td>\n",
       "    </tr>\n",
       "    <tr>\n",
       "      <th>2</th>\n",
       "      <td>211139</td>\n",
       "      <td>68</td>\n",
       "      <td>3</td>\n",
       "    </tr>\n",
       "    <tr>\n",
       "      <th>3</th>\n",
       "      <td>260271</td>\n",
       "      <td>68</td>\n",
       "      <td>4</td>\n",
       "    </tr>\n",
       "    <tr>\n",
       "      <th>4</th>\n",
       "      <td>491834</td>\n",
       "      <td>68</td>\n",
       "      <td>5</td>\n",
       "    </tr>\n",
       "  </tbody>\n",
       "</table>\n",
       "</div>"
      ],
      "text/plain": [
       "   user_ref  business_ref  stars\n",
       "0       246            68      5\n",
       "1    146572            68      4\n",
       "2    211139            68      3\n",
       "3    260271            68      4\n",
       "4    491834            68      5"
      ]
     },
     "execution_count": 131,
     "metadata": {},
     "output_type": "execute_result"
    }
   ],
   "source": [
    "ratings.head()"
   ]
  },
  {
   "cell_type": "code",
   "execution_count": 150,
   "metadata": {},
   "outputs": [
    {
     "data": {
      "text/plain": [
       "74"
      ]
     },
     "execution_count": 150,
     "metadata": {},
     "output_type": "execute_result"
    }
   ],
   "source": [
    "ratings.query('user_ref == 246').user_ref.count() "
   ]
  },
  {
   "cell_type": "code",
   "execution_count": 156,
   "metadata": {},
   "outputs": [
    {
     "data": {
      "text/plain": [
       "74"
      ]
     },
     "execution_count": 156,
     "metadata": {},
     "output_type": "execute_result"
    }
   ],
   "source": [
    "ratings.loc[ratings['user_ref'] == 246].shape[0]"
   ]
  },
  {
   "cell_type": "code",
   "execution_count": null,
   "metadata": {},
   "outputs": [],
   "source": []
  },
  {
   "cell_type": "code",
   "execution_count": null,
   "metadata": {},
   "outputs": [],
   "source": []
  },
  {
   "cell_type": "code",
   "execution_count": 226,
   "metadata": {},
   "outputs": [],
   "source": [
    "def convert_int(x):\n",
    "    try:\n",
    "        return int(x)\n",
    "    except:\n",
    "        return np.nan"
   ]
  },
  {
   "cell_type": "code",
   "execution_count": 233,
   "metadata": {},
   "outputs": [
    {
     "data": {
      "text/html": [
       "<div>\n",
       "<style scoped>\n",
       "    .dataframe tbody tr th:only-of-type {\n",
       "        vertical-align: middle;\n",
       "    }\n",
       "\n",
       "    .dataframe tbody tr th {\n",
       "        vertical-align: top;\n",
       "    }\n",
       "\n",
       "    .dataframe thead th {\n",
       "        text-align: right;\n",
       "    }\n",
       "</style>\n",
       "<table border=\"1\" class=\"dataframe\">\n",
       "  <thead>\n",
       "    <tr style=\"text-align: right;\">\n",
       "      <th></th>\n",
       "      <th>Unnamed: 0</th>\n",
       "      <th>business_ref</th>\n",
       "      <th>business_id</th>\n",
       "      <th>name</th>\n",
       "      <th>city</th>\n",
       "      <th>categories</th>\n",
       "      <th>review_id</th>\n",
       "      <th>user_id</th>\n",
       "      <th>stars</th>\n",
       "      <th>user_ref</th>\n",
       "    </tr>\n",
       "  </thead>\n",
       "  <tbody>\n",
       "    <tr>\n",
       "      <th>0</th>\n",
       "      <td>1900</td>\n",
       "      <td>68</td>\n",
       "      <td>F31RycVVooeIOp9jsXmg6g</td>\n",
       "      <td>\"The Bluebird Cafe\"</td>\n",
       "      <td>Edinburgh</td>\n",
       "      <td>Breakfast &amp; Brunch;Diners;Restaurants;Cafes;Br...</td>\n",
       "      <td>b31UZTy2TvnFtkfygJG40Q</td>\n",
       "      <td>bcxcQhp0sKYd9eUnEVUzPA</td>\n",
       "      <td>5</td>\n",
       "      <td>246</td>\n",
       "    </tr>\n",
       "    <tr>\n",
       "      <th>1</th>\n",
       "      <td>1901</td>\n",
       "      <td>68</td>\n",
       "      <td>F31RycVVooeIOp9jsXmg6g</td>\n",
       "      <td>\"The Bluebird Cafe\"</td>\n",
       "      <td>Edinburgh</td>\n",
       "      <td>Breakfast &amp; Brunch;Diners;Restaurants;Cafes;Br...</td>\n",
       "      <td>jYxWLyWrWy8dJFQs9DEuEg</td>\n",
       "      <td>RFxjYeLW_aYLdVW3PBwFNg</td>\n",
       "      <td>4</td>\n",
       "      <td>146572</td>\n",
       "    </tr>\n",
       "  </tbody>\n",
       "</table>\n",
       "</div>"
      ],
      "text/plain": [
       "   Unnamed: 0  business_ref             business_id                 name  \\\n",
       "0        1900            68  F31RycVVooeIOp9jsXmg6g  \"The Bluebird Cafe\"   \n",
       "1        1901            68  F31RycVVooeIOp9jsXmg6g  \"The Bluebird Cafe\"   \n",
       "\n",
       "        city                                         categories  \\\n",
       "0  Edinburgh  Breakfast & Brunch;Diners;Restaurants;Cafes;Br...   \n",
       "1  Edinburgh  Breakfast & Brunch;Diners;Restaurants;Cafes;Br...   \n",
       "\n",
       "                review_id                 user_id  stars  user_ref  \n",
       "0  b31UZTy2TvnFtkfygJG40Q  bcxcQhp0sKYd9eUnEVUzPA      5       246  \n",
       "1  jYxWLyWrWy8dJFQs9DEuEg  RFxjYeLW_aYLdVW3PBwFNg      4    146572  "
      ]
     },
     "execution_count": 233,
     "metadata": {},
     "output_type": "execute_result"
    }
   ],
   "source": [
    "hybrid_df = df.copy()\n",
    "hybrid_df.head(2)"
   ]
  },
  {
   "cell_type": "code",
   "execution_count": 238,
   "metadata": {},
   "outputs": [],
   "source": [
    "indices_map = hybrid_df.set_index('user_ref')"
   ]
  },
  {
   "cell_type": "code",
   "execution_count": 239,
   "metadata": {},
   "outputs": [],
   "source": [
    "#arguments, userID == user_ref, name == restaurant_name\n",
    "def hybrid_recommender(userID, name):\n",
    "    indices_ = pd.Series(restaurants.index, index=restaurants['name'])\n",
    "    idx = indices_[name] #get index of the title\n",
    "    user_id = hybrid_df.loc[name]['user_ref'] # get user id of the review??\n",
    "    restaurant_id = id_map.loc[name]['business_ref'] #get business id of the review\n",
    "    \n",
    "    sim_scores = list(enumerate(lin[int(idx)]))\n",
    "    sim_scores = sorted(sim_scores, key=lambda x: x[1], reverse=True)\n",
    "    sim_scores = sim_scores[1:30]\n",
    "    restaurant_idx = [i[0] for i in sim_scores]\n",
    "    \n",
    "    restaurant = restaurants.iloc[restaurant_idx][['name', 'review_count', 'stars', 'business_ref', 'postal_code']]\n",
    "#     restaurant['pred'] = restaurant['id'].apply(lambda x: svd.predict(userID, indices_map.loc[x]['business_ref']).est)\n",
    "    \n",
    "    restaurant = restaurant.sort_vsalues('est', ascending=False)\n",
    "    return restaurant.head(10)\n",
    "    "
   ]
  },
  {
   "cell_type": "code",
   "execution_count": null,
   "metadata": {},
   "outputs": [],
   "source": [
    "### Hybrid recommender under construction! "
   ]
  },
  {
   "cell_type": "code",
   "execution_count": null,
   "metadata": {},
   "outputs": [],
   "source": []
  },
  {
   "cell_type": "code",
   "execution_count": null,
   "metadata": {},
   "outputs": [],
   "source": []
  }
 ],
 "metadata": {
  "kernelspec": {
   "display_name": "learn-env",
   "language": "python",
   "name": "learn-env"
  },
  "language_info": {
   "codemirror_mode": {
    "name": "ipython",
    "version": 3
   },
   "file_extension": ".py",
   "mimetype": "text/x-python",
   "name": "python",
   "nbconvert_exporter": "python",
   "pygments_lexer": "ipython3",
   "version": "3.6.6"
  }
 },
 "nbformat": 4,
 "nbformat_minor": 2
}
