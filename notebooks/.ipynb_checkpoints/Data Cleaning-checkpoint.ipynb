{
 "cells": [
  {
   "cell_type": "markdown",
   "metadata": {},
   "source": [
    "# Restaurant Recommendation System\n",
    "# Data Cleaning and Preparation"
   ]
  },
  {
   "cell_type": "code",
   "execution_count": 2,
   "metadata": {},
   "outputs": [],
   "source": [
    "import pandas as pd\n",
    "import numpy as np"
   ]
  },
  {
   "cell_type": "code",
   "execution_count": 3,
   "metadata": {},
   "outputs": [],
   "source": [
    "import matplotlib.pyplot as plt\n",
    "%matplotlib inline"
   ]
  },
  {
   "cell_type": "code",
   "execution_count": 4,
   "metadata": {},
   "outputs": [],
   "source": [
    "import warnings\n",
    "warnings.filterwarnings('ignore')"
   ]
  },
  {
   "cell_type": "code",
   "execution_count": 5,
   "metadata": {},
   "outputs": [],
   "source": [
    "business = pd.read_csv('../data/yelp_data/yelp_business.csv')\n",
    "user = pd.read_csv('../data/yelp_data/yelp_review.csv')"
   ]
  },
  {
   "cell_type": "code",
   "execution_count": 6,
   "metadata": {},
   "outputs": [
    {
     "name": "stdout",
     "output_type": "stream",
     "text": [
      "(174567, 13)\n"
     ]
    },
    {
     "data": {
      "text/html": [
       "<div>\n",
       "<style scoped>\n",
       "    .dataframe tbody tr th:only-of-type {\n",
       "        vertical-align: middle;\n",
       "    }\n",
       "\n",
       "    .dataframe tbody tr th {\n",
       "        vertical-align: top;\n",
       "    }\n",
       "\n",
       "    .dataframe thead th {\n",
       "        text-align: right;\n",
       "    }\n",
       "</style>\n",
       "<table border=\"1\" class=\"dataframe\">\n",
       "  <thead>\n",
       "    <tr style=\"text-align: right;\">\n",
       "      <th></th>\n",
       "      <th>business_id</th>\n",
       "      <th>name</th>\n",
       "      <th>neighborhood</th>\n",
       "      <th>address</th>\n",
       "      <th>city</th>\n",
       "      <th>state</th>\n",
       "      <th>postal_code</th>\n",
       "      <th>latitude</th>\n",
       "      <th>longitude</th>\n",
       "      <th>stars</th>\n",
       "      <th>review_count</th>\n",
       "      <th>is_open</th>\n",
       "      <th>categories</th>\n",
       "    </tr>\n",
       "  </thead>\n",
       "  <tbody>\n",
       "    <tr>\n",
       "      <th>0</th>\n",
       "      <td>FYWN1wneV18bWNgQjJ2GNg</td>\n",
       "      <td>\"Dental by Design\"</td>\n",
       "      <td>NaN</td>\n",
       "      <td>\"4855 E Warner Rd, Ste B9\"</td>\n",
       "      <td>Ahwatukee</td>\n",
       "      <td>AZ</td>\n",
       "      <td>85044</td>\n",
       "      <td>33.330690</td>\n",
       "      <td>-111.978599</td>\n",
       "      <td>4.0</td>\n",
       "      <td>22</td>\n",
       "      <td>1</td>\n",
       "      <td>Dentists;General Dentistry;Health &amp; Medical;Or...</td>\n",
       "    </tr>\n",
       "    <tr>\n",
       "      <th>1</th>\n",
       "      <td>He-G7vWjzVUysIKrfNbPUQ</td>\n",
       "      <td>\"Stephen Szabo Salon\"</td>\n",
       "      <td>NaN</td>\n",
       "      <td>\"3101 Washington Rd\"</td>\n",
       "      <td>McMurray</td>\n",
       "      <td>PA</td>\n",
       "      <td>15317</td>\n",
       "      <td>40.291685</td>\n",
       "      <td>-80.104900</td>\n",
       "      <td>3.0</td>\n",
       "      <td>11</td>\n",
       "      <td>1</td>\n",
       "      <td>Hair Stylists;Hair Salons;Men's Hair Salons;Bl...</td>\n",
       "    </tr>\n",
       "    <tr>\n",
       "      <th>2</th>\n",
       "      <td>KQPW8lFf1y5BT2MxiSZ3QA</td>\n",
       "      <td>\"Western Motor Vehicle\"</td>\n",
       "      <td>NaN</td>\n",
       "      <td>\"6025 N 27th Ave, Ste 1\"</td>\n",
       "      <td>Phoenix</td>\n",
       "      <td>AZ</td>\n",
       "      <td>85017</td>\n",
       "      <td>33.524903</td>\n",
       "      <td>-112.115310</td>\n",
       "      <td>1.5</td>\n",
       "      <td>18</td>\n",
       "      <td>1</td>\n",
       "      <td>Departments of Motor Vehicles;Public Services ...</td>\n",
       "    </tr>\n",
       "    <tr>\n",
       "      <th>3</th>\n",
       "      <td>8DShNS-LuFqpEWIp0HxijA</td>\n",
       "      <td>\"Sports Authority\"</td>\n",
       "      <td>NaN</td>\n",
       "      <td>\"5000 Arizona Mills Cr, Ste 435\"</td>\n",
       "      <td>Tempe</td>\n",
       "      <td>AZ</td>\n",
       "      <td>85282</td>\n",
       "      <td>33.383147</td>\n",
       "      <td>-111.964725</td>\n",
       "      <td>3.0</td>\n",
       "      <td>9</td>\n",
       "      <td>0</td>\n",
       "      <td>Sporting Goods;Shopping</td>\n",
       "    </tr>\n",
       "    <tr>\n",
       "      <th>4</th>\n",
       "      <td>PfOCPjBrlQAnz__NXj9h_w</td>\n",
       "      <td>\"Brick House Tavern + Tap\"</td>\n",
       "      <td>NaN</td>\n",
       "      <td>\"581 Howe Ave\"</td>\n",
       "      <td>Cuyahoga Falls</td>\n",
       "      <td>OH</td>\n",
       "      <td>44221</td>\n",
       "      <td>41.119535</td>\n",
       "      <td>-81.475690</td>\n",
       "      <td>3.5</td>\n",
       "      <td>116</td>\n",
       "      <td>1</td>\n",
       "      <td>American (New);Nightlife;Bars;Sandwiches;Ameri...</td>\n",
       "    </tr>\n",
       "  </tbody>\n",
       "</table>\n",
       "</div>"
      ],
      "text/plain": [
       "              business_id                        name neighborhood  \\\n",
       "0  FYWN1wneV18bWNgQjJ2GNg          \"Dental by Design\"          NaN   \n",
       "1  He-G7vWjzVUysIKrfNbPUQ       \"Stephen Szabo Salon\"          NaN   \n",
       "2  KQPW8lFf1y5BT2MxiSZ3QA     \"Western Motor Vehicle\"          NaN   \n",
       "3  8DShNS-LuFqpEWIp0HxijA          \"Sports Authority\"          NaN   \n",
       "4  PfOCPjBrlQAnz__NXj9h_w  \"Brick House Tavern + Tap\"          NaN   \n",
       "\n",
       "                            address            city state postal_code  \\\n",
       "0        \"4855 E Warner Rd, Ste B9\"       Ahwatukee    AZ       85044   \n",
       "1              \"3101 Washington Rd\"        McMurray    PA       15317   \n",
       "2          \"6025 N 27th Ave, Ste 1\"         Phoenix    AZ       85017   \n",
       "3  \"5000 Arizona Mills Cr, Ste 435\"           Tempe    AZ       85282   \n",
       "4                    \"581 Howe Ave\"  Cuyahoga Falls    OH       44221   \n",
       "\n",
       "    latitude   longitude  stars  review_count  is_open  \\\n",
       "0  33.330690 -111.978599    4.0            22        1   \n",
       "1  40.291685  -80.104900    3.0            11        1   \n",
       "2  33.524903 -112.115310    1.5            18        1   \n",
       "3  33.383147 -111.964725    3.0             9        0   \n",
       "4  41.119535  -81.475690    3.5           116        1   \n",
       "\n",
       "                                          categories  \n",
       "0  Dentists;General Dentistry;Health & Medical;Or...  \n",
       "1  Hair Stylists;Hair Salons;Men's Hair Salons;Bl...  \n",
       "2  Departments of Motor Vehicles;Public Services ...  \n",
       "3                            Sporting Goods;Shopping  \n",
       "4  American (New);Nightlife;Bars;Sandwiches;Ameri...  "
      ]
     },
     "execution_count": 6,
     "metadata": {},
     "output_type": "execute_result"
    }
   ],
   "source": [
    "print(business.shape)\n",
    "business.head()"
   ]
  },
  {
   "cell_type": "code",
   "execution_count": 7,
   "metadata": {},
   "outputs": [
    {
     "name": "stdout",
     "output_type": "stream",
     "text": [
      "(5261668, 9)\n"
     ]
    },
    {
     "data": {
      "text/html": [
       "<div>\n",
       "<style scoped>\n",
       "    .dataframe tbody tr th:only-of-type {\n",
       "        vertical-align: middle;\n",
       "    }\n",
       "\n",
       "    .dataframe tbody tr th {\n",
       "        vertical-align: top;\n",
       "    }\n",
       "\n",
       "    .dataframe thead th {\n",
       "        text-align: right;\n",
       "    }\n",
       "</style>\n",
       "<table border=\"1\" class=\"dataframe\">\n",
       "  <thead>\n",
       "    <tr style=\"text-align: right;\">\n",
       "      <th></th>\n",
       "      <th>review_id</th>\n",
       "      <th>user_id</th>\n",
       "      <th>business_id</th>\n",
       "      <th>stars</th>\n",
       "      <th>date</th>\n",
       "      <th>text</th>\n",
       "      <th>useful</th>\n",
       "      <th>funny</th>\n",
       "      <th>cool</th>\n",
       "    </tr>\n",
       "  </thead>\n",
       "  <tbody>\n",
       "    <tr>\n",
       "      <th>0</th>\n",
       "      <td>vkVSCC7xljjrAI4UGfnKEQ</td>\n",
       "      <td>bv2nCi5Qv5vroFiqKGopiw</td>\n",
       "      <td>AEx2SYEUJmTxVVB18LlCwA</td>\n",
       "      <td>5</td>\n",
       "      <td>2016-05-28</td>\n",
       "      <td>Super simple place but amazing nonetheless. It...</td>\n",
       "      <td>0</td>\n",
       "      <td>0</td>\n",
       "      <td>0</td>\n",
       "    </tr>\n",
       "    <tr>\n",
       "      <th>1</th>\n",
       "      <td>n6QzIUObkYshz4dz2QRJTw</td>\n",
       "      <td>bv2nCi5Qv5vroFiqKGopiw</td>\n",
       "      <td>VR6GpWIda3SfvPC-lg9H3w</td>\n",
       "      <td>5</td>\n",
       "      <td>2016-05-28</td>\n",
       "      <td>Small unassuming place that changes their menu...</td>\n",
       "      <td>0</td>\n",
       "      <td>0</td>\n",
       "      <td>0</td>\n",
       "    </tr>\n",
       "    <tr>\n",
       "      <th>2</th>\n",
       "      <td>MV3CcKScW05u5LVfF6ok0g</td>\n",
       "      <td>bv2nCi5Qv5vroFiqKGopiw</td>\n",
       "      <td>CKC0-MOWMqoeWf6s-szl8g</td>\n",
       "      <td>5</td>\n",
       "      <td>2016-05-28</td>\n",
       "      <td>Lester's is located in a beautiful neighborhoo...</td>\n",
       "      <td>0</td>\n",
       "      <td>0</td>\n",
       "      <td>0</td>\n",
       "    </tr>\n",
       "    <tr>\n",
       "      <th>3</th>\n",
       "      <td>IXvOzsEMYtiJI0CARmj77Q</td>\n",
       "      <td>bv2nCi5Qv5vroFiqKGopiw</td>\n",
       "      <td>ACFtxLv8pGrrxMm6EgjreA</td>\n",
       "      <td>4</td>\n",
       "      <td>2016-05-28</td>\n",
       "      <td>Love coming here. Yes the place always needs t...</td>\n",
       "      <td>0</td>\n",
       "      <td>0</td>\n",
       "      <td>0</td>\n",
       "    </tr>\n",
       "    <tr>\n",
       "      <th>4</th>\n",
       "      <td>L_9BTb55X0GDtThi6GlZ6w</td>\n",
       "      <td>bv2nCi5Qv5vroFiqKGopiw</td>\n",
       "      <td>s2I_Ni76bjJNK9yG60iD-Q</td>\n",
       "      <td>4</td>\n",
       "      <td>2016-05-28</td>\n",
       "      <td>Had their chocolate almond croissant and it wa...</td>\n",
       "      <td>0</td>\n",
       "      <td>0</td>\n",
       "      <td>0</td>\n",
       "    </tr>\n",
       "  </tbody>\n",
       "</table>\n",
       "</div>"
      ],
      "text/plain": [
       "                review_id                 user_id             business_id  \\\n",
       "0  vkVSCC7xljjrAI4UGfnKEQ  bv2nCi5Qv5vroFiqKGopiw  AEx2SYEUJmTxVVB18LlCwA   \n",
       "1  n6QzIUObkYshz4dz2QRJTw  bv2nCi5Qv5vroFiqKGopiw  VR6GpWIda3SfvPC-lg9H3w   \n",
       "2  MV3CcKScW05u5LVfF6ok0g  bv2nCi5Qv5vroFiqKGopiw  CKC0-MOWMqoeWf6s-szl8g   \n",
       "3  IXvOzsEMYtiJI0CARmj77Q  bv2nCi5Qv5vroFiqKGopiw  ACFtxLv8pGrrxMm6EgjreA   \n",
       "4  L_9BTb55X0GDtThi6GlZ6w  bv2nCi5Qv5vroFiqKGopiw  s2I_Ni76bjJNK9yG60iD-Q   \n",
       "\n",
       "   stars        date                                               text  \\\n",
       "0      5  2016-05-28  Super simple place but amazing nonetheless. It...   \n",
       "1      5  2016-05-28  Small unassuming place that changes their menu...   \n",
       "2      5  2016-05-28  Lester's is located in a beautiful neighborhoo...   \n",
       "3      4  2016-05-28  Love coming here. Yes the place always needs t...   \n",
       "4      4  2016-05-28  Had their chocolate almond croissant and it wa...   \n",
       "\n",
       "   useful  funny  cool  \n",
       "0       0      0     0  \n",
       "1       0      0     0  \n",
       "2       0      0     0  \n",
       "3       0      0     0  \n",
       "4       0      0     0  "
      ]
     },
     "execution_count": 7,
     "metadata": {},
     "output_type": "execute_result"
    }
   ],
   "source": [
    "print(user.shape)\n",
    "user.head()"
   ]
  },
  {
   "cell_type": "markdown",
   "metadata": {},
   "source": [
    "For our initialcollaborative based models we'll require only a few columns, and some initially just for clarity. We want a dataset that is Edinburgh centric, based on restaurants only and with the user_id, business_id and stars as the features. Note that we caanot just use these columns from the user dataframe as there is no way of filtering by location and business type without joining the business dataset. So this is what we'll do first. "
   ]
  },
  {
   "cell_type": "markdown",
   "metadata": {},
   "source": [
    "### Select required features from each dataset"
   ]
  },
  {
   "cell_type": "code",
   "execution_count": 8,
   "metadata": {},
   "outputs": [
    {
     "data": {
      "text/html": [
       "<div>\n",
       "<style scoped>\n",
       "    .dataframe tbody tr th:only-of-type {\n",
       "        vertical-align: middle;\n",
       "    }\n",
       "\n",
       "    .dataframe tbody tr th {\n",
       "        vertical-align: top;\n",
       "    }\n",
       "\n",
       "    .dataframe thead th {\n",
       "        text-align: right;\n",
       "    }\n",
       "</style>\n",
       "<table border=\"1\" class=\"dataframe\">\n",
       "  <thead>\n",
       "    <tr style=\"text-align: right;\">\n",
       "      <th></th>\n",
       "      <th>business_id</th>\n",
       "      <th>name</th>\n",
       "      <th>city</th>\n",
       "      <th>categories</th>\n",
       "    </tr>\n",
       "  </thead>\n",
       "  <tbody>\n",
       "    <tr>\n",
       "      <th>0</th>\n",
       "      <td>FYWN1wneV18bWNgQjJ2GNg</td>\n",
       "      <td>\"Dental by Design\"</td>\n",
       "      <td>Ahwatukee</td>\n",
       "      <td>Dentists;General Dentistry;Health &amp; Medical;Or...</td>\n",
       "    </tr>\n",
       "    <tr>\n",
       "      <th>1</th>\n",
       "      <td>He-G7vWjzVUysIKrfNbPUQ</td>\n",
       "      <td>\"Stephen Szabo Salon\"</td>\n",
       "      <td>McMurray</td>\n",
       "      <td>Hair Stylists;Hair Salons;Men's Hair Salons;Bl...</td>\n",
       "    </tr>\n",
       "    <tr>\n",
       "      <th>2</th>\n",
       "      <td>KQPW8lFf1y5BT2MxiSZ3QA</td>\n",
       "      <td>\"Western Motor Vehicle\"</td>\n",
       "      <td>Phoenix</td>\n",
       "      <td>Departments of Motor Vehicles;Public Services ...</td>\n",
       "    </tr>\n",
       "    <tr>\n",
       "      <th>3</th>\n",
       "      <td>8DShNS-LuFqpEWIp0HxijA</td>\n",
       "      <td>\"Sports Authority\"</td>\n",
       "      <td>Tempe</td>\n",
       "      <td>Sporting Goods;Shopping</td>\n",
       "    </tr>\n",
       "    <tr>\n",
       "      <th>4</th>\n",
       "      <td>PfOCPjBrlQAnz__NXj9h_w</td>\n",
       "      <td>\"Brick House Tavern + Tap\"</td>\n",
       "      <td>Cuyahoga Falls</td>\n",
       "      <td>American (New);Nightlife;Bars;Sandwiches;Ameri...</td>\n",
       "    </tr>\n",
       "  </tbody>\n",
       "</table>\n",
       "</div>"
      ],
      "text/plain": [
       "              business_id                        name            city  \\\n",
       "0  FYWN1wneV18bWNgQjJ2GNg          \"Dental by Design\"       Ahwatukee   \n",
       "1  He-G7vWjzVUysIKrfNbPUQ       \"Stephen Szabo Salon\"        McMurray   \n",
       "2  KQPW8lFf1y5BT2MxiSZ3QA     \"Western Motor Vehicle\"         Phoenix   \n",
       "3  8DShNS-LuFqpEWIp0HxijA          \"Sports Authority\"           Tempe   \n",
       "4  PfOCPjBrlQAnz__NXj9h_w  \"Brick House Tavern + Tap\"  Cuyahoga Falls   \n",
       "\n",
       "                                          categories  \n",
       "0  Dentists;General Dentistry;Health & Medical;Or...  \n",
       "1  Hair Stylists;Hair Salons;Men's Hair Salons;Bl...  \n",
       "2  Departments of Motor Vehicles;Public Services ...  \n",
       "3                            Sporting Goods;Shopping  \n",
       "4  American (New);Nightlife;Bars;Sandwiches;Ameri...  "
      ]
     },
     "execution_count": 8,
     "metadata": {},
     "output_type": "execute_result"
    }
   ],
   "source": [
    "#business_id, city, name and categories from the business dataset\n",
    "bus_cut = business[['business_id', 'name', 'city', 'categories']]\n",
    "bus_cut.head()"
   ]
  },
  {
   "cell_type": "code",
   "execution_count": 9,
   "metadata": {},
   "outputs": [
    {
     "data": {
      "text/html": [
       "<div>\n",
       "<style scoped>\n",
       "    .dataframe tbody tr th:only-of-type {\n",
       "        vertical-align: middle;\n",
       "    }\n",
       "\n",
       "    .dataframe tbody tr th {\n",
       "        vertical-align: top;\n",
       "    }\n",
       "\n",
       "    .dataframe thead th {\n",
       "        text-align: right;\n",
       "    }\n",
       "</style>\n",
       "<table border=\"1\" class=\"dataframe\">\n",
       "  <thead>\n",
       "    <tr style=\"text-align: right;\">\n",
       "      <th></th>\n",
       "      <th>business_id</th>\n",
       "      <th>review_id</th>\n",
       "      <th>user_id</th>\n",
       "      <th>stars</th>\n",
       "    </tr>\n",
       "  </thead>\n",
       "  <tbody>\n",
       "    <tr>\n",
       "      <th>0</th>\n",
       "      <td>AEx2SYEUJmTxVVB18LlCwA</td>\n",
       "      <td>vkVSCC7xljjrAI4UGfnKEQ</td>\n",
       "      <td>bv2nCi5Qv5vroFiqKGopiw</td>\n",
       "      <td>5</td>\n",
       "    </tr>\n",
       "    <tr>\n",
       "      <th>1</th>\n",
       "      <td>VR6GpWIda3SfvPC-lg9H3w</td>\n",
       "      <td>n6QzIUObkYshz4dz2QRJTw</td>\n",
       "      <td>bv2nCi5Qv5vroFiqKGopiw</td>\n",
       "      <td>5</td>\n",
       "    </tr>\n",
       "    <tr>\n",
       "      <th>2</th>\n",
       "      <td>CKC0-MOWMqoeWf6s-szl8g</td>\n",
       "      <td>MV3CcKScW05u5LVfF6ok0g</td>\n",
       "      <td>bv2nCi5Qv5vroFiqKGopiw</td>\n",
       "      <td>5</td>\n",
       "    </tr>\n",
       "    <tr>\n",
       "      <th>3</th>\n",
       "      <td>ACFtxLv8pGrrxMm6EgjreA</td>\n",
       "      <td>IXvOzsEMYtiJI0CARmj77Q</td>\n",
       "      <td>bv2nCi5Qv5vroFiqKGopiw</td>\n",
       "      <td>4</td>\n",
       "    </tr>\n",
       "    <tr>\n",
       "      <th>4</th>\n",
       "      <td>s2I_Ni76bjJNK9yG60iD-Q</td>\n",
       "      <td>L_9BTb55X0GDtThi6GlZ6w</td>\n",
       "      <td>bv2nCi5Qv5vroFiqKGopiw</td>\n",
       "      <td>4</td>\n",
       "    </tr>\n",
       "  </tbody>\n",
       "</table>\n",
       "</div>"
      ],
      "text/plain": [
       "              business_id               review_id                 user_id  \\\n",
       "0  AEx2SYEUJmTxVVB18LlCwA  vkVSCC7xljjrAI4UGfnKEQ  bv2nCi5Qv5vroFiqKGopiw   \n",
       "1  VR6GpWIda3SfvPC-lg9H3w  n6QzIUObkYshz4dz2QRJTw  bv2nCi5Qv5vroFiqKGopiw   \n",
       "2  CKC0-MOWMqoeWf6s-szl8g  MV3CcKScW05u5LVfF6ok0g  bv2nCi5Qv5vroFiqKGopiw   \n",
       "3  ACFtxLv8pGrrxMm6EgjreA  IXvOzsEMYtiJI0CARmj77Q  bv2nCi5Qv5vroFiqKGopiw   \n",
       "4  s2I_Ni76bjJNK9yG60iD-Q  L_9BTb55X0GDtThi6GlZ6w  bv2nCi5Qv5vroFiqKGopiw   \n",
       "\n",
       "   stars  \n",
       "0      5  \n",
       "1      5  \n",
       "2      5  \n",
       "3      4  \n",
       "4      4  "
      ]
     },
     "execution_count": 9,
     "metadata": {},
     "output_type": "execute_result"
    }
   ],
   "source": [
    "users_cut = user[['business_id', 'review_id', 'user_id', 'stars']]\n",
    "users_cut.head()"
   ]
  },
  {
   "cell_type": "code",
   "execution_count": 10,
   "metadata": {},
   "outputs": [
    {
     "data": {
      "text/html": [
       "<div>\n",
       "<style scoped>\n",
       "    .dataframe tbody tr th:only-of-type {\n",
       "        vertical-align: middle;\n",
       "    }\n",
       "\n",
       "    .dataframe tbody tr th {\n",
       "        vertical-align: top;\n",
       "    }\n",
       "\n",
       "    .dataframe thead th {\n",
       "        text-align: right;\n",
       "    }\n",
       "</style>\n",
       "<table border=\"1\" class=\"dataframe\">\n",
       "  <thead>\n",
       "    <tr style=\"text-align: right;\">\n",
       "      <th></th>\n",
       "      <th>business_id</th>\n",
       "      <th>name</th>\n",
       "      <th>city</th>\n",
       "      <th>categories</th>\n",
       "      <th>review_id</th>\n",
       "      <th>user_id</th>\n",
       "      <th>stars</th>\n",
       "    </tr>\n",
       "  </thead>\n",
       "  <tbody>\n",
       "    <tr>\n",
       "      <th>0</th>\n",
       "      <td>FYWN1wneV18bWNgQjJ2GNg</td>\n",
       "      <td>\"Dental by Design\"</td>\n",
       "      <td>Ahwatukee</td>\n",
       "      <td>Dentists;General Dentistry;Health &amp; Medical;Or...</td>\n",
       "      <td>3_-fne2m2GvKESZRlULAiw</td>\n",
       "      <td>jTvKkNTat9QftSxL_FMcQw</td>\n",
       "      <td>5</td>\n",
       "    </tr>\n",
       "    <tr>\n",
       "      <th>1</th>\n",
       "      <td>FYWN1wneV18bWNgQjJ2GNg</td>\n",
       "      <td>\"Dental by Design\"</td>\n",
       "      <td>Ahwatukee</td>\n",
       "      <td>Dentists;General Dentistry;Health &amp; Medical;Or...</td>\n",
       "      <td>5gJk64TDq5lqSuoNiaqjVQ</td>\n",
       "      <td>IG6XMgQyWF2_RW1nKEioxA</td>\n",
       "      <td>5</td>\n",
       "    </tr>\n",
       "    <tr>\n",
       "      <th>2</th>\n",
       "      <td>FYWN1wneV18bWNgQjJ2GNg</td>\n",
       "      <td>\"Dental by Design\"</td>\n",
       "      <td>Ahwatukee</td>\n",
       "      <td>Dentists;General Dentistry;Health &amp; Medical;Or...</td>\n",
       "      <td>5570rwX_o30Z3NmKhou4CQ</td>\n",
       "      <td>2Rh41EBjWI137N2m5VHJJA</td>\n",
       "      <td>5</td>\n",
       "    </tr>\n",
       "    <tr>\n",
       "      <th>3</th>\n",
       "      <td>FYWN1wneV18bWNgQjJ2GNg</td>\n",
       "      <td>\"Dental by Design\"</td>\n",
       "      <td>Ahwatukee</td>\n",
       "      <td>Dentists;General Dentistry;Health &amp; Medical;Or...</td>\n",
       "      <td>iRm438GDAajUiW2GoIAvtA</td>\n",
       "      <td>YcmNpPM0ag94g4T0zAtdcg</td>\n",
       "      <td>4</td>\n",
       "    </tr>\n",
       "    <tr>\n",
       "      <th>4</th>\n",
       "      <td>FYWN1wneV18bWNgQjJ2GNg</td>\n",
       "      <td>\"Dental by Design\"</td>\n",
       "      <td>Ahwatukee</td>\n",
       "      <td>Dentists;General Dentistry;Health &amp; Medical;Or...</td>\n",
       "      <td>9lhJwhRwTsqqPyyoSjMuqw</td>\n",
       "      <td>XGL7VDkeUyM5nKQspJBTNw</td>\n",
       "      <td>5</td>\n",
       "    </tr>\n",
       "  </tbody>\n",
       "</table>\n",
       "</div>"
      ],
      "text/plain": [
       "              business_id                name       city  \\\n",
       "0  FYWN1wneV18bWNgQjJ2GNg  \"Dental by Design\"  Ahwatukee   \n",
       "1  FYWN1wneV18bWNgQjJ2GNg  \"Dental by Design\"  Ahwatukee   \n",
       "2  FYWN1wneV18bWNgQjJ2GNg  \"Dental by Design\"  Ahwatukee   \n",
       "3  FYWN1wneV18bWNgQjJ2GNg  \"Dental by Design\"  Ahwatukee   \n",
       "4  FYWN1wneV18bWNgQjJ2GNg  \"Dental by Design\"  Ahwatukee   \n",
       "\n",
       "                                          categories               review_id  \\\n",
       "0  Dentists;General Dentistry;Health & Medical;Or...  3_-fne2m2GvKESZRlULAiw   \n",
       "1  Dentists;General Dentistry;Health & Medical;Or...  5gJk64TDq5lqSuoNiaqjVQ   \n",
       "2  Dentists;General Dentistry;Health & Medical;Or...  5570rwX_o30Z3NmKhou4CQ   \n",
       "3  Dentists;General Dentistry;Health & Medical;Or...  iRm438GDAajUiW2GoIAvtA   \n",
       "4  Dentists;General Dentistry;Health & Medical;Or...  9lhJwhRwTsqqPyyoSjMuqw   \n",
       "\n",
       "                  user_id  stars  \n",
       "0  jTvKkNTat9QftSxL_FMcQw      5  \n",
       "1  IG6XMgQyWF2_RW1nKEioxA      5  \n",
       "2  2Rh41EBjWI137N2m5VHJJA      5  \n",
       "3  YcmNpPM0ag94g4T0zAtdcg      4  \n",
       "4  XGL7VDkeUyM5nKQspJBTNw      5  "
      ]
     },
     "execution_count": 10,
     "metadata": {},
     "output_type": "execute_result"
    }
   ],
   "source": [
    "bus_revs = bus_cut.merge(users_cut, how='left', left_on='business_id', right_on='business_id')\n",
    "bus_revs.head()"
   ]
  },
  {
   "cell_type": "code",
   "execution_count": 11,
   "metadata": {},
   "outputs": [
    {
     "data": {
      "text/plain": [
       "(5261668, 7)"
      ]
     },
     "execution_count": 11,
     "metadata": {},
     "output_type": "execute_result"
    }
   ],
   "source": [
    "bus_revs.shape"
   ]
  },
  {
   "cell_type": "markdown",
   "metadata": {},
   "source": [
    "### Filter for our required location and business type"
   ]
  },
  {
   "cell_type": "markdown",
   "metadata": {},
   "source": [
    "Now we know that we have the individual user ratings and the businesses merged we can filter for Edinburgh and Restaurants / cafes. "
   ]
  },
  {
   "cell_type": "code",
   "execution_count": 12,
   "metadata": {},
   "outputs": [],
   "source": [
    "edin_revs = bus_revs[bus_revs.city.str.contains('Edin', case=False, na=False)]"
   ]
  },
  {
   "cell_type": "code",
   "execution_count": 13,
   "metadata": {},
   "outputs": [
    {
     "name": "stdout",
     "output_type": "stream",
     "text": [
      "(52492, 7)\n"
     ]
    },
    {
     "data": {
      "text/html": [
       "<div>\n",
       "<style scoped>\n",
       "    .dataframe tbody tr th:only-of-type {\n",
       "        vertical-align: middle;\n",
       "    }\n",
       "\n",
       "    .dataframe tbody tr th {\n",
       "        vertical-align: top;\n",
       "    }\n",
       "\n",
       "    .dataframe thead th {\n",
       "        text-align: right;\n",
       "    }\n",
       "</style>\n",
       "<table border=\"1\" class=\"dataframe\">\n",
       "  <thead>\n",
       "    <tr style=\"text-align: right;\">\n",
       "      <th></th>\n",
       "      <th>business_id</th>\n",
       "      <th>name</th>\n",
       "      <th>city</th>\n",
       "      <th>categories</th>\n",
       "      <th>review_id</th>\n",
       "      <th>user_id</th>\n",
       "      <th>stars</th>\n",
       "    </tr>\n",
       "  </thead>\n",
       "  <tbody>\n",
       "    <tr>\n",
       "      <th>1900</th>\n",
       "      <td>F31RycVVooeIOp9jsXmg6g</td>\n",
       "      <td>\"The Bluebird Cafe\"</td>\n",
       "      <td>Edinburgh</td>\n",
       "      <td>Breakfast &amp; Brunch;Diners;Restaurants;Cafes;Br...</td>\n",
       "      <td>b31UZTy2TvnFtkfygJG40Q</td>\n",
       "      <td>bcxcQhp0sKYd9eUnEVUzPA</td>\n",
       "      <td>5</td>\n",
       "    </tr>\n",
       "    <tr>\n",
       "      <th>1901</th>\n",
       "      <td>F31RycVVooeIOp9jsXmg6g</td>\n",
       "      <td>\"The Bluebird Cafe\"</td>\n",
       "      <td>Edinburgh</td>\n",
       "      <td>Breakfast &amp; Brunch;Diners;Restaurants;Cafes;Br...</td>\n",
       "      <td>jYxWLyWrWy8dJFQs9DEuEg</td>\n",
       "      <td>RFxjYeLW_aYLdVW3PBwFNg</td>\n",
       "      <td>4</td>\n",
       "    </tr>\n",
       "    <tr>\n",
       "      <th>1902</th>\n",
       "      <td>F31RycVVooeIOp9jsXmg6g</td>\n",
       "      <td>\"The Bluebird Cafe\"</td>\n",
       "      <td>Edinburgh</td>\n",
       "      <td>Breakfast &amp; Brunch;Diners;Restaurants;Cafes;Br...</td>\n",
       "      <td>DMXFC1hZj_e4Mb7iOlVsGg</td>\n",
       "      <td>Lo6hBSAP4grz6Cnr3xiCKw</td>\n",
       "      <td>5</td>\n",
       "    </tr>\n",
       "    <tr>\n",
       "      <th>1903</th>\n",
       "      <td>F31RycVVooeIOp9jsXmg6g</td>\n",
       "      <td>\"The Bluebird Cafe\"</td>\n",
       "      <td>Edinburgh</td>\n",
       "      <td>Breakfast &amp; Brunch;Diners;Restaurants;Cafes;Br...</td>\n",
       "      <td>GGWxoYbx_h2x7a46m0MYRA</td>\n",
       "      <td>BhYROfCjIJsKUk22_IVHig</td>\n",
       "      <td>3</td>\n",
       "    </tr>\n",
       "    <tr>\n",
       "      <th>1904</th>\n",
       "      <td>F31RycVVooeIOp9jsXmg6g</td>\n",
       "      <td>\"The Bluebird Cafe\"</td>\n",
       "      <td>Edinburgh</td>\n",
       "      <td>Breakfast &amp; Brunch;Diners;Restaurants;Cafes;Br...</td>\n",
       "      <td>PslbThtGZ_yOWZxAFc3GVg</td>\n",
       "      <td>J_qpI2jCkwv7vPNz_9JeqA</td>\n",
       "      <td>4</td>\n",
       "    </tr>\n",
       "  </tbody>\n",
       "</table>\n",
       "</div>"
      ],
      "text/plain": [
       "                 business_id                 name       city  \\\n",
       "1900  F31RycVVooeIOp9jsXmg6g  \"The Bluebird Cafe\"  Edinburgh   \n",
       "1901  F31RycVVooeIOp9jsXmg6g  \"The Bluebird Cafe\"  Edinburgh   \n",
       "1902  F31RycVVooeIOp9jsXmg6g  \"The Bluebird Cafe\"  Edinburgh   \n",
       "1903  F31RycVVooeIOp9jsXmg6g  \"The Bluebird Cafe\"  Edinburgh   \n",
       "1904  F31RycVVooeIOp9jsXmg6g  \"The Bluebird Cafe\"  Edinburgh   \n",
       "\n",
       "                                             categories  \\\n",
       "1900  Breakfast & Brunch;Diners;Restaurants;Cafes;Br...   \n",
       "1901  Breakfast & Brunch;Diners;Restaurants;Cafes;Br...   \n",
       "1902  Breakfast & Brunch;Diners;Restaurants;Cafes;Br...   \n",
       "1903  Breakfast & Brunch;Diners;Restaurants;Cafes;Br...   \n",
       "1904  Breakfast & Brunch;Diners;Restaurants;Cafes;Br...   \n",
       "\n",
       "                   review_id                 user_id  stars  \n",
       "1900  b31UZTy2TvnFtkfygJG40Q  bcxcQhp0sKYd9eUnEVUzPA      5  \n",
       "1901  jYxWLyWrWy8dJFQs9DEuEg  RFxjYeLW_aYLdVW3PBwFNg      4  \n",
       "1902  DMXFC1hZj_e4Mb7iOlVsGg  Lo6hBSAP4grz6Cnr3xiCKw      5  \n",
       "1903  GGWxoYbx_h2x7a46m0MYRA  BhYROfCjIJsKUk22_IVHig      3  \n",
       "1904  PslbThtGZ_yOWZxAFc3GVg  J_qpI2jCkwv7vPNz_9JeqA      4  "
      ]
     },
     "execution_count": 13,
     "metadata": {},
     "output_type": "execute_result"
    }
   ],
   "source": [
    "print(edin_revs.shape)\n",
    "edin_revs.head()"
   ]
  },
  {
   "cell_type": "code",
   "execution_count": 104,
   "metadata": {},
   "outputs": [],
   "source": [
    "edin_rest_revs = edin_revs[edin_revs.categories.str.contains('restaurants', case=False, na=False)]"
   ]
  },
  {
   "cell_type": "code",
   "execution_count": 105,
   "metadata": {},
   "outputs": [
    {
     "name": "stdout",
     "output_type": "stream",
     "text": [
      "(28407, 7)\n"
     ]
    },
    {
     "data": {
      "text/html": [
       "<div>\n",
       "<style scoped>\n",
       "    .dataframe tbody tr th:only-of-type {\n",
       "        vertical-align: middle;\n",
       "    }\n",
       "\n",
       "    .dataframe tbody tr th {\n",
       "        vertical-align: top;\n",
       "    }\n",
       "\n",
       "    .dataframe thead th {\n",
       "        text-align: right;\n",
       "    }\n",
       "</style>\n",
       "<table border=\"1\" class=\"dataframe\">\n",
       "  <thead>\n",
       "    <tr style=\"text-align: right;\">\n",
       "      <th></th>\n",
       "      <th>business_id</th>\n",
       "      <th>name</th>\n",
       "      <th>city</th>\n",
       "      <th>categories</th>\n",
       "      <th>review_id</th>\n",
       "      <th>user_id</th>\n",
       "      <th>stars</th>\n",
       "    </tr>\n",
       "  </thead>\n",
       "  <tbody>\n",
       "    <tr>\n",
       "      <th>1900</th>\n",
       "      <td>F31RycVVooeIOp9jsXmg6g</td>\n",
       "      <td>\"The Bluebird Cafe\"</td>\n",
       "      <td>Edinburgh</td>\n",
       "      <td>Breakfast &amp; Brunch;Diners;Restaurants;Cafes;Br...</td>\n",
       "      <td>b31UZTy2TvnFtkfygJG40Q</td>\n",
       "      <td>bcxcQhp0sKYd9eUnEVUzPA</td>\n",
       "      <td>5</td>\n",
       "    </tr>\n",
       "    <tr>\n",
       "      <th>1901</th>\n",
       "      <td>F31RycVVooeIOp9jsXmg6g</td>\n",
       "      <td>\"The Bluebird Cafe\"</td>\n",
       "      <td>Edinburgh</td>\n",
       "      <td>Breakfast &amp; Brunch;Diners;Restaurants;Cafes;Br...</td>\n",
       "      <td>jYxWLyWrWy8dJFQs9DEuEg</td>\n",
       "      <td>RFxjYeLW_aYLdVW3PBwFNg</td>\n",
       "      <td>4</td>\n",
       "    </tr>\n",
       "    <tr>\n",
       "      <th>1902</th>\n",
       "      <td>F31RycVVooeIOp9jsXmg6g</td>\n",
       "      <td>\"The Bluebird Cafe\"</td>\n",
       "      <td>Edinburgh</td>\n",
       "      <td>Breakfast &amp; Brunch;Diners;Restaurants;Cafes;Br...</td>\n",
       "      <td>DMXFC1hZj_e4Mb7iOlVsGg</td>\n",
       "      <td>Lo6hBSAP4grz6Cnr3xiCKw</td>\n",
       "      <td>5</td>\n",
       "    </tr>\n",
       "    <tr>\n",
       "      <th>1903</th>\n",
       "      <td>F31RycVVooeIOp9jsXmg6g</td>\n",
       "      <td>\"The Bluebird Cafe\"</td>\n",
       "      <td>Edinburgh</td>\n",
       "      <td>Breakfast &amp; Brunch;Diners;Restaurants;Cafes;Br...</td>\n",
       "      <td>GGWxoYbx_h2x7a46m0MYRA</td>\n",
       "      <td>BhYROfCjIJsKUk22_IVHig</td>\n",
       "      <td>3</td>\n",
       "    </tr>\n",
       "    <tr>\n",
       "      <th>1904</th>\n",
       "      <td>F31RycVVooeIOp9jsXmg6g</td>\n",
       "      <td>\"The Bluebird Cafe\"</td>\n",
       "      <td>Edinburgh</td>\n",
       "      <td>Breakfast &amp; Brunch;Diners;Restaurants;Cafes;Br...</td>\n",
       "      <td>PslbThtGZ_yOWZxAFc3GVg</td>\n",
       "      <td>J_qpI2jCkwv7vPNz_9JeqA</td>\n",
       "      <td>4</td>\n",
       "    </tr>\n",
       "  </tbody>\n",
       "</table>\n",
       "</div>"
      ],
      "text/plain": [
       "                 business_id                 name       city  \\\n",
       "1900  F31RycVVooeIOp9jsXmg6g  \"The Bluebird Cafe\"  Edinburgh   \n",
       "1901  F31RycVVooeIOp9jsXmg6g  \"The Bluebird Cafe\"  Edinburgh   \n",
       "1902  F31RycVVooeIOp9jsXmg6g  \"The Bluebird Cafe\"  Edinburgh   \n",
       "1903  F31RycVVooeIOp9jsXmg6g  \"The Bluebird Cafe\"  Edinburgh   \n",
       "1904  F31RycVVooeIOp9jsXmg6g  \"The Bluebird Cafe\"  Edinburgh   \n",
       "\n",
       "                                             categories  \\\n",
       "1900  Breakfast & Brunch;Diners;Restaurants;Cafes;Br...   \n",
       "1901  Breakfast & Brunch;Diners;Restaurants;Cafes;Br...   \n",
       "1902  Breakfast & Brunch;Diners;Restaurants;Cafes;Br...   \n",
       "1903  Breakfast & Brunch;Diners;Restaurants;Cafes;Br...   \n",
       "1904  Breakfast & Brunch;Diners;Restaurants;Cafes;Br...   \n",
       "\n",
       "                   review_id                 user_id  stars  \n",
       "1900  b31UZTy2TvnFtkfygJG40Q  bcxcQhp0sKYd9eUnEVUzPA      5  \n",
       "1901  jYxWLyWrWy8dJFQs9DEuEg  RFxjYeLW_aYLdVW3PBwFNg      4  \n",
       "1902  DMXFC1hZj_e4Mb7iOlVsGg  Lo6hBSAP4grz6Cnr3xiCKw      5  \n",
       "1903  GGWxoYbx_h2x7a46m0MYRA  BhYROfCjIJsKUk22_IVHig      3  \n",
       "1904  PslbThtGZ_yOWZxAFc3GVg  J_qpI2jCkwv7vPNz_9JeqA      4  "
      ]
     },
     "execution_count": 105,
     "metadata": {},
     "output_type": "execute_result"
    }
   ],
   "source": [
    "print(edin_rest_revs.shape)\n",
    "edin_rest_revs.head()"
   ]
  },
  {
   "cell_type": "code",
   "execution_count": 106,
   "metadata": {},
   "outputs": [],
   "source": [
    "#edin_rest_revs.to_csv('edinburgh_reviews.csv')"
   ]
  },
  {
   "cell_type": "code",
   "execution_count": 107,
   "metadata": {},
   "outputs": [
    {
     "data": {
      "text/plain": [
       "1605"
      ]
     },
     "execution_count": 107,
     "metadata": {},
     "output_type": "execute_result"
    }
   ],
   "source": [
    "edin_rest_revs.business_id.nunique()"
   ]
  },
  {
   "cell_type": "code",
   "execution_count": 108,
   "metadata": {},
   "outputs": [
    {
     "data": {
      "text/plain": [
       "9162"
      ]
     },
     "execution_count": 108,
     "metadata": {},
     "output_type": "execute_result"
    }
   ],
   "source": [
    "edin_rest_revs.user_id.nunique()"
   ]
  },
  {
   "cell_type": "markdown",
   "metadata": {},
   "source": [
    "### User reviews analysis"
   ]
  },
  {
   "cell_type": "markdown",
   "metadata": {},
   "source": [
    "Let's see how the user reveiws are distributed among the user base... we may need to make a decision about removing users with a low review counts. "
   ]
  },
  {
   "cell_type": "code",
   "execution_count": 109,
   "metadata": {},
   "outputs": [
    {
     "data": {
      "text/html": [
       "<div>\n",
       "<style scoped>\n",
       "    .dataframe tbody tr th:only-of-type {\n",
       "        vertical-align: middle;\n",
       "    }\n",
       "\n",
       "    .dataframe tbody tr th {\n",
       "        vertical-align: top;\n",
       "    }\n",
       "\n",
       "    .dataframe thead th {\n",
       "        text-align: right;\n",
       "    }\n",
       "</style>\n",
       "<table border=\"1\" class=\"dataframe\">\n",
       "  <thead>\n",
       "    <tr style=\"text-align: right;\">\n",
       "      <th></th>\n",
       "      <th>user_id</th>\n",
       "    </tr>\n",
       "  </thead>\n",
       "  <tbody>\n",
       "    <tr>\n",
       "      <th>count</th>\n",
       "      <td>9162.000000</td>\n",
       "    </tr>\n",
       "    <tr>\n",
       "      <th>mean</th>\n",
       "      <td>3.100524</td>\n",
       "    </tr>\n",
       "    <tr>\n",
       "      <th>std</th>\n",
       "      <td>10.324198</td>\n",
       "    </tr>\n",
       "    <tr>\n",
       "      <th>min</th>\n",
       "      <td>1.000000</td>\n",
       "    </tr>\n",
       "    <tr>\n",
       "      <th>25%</th>\n",
       "      <td>1.000000</td>\n",
       "    </tr>\n",
       "    <tr>\n",
       "      <th>50%</th>\n",
       "      <td>1.000000</td>\n",
       "    </tr>\n",
       "    <tr>\n",
       "      <th>75%</th>\n",
       "      <td>2.000000</td>\n",
       "    </tr>\n",
       "    <tr>\n",
       "      <th>max</th>\n",
       "      <td>272.000000</td>\n",
       "    </tr>\n",
       "  </tbody>\n",
       "</table>\n",
       "</div>"
      ],
      "text/plain": [
       "           user_id\n",
       "count  9162.000000\n",
       "mean      3.100524\n",
       "std      10.324198\n",
       "min       1.000000\n",
       "25%       1.000000\n",
       "50%       1.000000\n",
       "75%       2.000000\n",
       "max     272.000000"
      ]
     },
     "execution_count": 109,
     "metadata": {},
     "output_type": "execute_result"
    }
   ],
   "source": [
    "edin_rest_revs['user_id'].value_counts().to_frame().describe()"
   ]
  },
  {
   "cell_type": "code",
   "execution_count": 110,
   "metadata": {},
   "outputs": [
    {
     "data": {
      "text/plain": [
       "utRlrauZEOF_2kASsIoJ7A    272\n",
       "txzOZrHK9EVY0kYjSuXkKg    243\n",
       "LURC3E0DoXYgN9aYTF3XOg    224\n",
       "Cy1PV2TdYeDFA16mUOlr3Q    205\n",
       "yfXqZkU5iXE07GSHzdsQBA    204\n",
       "                         ... \n",
       "wSKp3SBOA3pytkwYXtB6rQ      1\n",
       "VKgu2AoBHLbOY2zSfphvpA      1\n",
       "nfcBvVbzRqVU_qoq423gtg      1\n",
       "fuwedVoOZASUk4asvnxElw      1\n",
       "7bebusNNG4-oiuqMiPFwPQ      1\n",
       "Name: user_id, Length: 9162, dtype: int64"
      ]
     },
     "execution_count": 110,
     "metadata": {},
     "output_type": "execute_result"
    }
   ],
   "source": [
    "user_counts = edin_rest_revs['user_id'].value_counts()\n",
    "user_counts"
   ]
  },
  {
   "cell_type": "code",
   "execution_count": 115,
   "metadata": {},
   "outputs": [
    {
     "data": {
      "text/plain": [
       "348"
      ]
     },
     "execution_count": 115,
     "metadata": {},
     "output_type": "execute_result"
    }
   ],
   "source": [
    "user_list = user_counts[user_counts > 10].index.tolist()\n",
    "len(user_list)"
   ]
  },
  {
   "cell_type": "markdown",
   "metadata": {},
   "source": [
    "so only 348 of our 9162 users have posted more than 10 reviews, when it comes to vectorizing then the matrix is going to be very sparse indeed. This may impact the predictive power of the final recommender. "
   ]
  },
  {
   "cell_type": "code",
   "execution_count": 116,
   "metadata": {},
   "outputs": [
    {
     "data": {
      "text/html": [
       "<div>\n",
       "<style scoped>\n",
       "    .dataframe tbody tr th:only-of-type {\n",
       "        vertical-align: middle;\n",
       "    }\n",
       "\n",
       "    .dataframe tbody tr th {\n",
       "        vertical-align: top;\n",
       "    }\n",
       "\n",
       "    .dataframe thead th {\n",
       "        text-align: right;\n",
       "    }\n",
       "</style>\n",
       "<table border=\"1\" class=\"dataframe\">\n",
       "  <thead>\n",
       "    <tr style=\"text-align: right;\">\n",
       "      <th></th>\n",
       "      <th>business_id</th>\n",
       "      <th>name</th>\n",
       "      <th>city</th>\n",
       "      <th>categories</th>\n",
       "      <th>review_id</th>\n",
       "      <th>user_id</th>\n",
       "      <th>stars</th>\n",
       "    </tr>\n",
       "  </thead>\n",
       "  <tbody>\n",
       "    <tr>\n",
       "      <th>1900</th>\n",
       "      <td>F31RycVVooeIOp9jsXmg6g</td>\n",
       "      <td>\"The Bluebird Cafe\"</td>\n",
       "      <td>Edinburgh</td>\n",
       "      <td>Breakfast &amp; Brunch;Diners;Restaurants;Cafes;Br...</td>\n",
       "      <td>b31UZTy2TvnFtkfygJG40Q</td>\n",
       "      <td>bcxcQhp0sKYd9eUnEVUzPA</td>\n",
       "      <td>5</td>\n",
       "    </tr>\n",
       "    <tr>\n",
       "      <th>1901</th>\n",
       "      <td>F31RycVVooeIOp9jsXmg6g</td>\n",
       "      <td>\"The Bluebird Cafe\"</td>\n",
       "      <td>Edinburgh</td>\n",
       "      <td>Breakfast &amp; Brunch;Diners;Restaurants;Cafes;Br...</td>\n",
       "      <td>jYxWLyWrWy8dJFQs9DEuEg</td>\n",
       "      <td>RFxjYeLW_aYLdVW3PBwFNg</td>\n",
       "      <td>4</td>\n",
       "    </tr>\n",
       "    <tr>\n",
       "      <th>1903</th>\n",
       "      <td>F31RycVVooeIOp9jsXmg6g</td>\n",
       "      <td>\"The Bluebird Cafe\"</td>\n",
       "      <td>Edinburgh</td>\n",
       "      <td>Breakfast &amp; Brunch;Diners;Restaurants;Cafes;Br...</td>\n",
       "      <td>GGWxoYbx_h2x7a46m0MYRA</td>\n",
       "      <td>BhYROfCjIJsKUk22_IVHig</td>\n",
       "      <td>3</td>\n",
       "    </tr>\n",
       "    <tr>\n",
       "      <th>1904</th>\n",
       "      <td>F31RycVVooeIOp9jsXmg6g</td>\n",
       "      <td>\"The Bluebird Cafe\"</td>\n",
       "      <td>Edinburgh</td>\n",
       "      <td>Breakfast &amp; Brunch;Diners;Restaurants;Cafes;Br...</td>\n",
       "      <td>PslbThtGZ_yOWZxAFc3GVg</td>\n",
       "      <td>J_qpI2jCkwv7vPNz_9JeqA</td>\n",
       "      <td>4</td>\n",
       "    </tr>\n",
       "    <tr>\n",
       "      <th>1907</th>\n",
       "      <td>F31RycVVooeIOp9jsXmg6g</td>\n",
       "      <td>\"The Bluebird Cafe\"</td>\n",
       "      <td>Edinburgh</td>\n",
       "      <td>Breakfast &amp; Brunch;Diners;Restaurants;Cafes;Br...</td>\n",
       "      <td>oRYhx_qYK5slteB5nyEAiQ</td>\n",
       "      <td>NMelfYHO9mncdmZLIABLgQ</td>\n",
       "      <td>5</td>\n",
       "    </tr>\n",
       "  </tbody>\n",
       "</table>\n",
       "</div>"
      ],
      "text/plain": [
       "                 business_id                 name       city  \\\n",
       "1900  F31RycVVooeIOp9jsXmg6g  \"The Bluebird Cafe\"  Edinburgh   \n",
       "1901  F31RycVVooeIOp9jsXmg6g  \"The Bluebird Cafe\"  Edinburgh   \n",
       "1903  F31RycVVooeIOp9jsXmg6g  \"The Bluebird Cafe\"  Edinburgh   \n",
       "1904  F31RycVVooeIOp9jsXmg6g  \"The Bluebird Cafe\"  Edinburgh   \n",
       "1907  F31RycVVooeIOp9jsXmg6g  \"The Bluebird Cafe\"  Edinburgh   \n",
       "\n",
       "                                             categories  \\\n",
       "1900  Breakfast & Brunch;Diners;Restaurants;Cafes;Br...   \n",
       "1901  Breakfast & Brunch;Diners;Restaurants;Cafes;Br...   \n",
       "1903  Breakfast & Brunch;Diners;Restaurants;Cafes;Br...   \n",
       "1904  Breakfast & Brunch;Diners;Restaurants;Cafes;Br...   \n",
       "1907  Breakfast & Brunch;Diners;Restaurants;Cafes;Br...   \n",
       "\n",
       "                   review_id                 user_id  stars  \n",
       "1900  b31UZTy2TvnFtkfygJG40Q  bcxcQhp0sKYd9eUnEVUzPA      5  \n",
       "1901  jYxWLyWrWy8dJFQs9DEuEg  RFxjYeLW_aYLdVW3PBwFNg      4  \n",
       "1903  GGWxoYbx_h2x7a46m0MYRA  BhYROfCjIJsKUk22_IVHig      3  \n",
       "1904  PslbThtGZ_yOWZxAFc3GVg  J_qpI2jCkwv7vPNz_9JeqA      4  \n",
       "1907  oRYhx_qYK5slteB5nyEAiQ  NMelfYHO9mncdmZLIABLgQ      5  "
      ]
     },
     "execution_count": 116,
     "metadata": {},
     "output_type": "execute_result"
    }
   ],
   "source": [
    "edin_rest_revs = edin_rest_revs[edin_rest_revs['user_id'].isin(user_list)]\n",
    "edin_rest_revs.head()"
   ]
  },
  {
   "cell_type": "code",
   "execution_count": 117,
   "metadata": {},
   "outputs": [
    {
     "data": {
      "text/plain": [
       "(12552, 7)"
      ]
     },
     "execution_count": 117,
     "metadata": {},
     "output_type": "execute_result"
    }
   ],
   "source": [
    "edin_rest_revs.shape"
   ]
  },
  {
   "cell_type": "code",
   "execution_count": 118,
   "metadata": {},
   "outputs": [
    {
     "data": {
      "text/plain": [
       "1527"
      ]
     },
     "execution_count": 118,
     "metadata": {},
     "output_type": "execute_result"
    }
   ],
   "source": [
    "edin_rest_revs.business_id.nunique()"
   ]
  },
  {
   "cell_type": "markdown",
   "metadata": {},
   "source": [
    "To enable a base engine to be built we will progress with this dataframe as our data set for collaborative filtering. From the initially imported Yelp datasets we have filered by categories = 'restaurant', location = Edinburgh, and minimum-user-reviews = 10. This leaves us with 12552 reviews across 348 users and 1527 business. We note that removing users with low review counts has also removed some businesses from the set - logically this suggests that the removed restuarants could also have low review counts which could be detrimental to our final product as we want to be able to get access to these lesser known establishments.  "
   ]
  },
  {
   "cell_type": "markdown",
   "metadata": {},
   "source": [
    "Let's export two data sets for collaborative modelling purposes. One that sets a lower limit for user reviews at 10 and one which sets no lower limit for comparison. "
   ]
  },
  {
   "cell_type": "code",
   "execution_count": 103,
   "metadata": {},
   "outputs": [],
   "source": [
    "edin_rest_revs.to_csv('collaborative_limit.csv')"
   ]
  }
 ],
 "metadata": {
  "kernelspec": {
   "display_name": "learn-env",
   "language": "python",
   "name": "learn-env"
  },
  "language_info": {
   "codemirror_mode": {
    "name": "ipython",
    "version": 3
   },
   "file_extension": ".py",
   "mimetype": "text/x-python",
   "name": "python",
   "nbconvert_exporter": "python",
   "pygments_lexer": "ipython3",
   "version": "3.6.6"
  }
 },
 "nbformat": 4,
 "nbformat_minor": 2
}
