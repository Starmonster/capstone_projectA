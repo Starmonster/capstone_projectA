{
 "cells": [
  {
   "cell_type": "markdown",
   "metadata": {},
   "source": [
    "# Restaurant Recommendation System\n",
    "## User Exploratory Data Analysis"
   ]
  },
  {
   "cell_type": "code",
   "execution_count": 1,
   "metadata": {},
   "outputs": [],
   "source": [
    "import pandas as pd\n",
    "import numpy as np"
   ]
  },
  {
   "cell_type": "code",
   "execution_count": 4,
   "metadata": {},
   "outputs": [],
   "source": [
    "import matplotlib.pyplot as plt\n",
    "import seaborn as sns\n",
    "%matplotlib inline"
   ]
  },
  {
   "cell_type": "code",
   "execution_count": 2,
   "metadata": {},
   "outputs": [],
   "source": [
    "import warnings\n",
    "warnings.filterwarnings('ignore')"
   ]
  },
  {
   "cell_type": "code",
   "execution_count": 3,
   "metadata": {},
   "outputs": [],
   "source": [
    "# df_user = pd.read_csv('../data/yelp_data/yelp_user.csv') #raw file size is 1.36Gb\n",
    "df_review = pd.read_csv('../data/yelp_data/yelp_review.csv') #raw file size is 3.79Gb\n",
    "# df_checkin = pd.read_csv('../data/yelp_data/yelp_checkin.csv') #raw file size is 136Mb\n",
    "# df4_tip = pd.read_csv('../data/yelp_data/yelp_tip.csv') #raw file size is 148Mb"
   ]
  },
  {
   "cell_type": "code",
   "execution_count": 5,
   "metadata": {},
   "outputs": [],
   "source": [
    "pd.set_option('display.max_columns', None)"
   ]
  },
  {
   "cell_type": "code",
   "execution_count": 7,
   "metadata": {},
   "outputs": [],
   "source": [
    "#Note that due to the raw file sizes we will not be uploading to github due to the hard 100MB file size limit.\n",
    "#data files will bne cleaned and these will be utilised for MVP."
   ]
  },
  {
   "cell_type": "markdown",
   "metadata": {},
   "source": [
    "### User Data High Level Review"
   ]
  },
  {
   "cell_type": "code",
   "execution_count": 8,
   "metadata": {},
   "outputs": [
    {
     "data": {
      "text/html": [
       "<div>\n",
       "<style scoped>\n",
       "    .dataframe tbody tr th:only-of-type {\n",
       "        vertical-align: middle;\n",
       "    }\n",
       "\n",
       "    .dataframe tbody tr th {\n",
       "        vertical-align: top;\n",
       "    }\n",
       "\n",
       "    .dataframe thead th {\n",
       "        text-align: right;\n",
       "    }\n",
       "</style>\n",
       "<table border=\"1\" class=\"dataframe\">\n",
       "  <thead>\n",
       "    <tr style=\"text-align: right;\">\n",
       "      <th></th>\n",
       "      <th>user_id</th>\n",
       "      <th>name</th>\n",
       "      <th>review_count</th>\n",
       "      <th>yelping_since</th>\n",
       "      <th>friends</th>\n",
       "      <th>useful</th>\n",
       "      <th>funny</th>\n",
       "      <th>cool</th>\n",
       "      <th>fans</th>\n",
       "      <th>elite</th>\n",
       "      <th>...</th>\n",
       "      <th>compliment_more</th>\n",
       "      <th>compliment_profile</th>\n",
       "      <th>compliment_cute</th>\n",
       "      <th>compliment_list</th>\n",
       "      <th>compliment_note</th>\n",
       "      <th>compliment_plain</th>\n",
       "      <th>compliment_cool</th>\n",
       "      <th>compliment_funny</th>\n",
       "      <th>compliment_writer</th>\n",
       "      <th>compliment_photos</th>\n",
       "    </tr>\n",
       "  </thead>\n",
       "  <tbody>\n",
       "    <tr>\n",
       "      <th>0</th>\n",
       "      <td>JJ-aSuM4pCFPdkfoZ34q0Q</td>\n",
       "      <td>Chris</td>\n",
       "      <td>10</td>\n",
       "      <td>2013-09-24</td>\n",
       "      <td>0njfJmB-7n84DlIgUByCNw, rFn3Xe3RqHxRSxWOU19Gpg...</td>\n",
       "      <td>0</td>\n",
       "      <td>0</td>\n",
       "      <td>0</td>\n",
       "      <td>0</td>\n",
       "      <td>None</td>\n",
       "      <td>...</td>\n",
       "      <td>0</td>\n",
       "      <td>0</td>\n",
       "      <td>0</td>\n",
       "      <td>0</td>\n",
       "      <td>0</td>\n",
       "      <td>0</td>\n",
       "      <td>0</td>\n",
       "      <td>0</td>\n",
       "      <td>0</td>\n",
       "      <td>0</td>\n",
       "    </tr>\n",
       "    <tr>\n",
       "      <th>1</th>\n",
       "      <td>uUzsFQn_6cXDh6rPNGbIFA</td>\n",
       "      <td>Tiffy</td>\n",
       "      <td>1</td>\n",
       "      <td>2017-03-02</td>\n",
       "      <td>None</td>\n",
       "      <td>0</td>\n",
       "      <td>0</td>\n",
       "      <td>0</td>\n",
       "      <td>0</td>\n",
       "      <td>None</td>\n",
       "      <td>...</td>\n",
       "      <td>0</td>\n",
       "      <td>0</td>\n",
       "      <td>0</td>\n",
       "      <td>0</td>\n",
       "      <td>0</td>\n",
       "      <td>0</td>\n",
       "      <td>0</td>\n",
       "      <td>0</td>\n",
       "      <td>0</td>\n",
       "      <td>0</td>\n",
       "    </tr>\n",
       "    <tr>\n",
       "      <th>2</th>\n",
       "      <td>mBneaEEH5EMyxaVyqS-72A</td>\n",
       "      <td>Mark</td>\n",
       "      <td>6</td>\n",
       "      <td>2015-03-13</td>\n",
       "      <td>None</td>\n",
       "      <td>0</td>\n",
       "      <td>0</td>\n",
       "      <td>0</td>\n",
       "      <td>0</td>\n",
       "      <td>None</td>\n",
       "      <td>...</td>\n",
       "      <td>0</td>\n",
       "      <td>0</td>\n",
       "      <td>0</td>\n",
       "      <td>0</td>\n",
       "      <td>0</td>\n",
       "      <td>0</td>\n",
       "      <td>0</td>\n",
       "      <td>0</td>\n",
       "      <td>0</td>\n",
       "      <td>0</td>\n",
       "    </tr>\n",
       "    <tr>\n",
       "      <th>3</th>\n",
       "      <td>W5mJGs-dcDWRGEhAzUYtoA</td>\n",
       "      <td>Evelyn</td>\n",
       "      <td>3</td>\n",
       "      <td>2016-09-08</td>\n",
       "      <td>None</td>\n",
       "      <td>0</td>\n",
       "      <td>0</td>\n",
       "      <td>0</td>\n",
       "      <td>0</td>\n",
       "      <td>None</td>\n",
       "      <td>...</td>\n",
       "      <td>0</td>\n",
       "      <td>0</td>\n",
       "      <td>0</td>\n",
       "      <td>0</td>\n",
       "      <td>0</td>\n",
       "      <td>0</td>\n",
       "      <td>0</td>\n",
       "      <td>0</td>\n",
       "      <td>0</td>\n",
       "      <td>0</td>\n",
       "    </tr>\n",
       "    <tr>\n",
       "      <th>4</th>\n",
       "      <td>4E8--zUZO1Rr1IBK4_83fg</td>\n",
       "      <td>Lisa</td>\n",
       "      <td>11</td>\n",
       "      <td>2012-07-16</td>\n",
       "      <td>None</td>\n",
       "      <td>4</td>\n",
       "      <td>0</td>\n",
       "      <td>0</td>\n",
       "      <td>0</td>\n",
       "      <td>None</td>\n",
       "      <td>...</td>\n",
       "      <td>0</td>\n",
       "      <td>0</td>\n",
       "      <td>0</td>\n",
       "      <td>0</td>\n",
       "      <td>0</td>\n",
       "      <td>0</td>\n",
       "      <td>0</td>\n",
       "      <td>0</td>\n",
       "      <td>1</td>\n",
       "      <td>0</td>\n",
       "    </tr>\n",
       "  </tbody>\n",
       "</table>\n",
       "<p>5 rows × 22 columns</p>\n",
       "</div>"
      ],
      "text/plain": [
       "                  user_id    name  review_count yelping_since  \\\n",
       "0  JJ-aSuM4pCFPdkfoZ34q0Q   Chris            10    2013-09-24   \n",
       "1  uUzsFQn_6cXDh6rPNGbIFA   Tiffy             1    2017-03-02   \n",
       "2  mBneaEEH5EMyxaVyqS-72A    Mark             6    2015-03-13   \n",
       "3  W5mJGs-dcDWRGEhAzUYtoA  Evelyn             3    2016-09-08   \n",
       "4  4E8--zUZO1Rr1IBK4_83fg    Lisa            11    2012-07-16   \n",
       "\n",
       "                                             friends  useful  funny  cool  \\\n",
       "0  0njfJmB-7n84DlIgUByCNw, rFn3Xe3RqHxRSxWOU19Gpg...       0      0     0   \n",
       "1                                               None       0      0     0   \n",
       "2                                               None       0      0     0   \n",
       "3                                               None       0      0     0   \n",
       "4                                               None       4      0     0   \n",
       "\n",
       "   fans elite  ...  compliment_more  compliment_profile  compliment_cute  \\\n",
       "0     0  None  ...                0                   0                0   \n",
       "1     0  None  ...                0                   0                0   \n",
       "2     0  None  ...                0                   0                0   \n",
       "3     0  None  ...                0                   0                0   \n",
       "4     0  None  ...                0                   0                0   \n",
       "\n",
       "   compliment_list  compliment_note  compliment_plain  compliment_cool  \\\n",
       "0                0                0                 0                0   \n",
       "1                0                0                 0                0   \n",
       "2                0                0                 0                0   \n",
       "3                0                0                 0                0   \n",
       "4                0                0                 0                0   \n",
       "\n",
       "   compliment_funny  compliment_writer  compliment_photos  \n",
       "0                 0                  0                  0  \n",
       "1                 0                  0                  0  \n",
       "2                 0                  0                  0  \n",
       "3                 0                  0                  0  \n",
       "4                 0                  1                  0  \n",
       "\n",
       "[5 rows x 22 columns]"
      ]
     },
     "execution_count": 8,
     "metadata": {},
     "output_type": "execute_result"
    }
   ],
   "source": [
    "df_user.head()"
   ]
  },
  {
   "cell_type": "code",
   "execution_count": 11,
   "metadata": {},
   "outputs": [
    {
     "data": {
      "text/plain": [
       "(1326100, 22)"
      ]
     },
     "execution_count": 11,
     "metadata": {},
     "output_type": "execute_result"
    }
   ],
   "source": [
    "df_user.shape"
   ]
  },
  {
   "cell_type": "code",
   "execution_count": 13,
   "metadata": {},
   "outputs": [
    {
     "name": "stdout",
     "output_type": "stream",
     "text": [
      "<class 'pandas.core.frame.DataFrame'>\n",
      "RangeIndex: 1326100 entries, 0 to 1326099\n",
      "Data columns (total 22 columns):\n",
      " #   Column              Non-Null Count    Dtype  \n",
      "---  ------              --------------    -----  \n",
      " 0   user_id             1326100 non-null  object \n",
      " 1   name                1325603 non-null  object \n",
      " 2   review_count        1326100 non-null  int64  \n",
      " 3   yelping_since       1326100 non-null  object \n",
      " 4   friends             1326100 non-null  object \n",
      " 5   useful              1326100 non-null  int64  \n",
      " 6   funny               1326100 non-null  int64  \n",
      " 7   cool                1326100 non-null  int64  \n",
      " 8   fans                1326100 non-null  int64  \n",
      " 9   elite               1326100 non-null  object \n",
      " 10  average_stars       1326100 non-null  float64\n",
      " 11  compliment_hot      1326100 non-null  int64  \n",
      " 12  compliment_more     1326100 non-null  int64  \n",
      " 13  compliment_profile  1326100 non-null  int64  \n",
      " 14  compliment_cute     1326100 non-null  int64  \n",
      " 15  compliment_list     1326100 non-null  int64  \n",
      " 16  compliment_note     1326100 non-null  int64  \n",
      " 17  compliment_plain    1326100 non-null  int64  \n",
      " 18  compliment_cool     1326100 non-null  int64  \n",
      " 19  compliment_funny    1326100 non-null  int64  \n",
      " 20  compliment_writer   1326100 non-null  int64  \n",
      " 21  compliment_photos   1326100 non-null  int64  \n",
      "dtypes: float64(1), int64(16), object(5)\n",
      "memory usage: 222.6+ MB\n"
     ]
    }
   ],
   "source": [
    "df_user.info()"
   ]
  },
  {
   "cell_type": "markdown",
   "metadata": {},
   "source": [
    "### Review Data High Level Review"
   ]
  },
  {
   "cell_type": "code",
   "execution_count": 27,
   "metadata": {},
   "outputs": [
    {
     "data": {
      "text/html": [
       "<div>\n",
       "<style scoped>\n",
       "    .dataframe tbody tr th:only-of-type {\n",
       "        vertical-align: middle;\n",
       "    }\n",
       "\n",
       "    .dataframe tbody tr th {\n",
       "        vertical-align: top;\n",
       "    }\n",
       "\n",
       "    .dataframe thead th {\n",
       "        text-align: right;\n",
       "    }\n",
       "</style>\n",
       "<table border=\"1\" class=\"dataframe\">\n",
       "  <thead>\n",
       "    <tr style=\"text-align: right;\">\n",
       "      <th></th>\n",
       "      <th>review_id</th>\n",
       "      <th>user_id</th>\n",
       "      <th>business_id</th>\n",
       "      <th>stars</th>\n",
       "      <th>date</th>\n",
       "      <th>text</th>\n",
       "      <th>useful</th>\n",
       "      <th>funny</th>\n",
       "      <th>cool</th>\n",
       "    </tr>\n",
       "  </thead>\n",
       "  <tbody>\n",
       "    <tr>\n",
       "      <th>0</th>\n",
       "      <td>vkVSCC7xljjrAI4UGfnKEQ</td>\n",
       "      <td>bv2nCi5Qv5vroFiqKGopiw</td>\n",
       "      <td>AEx2SYEUJmTxVVB18LlCwA</td>\n",
       "      <td>5</td>\n",
       "      <td>2016-05-28</td>\n",
       "      <td>Super simple place but amazing nonetheless. It...</td>\n",
       "      <td>0</td>\n",
       "      <td>0</td>\n",
       "      <td>0</td>\n",
       "    </tr>\n",
       "    <tr>\n",
       "      <th>1</th>\n",
       "      <td>n6QzIUObkYshz4dz2QRJTw</td>\n",
       "      <td>bv2nCi5Qv5vroFiqKGopiw</td>\n",
       "      <td>VR6GpWIda3SfvPC-lg9H3w</td>\n",
       "      <td>5</td>\n",
       "      <td>2016-05-28</td>\n",
       "      <td>Small unassuming place that changes their menu...</td>\n",
       "      <td>0</td>\n",
       "      <td>0</td>\n",
       "      <td>0</td>\n",
       "    </tr>\n",
       "    <tr>\n",
       "      <th>2</th>\n",
       "      <td>MV3CcKScW05u5LVfF6ok0g</td>\n",
       "      <td>bv2nCi5Qv5vroFiqKGopiw</td>\n",
       "      <td>CKC0-MOWMqoeWf6s-szl8g</td>\n",
       "      <td>5</td>\n",
       "      <td>2016-05-28</td>\n",
       "      <td>Lester's is located in a beautiful neighborhoo...</td>\n",
       "      <td>0</td>\n",
       "      <td>0</td>\n",
       "      <td>0</td>\n",
       "    </tr>\n",
       "    <tr>\n",
       "      <th>3</th>\n",
       "      <td>IXvOzsEMYtiJI0CARmj77Q</td>\n",
       "      <td>bv2nCi5Qv5vroFiqKGopiw</td>\n",
       "      <td>ACFtxLv8pGrrxMm6EgjreA</td>\n",
       "      <td>4</td>\n",
       "      <td>2016-05-28</td>\n",
       "      <td>Love coming here. Yes the place always needs t...</td>\n",
       "      <td>0</td>\n",
       "      <td>0</td>\n",
       "      <td>0</td>\n",
       "    </tr>\n",
       "    <tr>\n",
       "      <th>4</th>\n",
       "      <td>L_9BTb55X0GDtThi6GlZ6w</td>\n",
       "      <td>bv2nCi5Qv5vroFiqKGopiw</td>\n",
       "      <td>s2I_Ni76bjJNK9yG60iD-Q</td>\n",
       "      <td>4</td>\n",
       "      <td>2016-05-28</td>\n",
       "      <td>Had their chocolate almond croissant and it wa...</td>\n",
       "      <td>0</td>\n",
       "      <td>0</td>\n",
       "      <td>0</td>\n",
       "    </tr>\n",
       "  </tbody>\n",
       "</table>\n",
       "</div>"
      ],
      "text/plain": [
       "                review_id                 user_id             business_id  \\\n",
       "0  vkVSCC7xljjrAI4UGfnKEQ  bv2nCi5Qv5vroFiqKGopiw  AEx2SYEUJmTxVVB18LlCwA   \n",
       "1  n6QzIUObkYshz4dz2QRJTw  bv2nCi5Qv5vroFiqKGopiw  VR6GpWIda3SfvPC-lg9H3w   \n",
       "2  MV3CcKScW05u5LVfF6ok0g  bv2nCi5Qv5vroFiqKGopiw  CKC0-MOWMqoeWf6s-szl8g   \n",
       "3  IXvOzsEMYtiJI0CARmj77Q  bv2nCi5Qv5vroFiqKGopiw  ACFtxLv8pGrrxMm6EgjreA   \n",
       "4  L_9BTb55X0GDtThi6GlZ6w  bv2nCi5Qv5vroFiqKGopiw  s2I_Ni76bjJNK9yG60iD-Q   \n",
       "\n",
       "   stars        date                                               text  \\\n",
       "0      5  2016-05-28  Super simple place but amazing nonetheless. It...   \n",
       "1      5  2016-05-28  Small unassuming place that changes their menu...   \n",
       "2      5  2016-05-28  Lester's is located in a beautiful neighborhoo...   \n",
       "3      4  2016-05-28  Love coming here. Yes the place always needs t...   \n",
       "4      4  2016-05-28  Had their chocolate almond croissant and it wa...   \n",
       "\n",
       "   useful  funny  cool  \n",
       "0       0      0     0  \n",
       "1       0      0     0  \n",
       "2       0      0     0  \n",
       "3       0      0     0  \n",
       "4       0      0     0  "
      ]
     },
     "execution_count": 27,
     "metadata": {},
     "output_type": "execute_result"
    }
   ],
   "source": [
    "df_review.head()"
   ]
  },
  {
   "cell_type": "code",
   "execution_count": 16,
   "metadata": {},
   "outputs": [
    {
     "data": {
      "text/plain": [
       "(5261668, 9)"
      ]
     },
     "execution_count": 16,
     "metadata": {},
     "output_type": "execute_result"
    }
   ],
   "source": [
    "df_review.shape"
   ]
  },
  {
   "cell_type": "code",
   "execution_count": 17,
   "metadata": {},
   "outputs": [
    {
     "name": "stdout",
     "output_type": "stream",
     "text": [
      "<class 'pandas.core.frame.DataFrame'>\n",
      "RangeIndex: 5261668 entries, 0 to 5261667\n",
      "Data columns (total 9 columns):\n",
      " #   Column       Dtype \n",
      "---  ------       ----- \n",
      " 0   review_id    object\n",
      " 1   user_id      object\n",
      " 2   business_id  object\n",
      " 3   stars        int64 \n",
      " 4   date         object\n",
      " 5   text         object\n",
      " 6   useful       int64 \n",
      " 7   funny        int64 \n",
      " 8   cool         int64 \n",
      "dtypes: int64(4), object(5)\n",
      "memory usage: 361.3+ MB\n"
     ]
    }
   ],
   "source": [
    "df_review.info()"
   ]
  },
  {
   "cell_type": "markdown",
   "metadata": {},
   "source": [
    "### Checkin Data High Level Review"
   ]
  },
  {
   "cell_type": "code",
   "execution_count": 30,
   "metadata": {},
   "outputs": [
    {
     "data": {
      "text/html": [
       "<div>\n",
       "<style scoped>\n",
       "    .dataframe tbody tr th:only-of-type {\n",
       "        vertical-align: middle;\n",
       "    }\n",
       "\n",
       "    .dataframe tbody tr th {\n",
       "        vertical-align: top;\n",
       "    }\n",
       "\n",
       "    .dataframe thead th {\n",
       "        text-align: right;\n",
       "    }\n",
       "</style>\n",
       "<table border=\"1\" class=\"dataframe\">\n",
       "  <thead>\n",
       "    <tr style=\"text-align: right;\">\n",
       "      <th></th>\n",
       "      <th>business_id</th>\n",
       "      <th>weekday</th>\n",
       "      <th>hour</th>\n",
       "      <th>checkins</th>\n",
       "    </tr>\n",
       "  </thead>\n",
       "  <tbody>\n",
       "    <tr>\n",
       "      <th>0</th>\n",
       "      <td>3Mc-LxcqeguOXOVT_2ZtCg</td>\n",
       "      <td>Tue</td>\n",
       "      <td>0:00</td>\n",
       "      <td>12</td>\n",
       "    </tr>\n",
       "    <tr>\n",
       "      <th>1</th>\n",
       "      <td>SVFx6_epO22bZTZnKwlX7g</td>\n",
       "      <td>Wed</td>\n",
       "      <td>0:00</td>\n",
       "      <td>4</td>\n",
       "    </tr>\n",
       "    <tr>\n",
       "      <th>2</th>\n",
       "      <td>vW9aLivd4-IorAfStzsHww</td>\n",
       "      <td>Tue</td>\n",
       "      <td>14:00</td>\n",
       "      <td>1</td>\n",
       "    </tr>\n",
       "    <tr>\n",
       "      <th>3</th>\n",
       "      <td>tEzxhauTQddACyqdJ0OPEQ</td>\n",
       "      <td>Fri</td>\n",
       "      <td>19:00</td>\n",
       "      <td>1</td>\n",
       "    </tr>\n",
       "    <tr>\n",
       "      <th>4</th>\n",
       "      <td>CEyZU32P-vtMhgqRCaXzMA</td>\n",
       "      <td>Tue</td>\n",
       "      <td>17:00</td>\n",
       "      <td>1</td>\n",
       "    </tr>\n",
       "    <tr>\n",
       "      <th>...</th>\n",
       "      <td>...</td>\n",
       "      <td>...</td>\n",
       "      <td>...</td>\n",
       "      <td>...</td>\n",
       "    </tr>\n",
       "    <tr>\n",
       "      <th>23995</th>\n",
       "      <td>xb0a9XiNMbdXo19WTOGHuA</td>\n",
       "      <td>Fri</td>\n",
       "      <td>23:00</td>\n",
       "      <td>2</td>\n",
       "    </tr>\n",
       "    <tr>\n",
       "      <th>23996</th>\n",
       "      <td>M-rqZ56wTGSNoIIsBSlhDA</td>\n",
       "      <td>Sun</td>\n",
       "      <td>18:00</td>\n",
       "      <td>3</td>\n",
       "    </tr>\n",
       "    <tr>\n",
       "      <th>23997</th>\n",
       "      <td>0XkL3A5Uc5h4C_DXqhpBtg</td>\n",
       "      <td>Fri</td>\n",
       "      <td>21:00</td>\n",
       "      <td>1</td>\n",
       "    </tr>\n",
       "    <tr>\n",
       "      <th>23998</th>\n",
       "      <td>A8wmbZp6lEZitqWy28QRIw</td>\n",
       "      <td>Sat</td>\n",
       "      <td>0:00</td>\n",
       "      <td>1</td>\n",
       "    </tr>\n",
       "    <tr>\n",
       "      <th>23999</th>\n",
       "      <td>tIRn9YlrJ4Y5IyHzY72i9A</td>\n",
       "      <td>Wed</td>\n",
       "      <td>23:00</td>\n",
       "      <td>2</td>\n",
       "    </tr>\n",
       "  </tbody>\n",
       "</table>\n",
       "<p>24000 rows × 4 columns</p>\n",
       "</div>"
      ],
      "text/plain": [
       "                  business_id weekday   hour  checkins\n",
       "0      3Mc-LxcqeguOXOVT_2ZtCg     Tue   0:00        12\n",
       "1      SVFx6_epO22bZTZnKwlX7g     Wed   0:00         4\n",
       "2      vW9aLivd4-IorAfStzsHww     Tue  14:00         1\n",
       "3      tEzxhauTQddACyqdJ0OPEQ     Fri  19:00         1\n",
       "4      CEyZU32P-vtMhgqRCaXzMA     Tue  17:00         1\n",
       "...                       ...     ...    ...       ...\n",
       "23995  xb0a9XiNMbdXo19WTOGHuA     Fri  23:00         2\n",
       "23996  M-rqZ56wTGSNoIIsBSlhDA     Sun  18:00         3\n",
       "23997  0XkL3A5Uc5h4C_DXqhpBtg     Fri  21:00         1\n",
       "23998  A8wmbZp6lEZitqWy28QRIw     Sat   0:00         1\n",
       "23999  tIRn9YlrJ4Y5IyHzY72i9A     Wed  23:00         2\n",
       "\n",
       "[24000 rows x 4 columns]"
      ]
     },
     "execution_count": 30,
     "metadata": {},
     "output_type": "execute_result"
    }
   ],
   "source": [
    "df_checkin.head(24000)"
   ]
  },
  {
   "cell_type": "code",
   "execution_count": 19,
   "metadata": {},
   "outputs": [
    {
     "data": {
      "text/plain": [
       "(3911218, 4)"
      ]
     },
     "execution_count": 19,
     "metadata": {},
     "output_type": "execute_result"
    }
   ],
   "source": [
    "df_checkin.shape"
   ]
  },
  {
   "cell_type": "code",
   "execution_count": 20,
   "metadata": {},
   "outputs": [
    {
     "name": "stdout",
     "output_type": "stream",
     "text": [
      "<class 'pandas.core.frame.DataFrame'>\n",
      "RangeIndex: 3911218 entries, 0 to 3911217\n",
      "Data columns (total 4 columns):\n",
      " #   Column       Dtype \n",
      "---  ------       ----- \n",
      " 0   business_id  object\n",
      " 1   weekday      object\n",
      " 2   hour         object\n",
      " 3   checkins     int64 \n",
      "dtypes: int64(1), object(3)\n",
      "memory usage: 119.4+ MB\n"
     ]
    }
   ],
   "source": [
    "df_checkin.info()"
   ]
  },
  {
   "cell_type": "markdown",
   "metadata": {},
   "source": [
    "### Tip Data High Level Review"
   ]
  },
  {
   "cell_type": "code",
   "execution_count": 21,
   "metadata": {},
   "outputs": [
    {
     "data": {
      "text/html": [
       "<div>\n",
       "<style scoped>\n",
       "    .dataframe tbody tr th:only-of-type {\n",
       "        vertical-align: middle;\n",
       "    }\n",
       "\n",
       "    .dataframe tbody tr th {\n",
       "        vertical-align: top;\n",
       "    }\n",
       "\n",
       "    .dataframe thead th {\n",
       "        text-align: right;\n",
       "    }\n",
       "</style>\n",
       "<table border=\"1\" class=\"dataframe\">\n",
       "  <thead>\n",
       "    <tr style=\"text-align: right;\">\n",
       "      <th></th>\n",
       "      <th>text</th>\n",
       "      <th>date</th>\n",
       "      <th>likes</th>\n",
       "      <th>business_id</th>\n",
       "      <th>user_id</th>\n",
       "    </tr>\n",
       "  </thead>\n",
       "  <tbody>\n",
       "    <tr>\n",
       "      <th>0</th>\n",
       "      <td>Great breakfast large portions and friendly wa...</td>\n",
       "      <td>2015-08-12</td>\n",
       "      <td>0</td>\n",
       "      <td>jH19V2I9fIslnNhDzPmdkA</td>\n",
       "      <td>ZcLKXikTHYOnYt5VYRO5sg</td>\n",
       "    </tr>\n",
       "    <tr>\n",
       "      <th>1</th>\n",
       "      <td>Nice place. Great staff.  A fixture in the tow...</td>\n",
       "      <td>2014-06-20</td>\n",
       "      <td>0</td>\n",
       "      <td>dAa0hB2yrnHzVmsCkN4YvQ</td>\n",
       "      <td>oaYhjqBbh18ZhU0bpyzSuw</td>\n",
       "    </tr>\n",
       "    <tr>\n",
       "      <th>2</th>\n",
       "      <td>Happy hour 5-7 Monday - Friday</td>\n",
       "      <td>2016-10-12</td>\n",
       "      <td>0</td>\n",
       "      <td>dAa0hB2yrnHzVmsCkN4YvQ</td>\n",
       "      <td>ulQ8Nyj7jCUR8M83SUMoRQ</td>\n",
       "    </tr>\n",
       "    <tr>\n",
       "      <th>3</th>\n",
       "      <td>Parking is a premium, keep circling, you will ...</td>\n",
       "      <td>2017-01-28</td>\n",
       "      <td>0</td>\n",
       "      <td>ESzO3Av0b1_TzKOiqzbQYQ</td>\n",
       "      <td>ulQ8Nyj7jCUR8M83SUMoRQ</td>\n",
       "    </tr>\n",
       "    <tr>\n",
       "      <th>4</th>\n",
       "      <td>Homemade pasta is the best in the area</td>\n",
       "      <td>2017-02-25</td>\n",
       "      <td>0</td>\n",
       "      <td>k7WRPbDd7rztjHcGGkEjlw</td>\n",
       "      <td>ulQ8Nyj7jCUR8M83SUMoRQ</td>\n",
       "    </tr>\n",
       "  </tbody>\n",
       "</table>\n",
       "</div>"
      ],
      "text/plain": [
       "                                                text        date  likes  \\\n",
       "0  Great breakfast large portions and friendly wa...  2015-08-12      0   \n",
       "1  Nice place. Great staff.  A fixture in the tow...  2014-06-20      0   \n",
       "2                     Happy hour 5-7 Monday - Friday  2016-10-12      0   \n",
       "3  Parking is a premium, keep circling, you will ...  2017-01-28      0   \n",
       "4             Homemade pasta is the best in the area  2017-02-25      0   \n",
       "\n",
       "              business_id                 user_id  \n",
       "0  jH19V2I9fIslnNhDzPmdkA  ZcLKXikTHYOnYt5VYRO5sg  \n",
       "1  dAa0hB2yrnHzVmsCkN4YvQ  oaYhjqBbh18ZhU0bpyzSuw  \n",
       "2  dAa0hB2yrnHzVmsCkN4YvQ  ulQ8Nyj7jCUR8M83SUMoRQ  \n",
       "3  ESzO3Av0b1_TzKOiqzbQYQ  ulQ8Nyj7jCUR8M83SUMoRQ  \n",
       "4  k7WRPbDd7rztjHcGGkEjlw  ulQ8Nyj7jCUR8M83SUMoRQ  "
      ]
     },
     "execution_count": 21,
     "metadata": {},
     "output_type": "execute_result"
    }
   ],
   "source": [
    "df4_tip.head()"
   ]
  },
  {
   "cell_type": "code",
   "execution_count": 23,
   "metadata": {},
   "outputs": [
    {
     "data": {
      "text/plain": [
       "(1098324, 5)"
      ]
     },
     "execution_count": 23,
     "metadata": {},
     "output_type": "execute_result"
    }
   ],
   "source": [
    "df4_tip.shape"
   ]
  },
  {
   "cell_type": "code",
   "execution_count": 24,
   "metadata": {},
   "outputs": [
    {
     "name": "stdout",
     "output_type": "stream",
     "text": [
      "<class 'pandas.core.frame.DataFrame'>\n",
      "RangeIndex: 1098324 entries, 0 to 1098323\n",
      "Data columns (total 5 columns):\n",
      " #   Column       Non-Null Count    Dtype \n",
      "---  ------       --------------    ----- \n",
      " 0   text         1098322 non-null  object\n",
      " 1   date         1098324 non-null  object\n",
      " 2   likes        1098324 non-null  int64 \n",
      " 3   business_id  1098324 non-null  object\n",
      " 4   user_id      1098324 non-null  object\n",
      "dtypes: int64(1), object(4)\n",
      "memory usage: 41.9+ MB\n"
     ]
    }
   ],
   "source": [
    "df4_tip.info()"
   ]
  },
  {
   "cell_type": "code",
   "execution_count": null,
   "metadata": {},
   "outputs": [],
   "source": []
  },
  {
   "cell_type": "markdown",
   "metadata": {},
   "source": [
    "### Create Clean Dataframe for Content Modelling"
   ]
  },
  {
   "cell_type": "markdown",
   "metadata": {},
   "source": [
    "For our content based models we need a dataframe that has one instance of a business_id corresponding to one cell that holds all the review text and category tags across all reviews. We'll group and join the review df as follows: "
   ]
  },
  {
   "cell_type": "markdown",
   "metadata": {},
   "source": [
    "1) select required columns from our review dataframe (df_review)\\\n",
    "2) read in the raw business csv\\\n",
    "3) select required columns from the business dataframe\\\n",
    "4) merge the two frames so we have the business name, review text, ids and categories in one dataframe\\\n",
    "5) group by business id and join all review text into one corresponding cell, we should have one row per business\\\n",
    "6) complete any final cleaning prior for use with content based model\\ "
   ]
  },
  {
   "cell_type": "code",
   "execution_count": 6,
   "metadata": {},
   "outputs": [
    {
     "name": "stdout",
     "output_type": "stream",
     "text": [
      "(5261668, 2)\n"
     ]
    },
    {
     "data": {
      "text/html": [
       "<div>\n",
       "<style scoped>\n",
       "    .dataframe tbody tr th:only-of-type {\n",
       "        vertical-align: middle;\n",
       "    }\n",
       "\n",
       "    .dataframe tbody tr th {\n",
       "        vertical-align: top;\n",
       "    }\n",
       "\n",
       "    .dataframe thead th {\n",
       "        text-align: right;\n",
       "    }\n",
       "</style>\n",
       "<table border=\"1\" class=\"dataframe\">\n",
       "  <thead>\n",
       "    <tr style=\"text-align: right;\">\n",
       "      <th></th>\n",
       "      <th>business_id</th>\n",
       "      <th>text</th>\n",
       "    </tr>\n",
       "  </thead>\n",
       "  <tbody>\n",
       "    <tr>\n",
       "      <th>0</th>\n",
       "      <td>AEx2SYEUJmTxVVB18LlCwA</td>\n",
       "      <td>Super simple place but amazing nonetheless. It...</td>\n",
       "    </tr>\n",
       "    <tr>\n",
       "      <th>1</th>\n",
       "      <td>VR6GpWIda3SfvPC-lg9H3w</td>\n",
       "      <td>Small unassuming place that changes their menu...</td>\n",
       "    </tr>\n",
       "    <tr>\n",
       "      <th>2</th>\n",
       "      <td>CKC0-MOWMqoeWf6s-szl8g</td>\n",
       "      <td>Lester's is located in a beautiful neighborhoo...</td>\n",
       "    </tr>\n",
       "    <tr>\n",
       "      <th>3</th>\n",
       "      <td>ACFtxLv8pGrrxMm6EgjreA</td>\n",
       "      <td>Love coming here. Yes the place always needs t...</td>\n",
       "    </tr>\n",
       "    <tr>\n",
       "      <th>4</th>\n",
       "      <td>s2I_Ni76bjJNK9yG60iD-Q</td>\n",
       "      <td>Had their chocolate almond croissant and it wa...</td>\n",
       "    </tr>\n",
       "  </tbody>\n",
       "</table>\n",
       "</div>"
      ],
      "text/plain": [
       "              business_id                                               text\n",
       "0  AEx2SYEUJmTxVVB18LlCwA  Super simple place but amazing nonetheless. It...\n",
       "1  VR6GpWIda3SfvPC-lg9H3w  Small unassuming place that changes their menu...\n",
       "2  CKC0-MOWMqoeWf6s-szl8g  Lester's is located in a beautiful neighborhoo...\n",
       "3  ACFtxLv8pGrrxMm6EgjreA  Love coming here. Yes the place always needs t...\n",
       "4  s2I_Ni76bjJNK9yG60iD-Q  Had their chocolate almond croissant and it wa..."
      ]
     },
     "execution_count": 6,
     "metadata": {},
     "output_type": "execute_result"
    }
   ],
   "source": [
    "#First let's make the next step a little easier on the processor. As we can join by busines_id to any other dataframes that we \n",
    "#want to work with we can drop all other columns, except text (reviews). \n",
    "df_review_a = df_review[['business_id', 'text']]\n",
    "print(df_review_a.shape)\n",
    "df_review_a.head()"
   ]
  },
  {
   "cell_type": "code",
   "execution_count": 7,
   "metadata": {},
   "outputs": [],
   "source": [
    "#let's read in another dataframe that could be used alongside the content_df\n",
    "df_biz = pd.read_csv('../data/yelp_data/yelp_business.csv')"
   ]
  },
  {
   "cell_type": "code",
   "execution_count": 8,
   "metadata": {},
   "outputs": [
    {
     "name": "stdout",
     "output_type": "stream",
     "text": [
      "The business dataframe shape is:  (174567, 13) \n",
      "The number of unique business:  174567 \n",
      "The number of unique business names:  132619 \n",
      "The number of unique addresses:  138564\n"
     ]
    },
    {
     "data": {
      "text/html": [
       "<div>\n",
       "<style scoped>\n",
       "    .dataframe tbody tr th:only-of-type {\n",
       "        vertical-align: middle;\n",
       "    }\n",
       "\n",
       "    .dataframe tbody tr th {\n",
       "        vertical-align: top;\n",
       "    }\n",
       "\n",
       "    .dataframe thead th {\n",
       "        text-align: right;\n",
       "    }\n",
       "</style>\n",
       "<table border=\"1\" class=\"dataframe\">\n",
       "  <thead>\n",
       "    <tr style=\"text-align: right;\">\n",
       "      <th></th>\n",
       "      <th>business_id</th>\n",
       "      <th>name</th>\n",
       "      <th>neighborhood</th>\n",
       "      <th>address</th>\n",
       "      <th>city</th>\n",
       "      <th>state</th>\n",
       "      <th>postal_code</th>\n",
       "      <th>latitude</th>\n",
       "      <th>longitude</th>\n",
       "      <th>stars</th>\n",
       "      <th>review_count</th>\n",
       "      <th>is_open</th>\n",
       "      <th>categories</th>\n",
       "    </tr>\n",
       "  </thead>\n",
       "  <tbody>\n",
       "    <tr>\n",
       "      <th>0</th>\n",
       "      <td>FYWN1wneV18bWNgQjJ2GNg</td>\n",
       "      <td>\"Dental by Design\"</td>\n",
       "      <td>NaN</td>\n",
       "      <td>\"4855 E Warner Rd, Ste B9\"</td>\n",
       "      <td>Ahwatukee</td>\n",
       "      <td>AZ</td>\n",
       "      <td>85044</td>\n",
       "      <td>33.330690</td>\n",
       "      <td>-111.978599</td>\n",
       "      <td>4.0</td>\n",
       "      <td>22</td>\n",
       "      <td>1</td>\n",
       "      <td>Dentists;General Dentistry;Health &amp; Medical;Or...</td>\n",
       "    </tr>\n",
       "    <tr>\n",
       "      <th>1</th>\n",
       "      <td>He-G7vWjzVUysIKrfNbPUQ</td>\n",
       "      <td>\"Stephen Szabo Salon\"</td>\n",
       "      <td>NaN</td>\n",
       "      <td>\"3101 Washington Rd\"</td>\n",
       "      <td>McMurray</td>\n",
       "      <td>PA</td>\n",
       "      <td>15317</td>\n",
       "      <td>40.291685</td>\n",
       "      <td>-80.104900</td>\n",
       "      <td>3.0</td>\n",
       "      <td>11</td>\n",
       "      <td>1</td>\n",
       "      <td>Hair Stylists;Hair Salons;Men's Hair Salons;Bl...</td>\n",
       "    </tr>\n",
       "  </tbody>\n",
       "</table>\n",
       "</div>"
      ],
      "text/plain": [
       "              business_id                   name neighborhood  \\\n",
       "0  FYWN1wneV18bWNgQjJ2GNg     \"Dental by Design\"          NaN   \n",
       "1  He-G7vWjzVUysIKrfNbPUQ  \"Stephen Szabo Salon\"          NaN   \n",
       "\n",
       "                      address       city state postal_code   latitude  \\\n",
       "0  \"4855 E Warner Rd, Ste B9\"  Ahwatukee    AZ       85044  33.330690   \n",
       "1        \"3101 Washington Rd\"   McMurray    PA       15317  40.291685   \n",
       "\n",
       "    longitude  stars  review_count  is_open  \\\n",
       "0 -111.978599    4.0            22        1   \n",
       "1  -80.104900    3.0            11        1   \n",
       "\n",
       "                                          categories  \n",
       "0  Dentists;General Dentistry;Health & Medical;Or...  \n",
       "1  Hair Stylists;Hair Salons;Men's Hair Salons;Bl...  "
      ]
     },
     "execution_count": 8,
     "metadata": {},
     "output_type": "execute_result"
    }
   ],
   "source": [
    "print('The business dataframe shape is: ', df_biz.shape, '\\nThe number of unique business: ', df_biz.business_id.nunique(),\n",
    "      '\\nThe number of unique business names: ', df_biz.name.nunique(), \n",
    "      '\\nThe number of unique addresses: ', df_biz.address.nunique())\n",
    "df_biz.head(2)"
   ]
  },
  {
   "cell_type": "markdown",
   "metadata": {},
   "source": [
    "We need to be careful with the fact that some businesses have the same names. This means that the name values should only be treated as passive information when joining and merging dataframes as we may lose data. "
   ]
  },
  {
   "cell_type": "code",
   "execution_count": 9,
   "metadata": {},
   "outputs": [
    {
     "data": {
      "text/html": [
       "<div>\n",
       "<style scoped>\n",
       "    .dataframe tbody tr th:only-of-type {\n",
       "        vertical-align: middle;\n",
       "    }\n",
       "\n",
       "    .dataframe tbody tr th {\n",
       "        vertical-align: top;\n",
       "    }\n",
       "\n",
       "    .dataframe thead th {\n",
       "        text-align: right;\n",
       "    }\n",
       "</style>\n",
       "<table border=\"1\" class=\"dataframe\">\n",
       "  <thead>\n",
       "    <tr style=\"text-align: right;\">\n",
       "      <th></th>\n",
       "      <th>business_id</th>\n",
       "      <th>name</th>\n",
       "      <th>categories</th>\n",
       "      <th>city</th>\n",
       "    </tr>\n",
       "  </thead>\n",
       "  <tbody>\n",
       "    <tr>\n",
       "      <th>0</th>\n",
       "      <td>FYWN1wneV18bWNgQjJ2GNg</td>\n",
       "      <td>\"Dental by Design\"</td>\n",
       "      <td>Dentists;General Dentistry;Health &amp; Medical;Or...</td>\n",
       "      <td>Ahwatukee</td>\n",
       "    </tr>\n",
       "    <tr>\n",
       "      <th>1</th>\n",
       "      <td>He-G7vWjzVUysIKrfNbPUQ</td>\n",
       "      <td>\"Stephen Szabo Salon\"</td>\n",
       "      <td>Hair Stylists;Hair Salons;Men's Hair Salons;Bl...</td>\n",
       "      <td>McMurray</td>\n",
       "    </tr>\n",
       "    <tr>\n",
       "      <th>2</th>\n",
       "      <td>KQPW8lFf1y5BT2MxiSZ3QA</td>\n",
       "      <td>\"Western Motor Vehicle\"</td>\n",
       "      <td>Departments of Motor Vehicles;Public Services ...</td>\n",
       "      <td>Phoenix</td>\n",
       "    </tr>\n",
       "    <tr>\n",
       "      <th>3</th>\n",
       "      <td>8DShNS-LuFqpEWIp0HxijA</td>\n",
       "      <td>\"Sports Authority\"</td>\n",
       "      <td>Sporting Goods;Shopping</td>\n",
       "      <td>Tempe</td>\n",
       "    </tr>\n",
       "    <tr>\n",
       "      <th>4</th>\n",
       "      <td>PfOCPjBrlQAnz__NXj9h_w</td>\n",
       "      <td>\"Brick House Tavern + Tap\"</td>\n",
       "      <td>American (New);Nightlife;Bars;Sandwiches;Ameri...</td>\n",
       "      <td>Cuyahoga Falls</td>\n",
       "    </tr>\n",
       "  </tbody>\n",
       "</table>\n",
       "</div>"
      ],
      "text/plain": [
       "              business_id                        name  \\\n",
       "0  FYWN1wneV18bWNgQjJ2GNg          \"Dental by Design\"   \n",
       "1  He-G7vWjzVUysIKrfNbPUQ       \"Stephen Szabo Salon\"   \n",
       "2  KQPW8lFf1y5BT2MxiSZ3QA     \"Western Motor Vehicle\"   \n",
       "3  8DShNS-LuFqpEWIp0HxijA          \"Sports Authority\"   \n",
       "4  PfOCPjBrlQAnz__NXj9h_w  \"Brick House Tavern + Tap\"   \n",
       "\n",
       "                                          categories            city  \n",
       "0  Dentists;General Dentistry;Health & Medical;Or...       Ahwatukee  \n",
       "1  Hair Stylists;Hair Salons;Men's Hair Salons;Bl...        McMurray  \n",
       "2  Departments of Motor Vehicles;Public Services ...         Phoenix  \n",
       "3                            Sporting Goods;Shopping           Tempe  \n",
       "4  American (New);Nightlife;Bars;Sandwiches;Ameri...  Cuyahoga Falls  "
      ]
     },
     "execution_count": 9,
     "metadata": {},
     "output_type": "execute_result"
    }
   ],
   "source": [
    "#we'll drop out all the redundant columns\n",
    "df_biz = df_biz[['business_id', 'name', 'categories', 'city']]\n",
    "df_biz.head()"
   ]
  },
  {
   "cell_type": "code",
   "execution_count": 10,
   "metadata": {},
   "outputs": [
    {
     "name": "stdout",
     "output_type": "stream",
     "text": [
      "(5261668, 5)\n"
     ]
    },
    {
     "data": {
      "text/html": [
       "<div>\n",
       "<style scoped>\n",
       "    .dataframe tbody tr th:only-of-type {\n",
       "        vertical-align: middle;\n",
       "    }\n",
       "\n",
       "    .dataframe tbody tr th {\n",
       "        vertical-align: top;\n",
       "    }\n",
       "\n",
       "    .dataframe thead th {\n",
       "        text-align: right;\n",
       "    }\n",
       "</style>\n",
       "<table border=\"1\" class=\"dataframe\">\n",
       "  <thead>\n",
       "    <tr style=\"text-align: right;\">\n",
       "      <th></th>\n",
       "      <th>business_id</th>\n",
       "      <th>name</th>\n",
       "      <th>categories</th>\n",
       "      <th>city</th>\n",
       "      <th>text</th>\n",
       "    </tr>\n",
       "  </thead>\n",
       "  <tbody>\n",
       "    <tr>\n",
       "      <th>0</th>\n",
       "      <td>FYWN1wneV18bWNgQjJ2GNg</td>\n",
       "      <td>\"Dental by Design\"</td>\n",
       "      <td>Dentists;General Dentistry;Health &amp; Medical;Or...</td>\n",
       "      <td>Ahwatukee</td>\n",
       "      <td>They make a plan, for your mouth to get health...</td>\n",
       "    </tr>\n",
       "    <tr>\n",
       "      <th>1</th>\n",
       "      <td>FYWN1wneV18bWNgQjJ2GNg</td>\n",
       "      <td>\"Dental by Design\"</td>\n",
       "      <td>Dentists;General Dentistry;Health &amp; Medical;Or...</td>\n",
       "      <td>Ahwatukee</td>\n",
       "      <td>I have extreme anxiety when it comes to the de...</td>\n",
       "    </tr>\n",
       "    <tr>\n",
       "      <th>2</th>\n",
       "      <td>FYWN1wneV18bWNgQjJ2GNg</td>\n",
       "      <td>\"Dental by Design\"</td>\n",
       "      <td>Dentists;General Dentistry;Health &amp; Medical;Or...</td>\n",
       "      <td>Ahwatukee</td>\n",
       "      <td>I've only been here once but my husband has be...</td>\n",
       "    </tr>\n",
       "    <tr>\n",
       "      <th>3</th>\n",
       "      <td>FYWN1wneV18bWNgQjJ2GNg</td>\n",
       "      <td>\"Dental by Design\"</td>\n",
       "      <td>Dentists;General Dentistry;Health &amp; Medical;Or...</td>\n",
       "      <td>Ahwatukee</td>\n",
       "      <td>Great experience with the hygenists and pediat...</td>\n",
       "    </tr>\n",
       "    <tr>\n",
       "      <th>4</th>\n",
       "      <td>FYWN1wneV18bWNgQjJ2GNg</td>\n",
       "      <td>\"Dental by Design\"</td>\n",
       "      <td>Dentists;General Dentistry;Health &amp; Medical;Or...</td>\n",
       "      <td>Ahwatukee</td>\n",
       "      <td>My husband and I went to this dentist as a rec...</td>\n",
       "    </tr>\n",
       "  </tbody>\n",
       "</table>\n",
       "</div>"
      ],
      "text/plain": [
       "              business_id                name  \\\n",
       "0  FYWN1wneV18bWNgQjJ2GNg  \"Dental by Design\"   \n",
       "1  FYWN1wneV18bWNgQjJ2GNg  \"Dental by Design\"   \n",
       "2  FYWN1wneV18bWNgQjJ2GNg  \"Dental by Design\"   \n",
       "3  FYWN1wneV18bWNgQjJ2GNg  \"Dental by Design\"   \n",
       "4  FYWN1wneV18bWNgQjJ2GNg  \"Dental by Design\"   \n",
       "\n",
       "                                          categories       city  \\\n",
       "0  Dentists;General Dentistry;Health & Medical;Or...  Ahwatukee   \n",
       "1  Dentists;General Dentistry;Health & Medical;Or...  Ahwatukee   \n",
       "2  Dentists;General Dentistry;Health & Medical;Or...  Ahwatukee   \n",
       "3  Dentists;General Dentistry;Health & Medical;Or...  Ahwatukee   \n",
       "4  Dentists;General Dentistry;Health & Medical;Or...  Ahwatukee   \n",
       "\n",
       "                                                text  \n",
       "0  They make a plan, for your mouth to get health...  \n",
       "1  I have extreme anxiety when it comes to the de...  \n",
       "2  I've only been here once but my husband has be...  \n",
       "3  Great experience with the hygenists and pediat...  \n",
       "4  My husband and I went to this dentist as a rec...  "
      ]
     },
     "execution_count": 10,
     "metadata": {},
     "output_type": "execute_result"
    }
   ],
   "source": [
    "#Now we need to merge by business_id in a dataframe with a single row per business_id. \n",
    "content_df_a = df_biz.merge(df_review_a, how='left', left_on='business_id', right_on='business_id')\n",
    "print(content_df_a.shape)\n",
    "content_df_a.head()"
   ]
  },
  {
   "cell_type": "code",
   "execution_count": 11,
   "metadata": {},
   "outputs": [],
   "source": [
    "#Now lets reduce the rows down to single instances of each business but keeping all the review text. \n",
    "content_final = content_df_a.groupby('business_id').agg({'name':'first',\n",
    "                                                  'text': ','.join}).reset_index()\n"
   ]
  },
  {
   "cell_type": "code",
   "execution_count": 12,
   "metadata": {},
   "outputs": [
    {
     "name": "stdout",
     "output_type": "stream",
     "text": [
      "(174567, 3)\n"
     ]
    },
    {
     "data": {
      "text/html": [
       "<div>\n",
       "<style scoped>\n",
       "    .dataframe tbody tr th:only-of-type {\n",
       "        vertical-align: middle;\n",
       "    }\n",
       "\n",
       "    .dataframe tbody tr th {\n",
       "        vertical-align: top;\n",
       "    }\n",
       "\n",
       "    .dataframe thead th {\n",
       "        text-align: right;\n",
       "    }\n",
       "</style>\n",
       "<table border=\"1\" class=\"dataframe\">\n",
       "  <thead>\n",
       "    <tr style=\"text-align: right;\">\n",
       "      <th></th>\n",
       "      <th>business_id</th>\n",
       "      <th>name</th>\n",
       "      <th>text</th>\n",
       "    </tr>\n",
       "  </thead>\n",
       "  <tbody>\n",
       "    <tr>\n",
       "      <th>0</th>\n",
       "      <td>--6MefnULPED_I942VcFNA</td>\n",
       "      <td>\"John's Chinese BBQ Restaurant\"</td>\n",
       "      <td>This is one of my top 3 places to get BBQ pork...</td>\n",
       "    </tr>\n",
       "    <tr>\n",
       "      <th>1</th>\n",
       "      <td>--7zmmkVg-IMGaXbuVd0SQ</td>\n",
       "      <td>\"Primal Brewery\"</td>\n",
       "      <td>Nice small place and the bartender was super f...</td>\n",
       "    </tr>\n",
       "    <tr>\n",
       "      <th>2</th>\n",
       "      <td>--8LPVSo5i0Oo61X01sV9A</td>\n",
       "      <td>\"Valley Bone and Joint Specialists\"</td>\n",
       "      <td>Dr. Purcell is good and thorough. Their office...</td>\n",
       "    </tr>\n",
       "    <tr>\n",
       "      <th>3</th>\n",
       "      <td>--9QQLMTbFzLJ_oT-ON3Xw</td>\n",
       "      <td>\"Great Clips\"</td>\n",
       "      <td>Went to this location to get a quick trim . As...</td>\n",
       "    </tr>\n",
       "    <tr>\n",
       "      <th>4</th>\n",
       "      <td>--9e1ONYQuAa-CB_Rrw7Tw</td>\n",
       "      <td>\"Delmonico Steakhouse\"</td>\n",
       "      <td>As part of a birthday celebration weekend for ...</td>\n",
       "    </tr>\n",
       "  </tbody>\n",
       "</table>\n",
       "</div>"
      ],
      "text/plain": [
       "              business_id                                 name  \\\n",
       "0  --6MefnULPED_I942VcFNA      \"John's Chinese BBQ Restaurant\"   \n",
       "1  --7zmmkVg-IMGaXbuVd0SQ                     \"Primal Brewery\"   \n",
       "2  --8LPVSo5i0Oo61X01sV9A  \"Valley Bone and Joint Specialists\"   \n",
       "3  --9QQLMTbFzLJ_oT-ON3Xw                        \"Great Clips\"   \n",
       "4  --9e1ONYQuAa-CB_Rrw7Tw               \"Delmonico Steakhouse\"   \n",
       "\n",
       "                                                text  \n",
       "0  This is one of my top 3 places to get BBQ pork...  \n",
       "1  Nice small place and the bartender was super f...  \n",
       "2  Dr. Purcell is good and thorough. Their office...  \n",
       "3  Went to this location to get a quick trim . As...  \n",
       "4  As part of a birthday celebration weekend for ...  "
      ]
     },
     "execution_count": 12,
     "metadata": {},
     "output_type": "execute_result"
    }
   ],
   "source": [
    "print(content_final.shape)\n",
    "content_final.head()"
   ]
  },
  {
   "cell_type": "code",
   "execution_count": 13,
   "metadata": {},
   "outputs": [
    {
     "data": {
      "text/html": [
       "<div>\n",
       "<style scoped>\n",
       "    .dataframe tbody tr th:only-of-type {\n",
       "        vertical-align: middle;\n",
       "    }\n",
       "\n",
       "    .dataframe tbody tr th {\n",
       "        vertical-align: top;\n",
       "    }\n",
       "\n",
       "    .dataframe thead th {\n",
       "        text-align: right;\n",
       "    }\n",
       "</style>\n",
       "<table border=\"1\" class=\"dataframe\">\n",
       "  <thead>\n",
       "    <tr style=\"text-align: right;\">\n",
       "      <th></th>\n",
       "      <th>business_id</th>\n",
       "      <th>name</th>\n",
       "      <th>categories</th>\n",
       "      <th>city</th>\n",
       "      <th>text</th>\n",
       "    </tr>\n",
       "  </thead>\n",
       "  <tbody>\n",
       "    <tr>\n",
       "      <th>0</th>\n",
       "      <td>FYWN1wneV18bWNgQjJ2GNg</td>\n",
       "      <td>\"Dental by Design\"</td>\n",
       "      <td>Dentists;General Dentistry;Health &amp; Medical;Or...</td>\n",
       "      <td>Ahwatukee</td>\n",
       "      <td>They make a plan, for your mouth to get health...</td>\n",
       "    </tr>\n",
       "    <tr>\n",
       "      <th>1</th>\n",
       "      <td>FYWN1wneV18bWNgQjJ2GNg</td>\n",
       "      <td>\"Dental by Design\"</td>\n",
       "      <td>Dentists;General Dentistry;Health &amp; Medical;Or...</td>\n",
       "      <td>Ahwatukee</td>\n",
       "      <td>I have extreme anxiety when it comes to the de...</td>\n",
       "    </tr>\n",
       "    <tr>\n",
       "      <th>2</th>\n",
       "      <td>FYWN1wneV18bWNgQjJ2GNg</td>\n",
       "      <td>\"Dental by Design\"</td>\n",
       "      <td>Dentists;General Dentistry;Health &amp; Medical;Or...</td>\n",
       "      <td>Ahwatukee</td>\n",
       "      <td>I've only been here once but my husband has be...</td>\n",
       "    </tr>\n",
       "    <tr>\n",
       "      <th>3</th>\n",
       "      <td>FYWN1wneV18bWNgQjJ2GNg</td>\n",
       "      <td>\"Dental by Design\"</td>\n",
       "      <td>Dentists;General Dentistry;Health &amp; Medical;Or...</td>\n",
       "      <td>Ahwatukee</td>\n",
       "      <td>Great experience with the hygenists and pediat...</td>\n",
       "    </tr>\n",
       "    <tr>\n",
       "      <th>4</th>\n",
       "      <td>FYWN1wneV18bWNgQjJ2GNg</td>\n",
       "      <td>\"Dental by Design\"</td>\n",
       "      <td>Dentists;General Dentistry;Health &amp; Medical;Or...</td>\n",
       "      <td>Ahwatukee</td>\n",
       "      <td>My husband and I went to this dentist as a rec...</td>\n",
       "    </tr>\n",
       "  </tbody>\n",
       "</table>\n",
       "</div>"
      ],
      "text/plain": [
       "              business_id                name  \\\n",
       "0  FYWN1wneV18bWNgQjJ2GNg  \"Dental by Design\"   \n",
       "1  FYWN1wneV18bWNgQjJ2GNg  \"Dental by Design\"   \n",
       "2  FYWN1wneV18bWNgQjJ2GNg  \"Dental by Design\"   \n",
       "3  FYWN1wneV18bWNgQjJ2GNg  \"Dental by Design\"   \n",
       "4  FYWN1wneV18bWNgQjJ2GNg  \"Dental by Design\"   \n",
       "\n",
       "                                          categories       city  \\\n",
       "0  Dentists;General Dentistry;Health & Medical;Or...  Ahwatukee   \n",
       "1  Dentists;General Dentistry;Health & Medical;Or...  Ahwatukee   \n",
       "2  Dentists;General Dentistry;Health & Medical;Or...  Ahwatukee   \n",
       "3  Dentists;General Dentistry;Health & Medical;Or...  Ahwatukee   \n",
       "4  Dentists;General Dentistry;Health & Medical;Or...  Ahwatukee   \n",
       "\n",
       "                                                text  \n",
       "0  They make a plan, for your mouth to get health...  \n",
       "1  I have extreme anxiety when it comes to the de...  \n",
       "2  I've only been here once but my husband has be...  \n",
       "3  Great experience with the hygenists and pediat...  \n",
       "4  My husband and I went to this dentist as a rec...  "
      ]
     },
     "execution_count": 13,
     "metadata": {},
     "output_type": "execute_result"
    }
   ],
   "source": [
    "content_df_a.loc[content_df_a.name.str.contains('Dental by Design')].head()"
   ]
  },
  {
   "cell_type": "code",
   "execution_count": 14,
   "metadata": {},
   "outputs": [
    {
     "data": {
      "text/html": [
       "<div>\n",
       "<style scoped>\n",
       "    .dataframe tbody tr th:only-of-type {\n",
       "        vertical-align: middle;\n",
       "    }\n",
       "\n",
       "    .dataframe tbody tr th {\n",
       "        vertical-align: top;\n",
       "    }\n",
       "\n",
       "    .dataframe thead th {\n",
       "        text-align: right;\n",
       "    }\n",
       "</style>\n",
       "<table border=\"1\" class=\"dataframe\">\n",
       "  <thead>\n",
       "    <tr style=\"text-align: right;\">\n",
       "      <th></th>\n",
       "      <th>business_id</th>\n",
       "      <th>name</th>\n",
       "      <th>text</th>\n",
       "    </tr>\n",
       "  </thead>\n",
       "  <tbody>\n",
       "    <tr>\n",
       "      <th>45282</th>\n",
       "      <td>FYWN1wneV18bWNgQjJ2GNg</td>\n",
       "      <td>\"Dental by Design\"</td>\n",
       "      <td>They make a plan, for your mouth to get health...</td>\n",
       "    </tr>\n",
       "  </tbody>\n",
       "</table>\n",
       "</div>"
      ],
      "text/plain": [
       "                  business_id                name  \\\n",
       "45282  FYWN1wneV18bWNgQjJ2GNg  \"Dental by Design\"   \n",
       "\n",
       "                                                    text  \n",
       "45282  They make a plan, for your mouth to get health...  "
      ]
     },
     "execution_count": 14,
     "metadata": {},
     "output_type": "execute_result"
    }
   ],
   "source": [
    "text_check = content_final.loc[content_final.name.str.contains('Dental by Design')]\n",
    "text_check.head()"
   ]
  },
  {
   "cell_type": "code",
   "execution_count": 15,
   "metadata": {
    "scrolled": true
   },
   "outputs": [
    {
     "data": {
      "text/plain": [
       "'They make a plan, for your mouth to get healthy & stay healthy! Wonderful service.,I have extreme anxiety when it comes to the dentist. I had a really bad experience with my childhood dentist. This made it so when I was an adult I didn\\'t go as often and I should have. I moved to Ahwatukee 9 years ago and a friend recommended this office to me.  I\\'ve been going regulalry for routine cleaning since. I went last month for a cleaning and found out I needed a crown. Sensing my anxiety he assured me I would be fine. I scheduled my appt. for today. I went in so nervous I wanted to leave.  He came in, explaining everything he would be doing.  He put me at ease and I\\'ve never felt better. I would highly recommend Dr. Kode to anyone looking for a dentist. He\\'s restored my faith in dentists. I will go back in a few weeks for the permanent crown and I\\'m not a bit nervous about it. Thank you so much for your patience with me and the absolute best experience I\\'ve had from a dentist.,I\\'ve only been here once but my husband has been going for a while and I plan to obviously continue. I\\'m a complete wimp at the dentist and they were pretty great. The staff is friendly and relaxed, which helps. They have been very honest and the fancy office and TV\\'s are just the icing on top. I would recommend any of my family or friends here!!,Great experience with the hygenists and pediatric dentist! Clean office, good with kids and timely. The dentist was great. We didnt get the feeling of being \"upsold\" like other practices. The staff was friendly enough. \\n\\nWe will definitely be back!,My husband and I went to this dentist as a recommendation from my sister-in-law.  My husband and I went as we were not happy with our current dentsit.  What a blessing!  We both went and they worked on both of us and did our work that we needed that day!  My husband needed a veneer\\\\/crown with no scheduling down the road because of finances. I had priced the crown and the out of pocket cost and this office was 1\\\\/2 of what I was quoted from many different offices in the area.   We have great dental insurance which has never been an issue but they were concerned about us and not $$$$$.  I appreciate that.  Everyone in the office was super nice.  I went into the office the next day to get 3 fillings and everyone came by to ask how my husband was and how he liked his work.  I don\\'t know about anyone else but I will pay extra for great customer service.  Here you get the most caring staff and you can understand why when you meet the dentist, Dentist Kobe.  He is great at his craft and he sincerely cares about you.  God has blessed him and us by introducing us.  I highly recommend this dental office to anyone looking for a dentist in the Phoenix area.,Recently called Dental By Design because I was recommended by two different people to go and check them out. I called twice and was told they would call me back to schedule my appointment, no call back. Horrible service.,Dr. Curry has been my dentist for almost 12 years now. She\\'s the definition of awesomeness. AND everyone there always has a smile! Thanks so much,Very nice staff   Gentle Hygienist.  I love the fact that they will call you to schedule an appointment when they have cancellations that might work for you.  Off the top of my head, I can\\'t recall that lady\\'s name that calls from the office all the time, but I just heart her!  She is such a gem.  \\n\\nI\\'ve been to dental offices that are far more technologically advanced with headphones, satellite TV, computer applications that the staff uses to show and explain what\\'s going on with your teeth.  Since I\\'m an engineer, I love gadgets and tech stuff.  \\n \\nIn addition, the main reason I did not give this place a four is the fact that I have to ask \"what is that instrument used to detect?\", \"what does that tell us?\",  \"what does that mean?\".  I absolutely detest going to an office where I\\'m paying you to do work for me and I leave there not understanding what you did for me.  So, every time I\"ve been to this office, I ask those questions.  I don\\'t like it.  the information should flow freely.  It helps when your patient is informed and can make better decisions.  \\n\\nAll-in-All, I enjoy my visits here.,This place is dishonest and I would never recommend anyone I know to go there. They tried to make me feel bad about my teeth in order to pressure me into their services. They were rude and tried to take advantage of me. They lied to me and said I had multiple cavities which I don\\'t according to the dentist I go to now. They had a really nice office and equipment but I wasn\\'t going to pay that for them. I\\'m going to pay someone to be honest with me and to take good care of my teeth, not just look at what\\'s in my wallet.,I am not giving them one star based on their work but I up front told them that I had 2000 left on my insurance and 3 days to use it but I was limited on money in the future and wanted to be sure that after the 3 days that I was all paid up. I would pay daily for what the insurance didn\\'t cover. They called the insurance everyday and told me what it would cost for the work that day which I paid in full everyday. The final day I paid them and made sure I owed them nothing and they said I\\'m all paid up. Then months later they claim I owe them over $300 and after talking to the insurance company they claimed the dentist got a quote on one thing but charged them for something different. Well how is that my fault they knew i was not going to be able to pay a bill later yet they screwed up and charged me for it and now they are giving me bad credit over something that I had no control over. Now had the lady at the desk who called my insurance know what to ask the insurance company I would have gladly paid what I needed to that day. You do not dock the customers for your screw ups and that is not how a business keeps customers. I would recommend looking else where unless you too want to be billed for their incompetence. There are plenty of dentists that will not try to pull the wool over your eyes. Tell you one thing but mean another.,Dr Kahn and Misty were very clear and explained everything for me. It was a super friendly environment. I\\'ll definitely be making this my dentist.,WOW, all they want is $$$$$$$. I sure don\\'t mind to pay for what I need but trying to squeeze more money from our insurance AND extra from patient? Not cool! Their rates are much more than most places and their dental chair office is like an assembly line. Horrible experiences and when issues were brought up, they talk down on you or act like it was a \"mistype\" error.\\nI would not recommend this place if it was the last dental office on earth.\\nExpensive, overpriced, low quality of work and sanitary.,Going to the dentist office has always been a source of anguish for me, ever since I was young. Perhaps due to some of the abnormal experiences I had gone through up until now. Not having insurance or being covered by my parents plan. As a result of growing up close to the boarder I often made trips to Mexico for my dentistry work.\\n\\nMy friend who works there suggested I\\'d come in for a cleaning and after a few months of reluctancy I finally decided to make an appointment. In all honestly I was visibly uncomfortable which was largely due to the lapse of time between visits.\\n\\nHowever, Dental By Design made every effort to make me feel as calm and comfortable as possible. The office itself is very clean, the front line were all amazingly nice, pleasant and helpful. They worked with my budget because at the time I was uninsured and I was able to fit into a payment plan that worked best for me.\\n\\nI\\'m not sure if bed side manner is a term associated with dentistry but Dr. Curry handled me with care. She spoke me all the through my assessment and made sure I understood her, outlining steps to make moving forward.\\n\\nI can\\'t say I\\'ll look forward to the dentist again, but I will say I look forward to being in a welcoming, knowledgeable, and safe atmosphere again with individuals who do great work.,I live 24 miles away but still come back for Dr. Kode and his lovely assistants.  This place does it all.  Friendly, latest technology, all levels of service and has great office systems\\\\/processes in place.  They even will provide you a rating of your teeth from 1 to 100, but you have to ask for it.  Keep up the good work Dental by Design.,I have been seeing Dr Kode since he took over the practice. Have never met a more knowledgeable professional with such great bedside or chair-side manner. He is also a great community member.,Just like most people, I dislike going to the dentist, but I\\'ve been going to Dental by Design for over a year and recently got a crown done. It was fair in price and things went very well through the entire experience. The staff is very friendly and professional and they get you in and out at your set appointment time.,This dental office is one of the best that I have ever been to. When I first moved to the Phoenix area, I probably tried out about 8 different dentists before finally listening to my co-worker\\'s referral and coming here. Dr. Kode is an awesome dentist. He is highly skilled, and uses up-to-date high tech equipment. Marianne is also the best dental hygienists that I have had. She is thorough, gentle, and very knowledgeable about everything!!! She is also a perfectionist, which I can appreciate-being one myself, and never misses anything. Sheryl, Sandy, and Heather are also fantastic, and always friendly! I don\\'t know the rest of the staff as well, but everyone has always been overly nice. \\n\\nIn addition to being extremely competent, this dental office is also very patient-oriented. They have events (like movie nights) for patients, and always have really cool giveaways. They are also involved in community events and charity work. \\n\\nMoreover, they are also very compassionate and considerate of patients who do not have dental insurance. They are very reasonably priced, which is rare for this quality of service. \\n\\nI moved to California for school almost 2 years ago, but I am still driving to Arizona twice a year just to see these guys! They are totally worth it! I tried out a dentist in California who charged me twice as much for a cleaning and did a horrible job. Being in graduate school, I don\\'t have time or money for trial-and-error dentists, and it\\'s good to know that this office is there for me, even though I have to drive about 350 miles to get there. :)\\n\\nThank you!!!,Our family has been going to Dr.Kode even before he formed Dental by Design, over 10 years now. He\\'s been there for us through all our family dental \"fun\"; from the headgear and braces to the wisdom teeth and deep tissue cleaning. He\\'s done it all.  His staff from the front desk (shout out to Sandy) to the everyone behind the scenes like his best hygienist, MaryAnn take care of our family like we\\'re one of their own. Face it, no one likes going to the dentist. But Dental by Design has made the experience a pleasant one. It\\'s also very apparent that they appreciate their patients, as they are always holding events and contests to thank them.\\nThank you, Dr,Kode and Dental by Design for making my teeth and my family\\'s teeth shine :),Been going to Dr. Kode for 7 years now. Very competent and capable dentist, great problem solver and great communicator.  Love his staff - Laci is Da Bomb!\\n\\nAnd... this is coming from the son of a Dentist!,Thereza Wright is the best hygienist ive had the pleasure of working with. She is along with the rest of the staff is awesome, understanding, patient and friendly. They have superior service and down to earth vibes in the office putting you at ease when you are sitting in the chair. Going to the dentist has never been easier when you go to these guys and get handled by the team that works there.,I have been going here for 5 years now. The staff is always so friendly and there is always a cold water for you to help yourself to. The confirmation process is so convenient because it is texted and emailed to me. Dr. Kode is a licensed Invisalign dentist so I did Invisalign. He did a wonderful job. I have so much more self confidence now. He even threw in an ipad and free teeth whitening. They always do a great job!,2 bad experiences I thought I would give them the benefit of the doubt but I actually really hated it. I felt like they wanted my money but the work I had done was shoddy. If you want the experience of a used car dealership with the feeling of just being a number like at the DMV. Try it you may like it. Not for me especially since there is a dentist practically on every corner I don\\'t have to settle.,Dr. Kode has been my dentist for about 6 years.  As well as receiving my dental check ups and care from him, I also did the Invisalign program with him with great success.  His staff is very personable, his office is clean and appointments are always handled professionally.  Dr Kode is very knowledgable, personable, kind and gentle with all of his treatments.  I have recommended him and his staff to several friends and would recommend them to anyone looking for dentist in the Ahwatukee area.'"
      ]
     },
     "execution_count": 15,
     "metadata": {},
     "output_type": "execute_result"
    }
   ],
   "source": [
    "text_check.text.all() #check all the reviews for this business have now been stored in the single text cell. "
   ]
  },
  {
   "cell_type": "code",
   "execution_count": 16,
   "metadata": {},
   "outputs": [
    {
     "data": {
      "text/html": [
       "<div>\n",
       "<style scoped>\n",
       "    .dataframe tbody tr th:only-of-type {\n",
       "        vertical-align: middle;\n",
       "    }\n",
       "\n",
       "    .dataframe tbody tr th {\n",
       "        vertical-align: top;\n",
       "    }\n",
       "\n",
       "    .dataframe thead th {\n",
       "        text-align: right;\n",
       "    }\n",
       "</style>\n",
       "<table border=\"1\" class=\"dataframe\">\n",
       "  <thead>\n",
       "    <tr style=\"text-align: right;\">\n",
       "      <th></th>\n",
       "      <th>business_id</th>\n",
       "      <th>name</th>\n",
       "      <th>text</th>\n",
       "    </tr>\n",
       "  </thead>\n",
       "  <tbody>\n",
       "    <tr>\n",
       "      <th>58662</th>\n",
       "      <td>KQPW8lFf1y5BT2MxiSZ3QA</td>\n",
       "      <td>\"Western Motor Vehicle\"</td>\n",
       "      <td>This place is the worst!!! 1 employee sat ther...</td>\n",
       "    </tr>\n",
       "  </tbody>\n",
       "</table>\n",
       "</div>"
      ],
      "text/plain": [
       "                  business_id                     name  \\\n",
       "58662  KQPW8lFf1y5BT2MxiSZ3QA  \"Western Motor Vehicle\"   \n",
       "\n",
       "                                                    text  \n",
       "58662  This place is the worst!!! 1 employee sat ther...  "
      ]
     },
     "execution_count": 16,
     "metadata": {},
     "output_type": "execute_result"
    }
   ],
   "source": [
    "text_check2 = content_final.loc[content_final.name.str.contains('Western Motor Vehicle')]\n",
    "text_check2.head()"
   ]
  },
  {
   "cell_type": "code",
   "execution_count": 17,
   "metadata": {
    "scrolled": true
   },
   "outputs": [
    {
     "data": {
      "text/plain": [
       "\"This place is the worst!!! 1 employee sat there for 45 mins , never finished with one customer .  This place is in desperate need to employment,We moved from Chicago and needed drivers licenses and to register our car. I'd never heard of a place like this, not quite a DMV but can do the same services.We went on a Friday afternoon and it was quiet, perfect time to go. The women working were very nice, even when I filled out a few things incorrectly. Realized we needed an emission test to register the car so we did that a week later and then came back to Western Motor the following Friday afternoon. One of the employees recognized me and handed me my social security card. I'd left it there the week before! We took care of the car registration and I'd definitely go back to Western Motor if I needed more DMV services.,Filthy waiting room. Understaffed, slow, staff who would rather take their break than help a waiting room full of clients.,I would strongly advise you to go anywhere but here.  The county DMV is better.  I wanted to renew my driver license.  The place is shabby and dirty. There is no reception or greeter to assist you.  The only help you get is from the other customers who've been sitting and waiting so long.  After an hour and 45 minutes I finally got my renewal.  I asked why the service was so bad.  I was told they are understaffed and don't have any help coming for 3 weeks. HORRIBLE.,Slower than the MVD!!!! They have a sign in sheet which doesn't matter!! They take people out of order. People just walk up and interrupt the employee while she's helping someone!!! Although the employee is nice the service is sooooo slow. Would have been faster to go to MVD.  Their convenience fee is BS!!!! \\nMore like inconvenient!!!\\nDo not recommend this place unless you have hours to wait!!! And only 1 employee!!!! BS!!!!!!!!!!,Well that's 2 1\\\\/2 hours of my life I'll never get back. And on top of that, we left without getting the ID for my mother that we went in for. There is no greeter, no place to sign in, or place to take a number.  You are left to fend for yourself, with the only help coming from other people waiting in this smelly, grungy, understaffed place. I could kick myself for waiting so long before leaving, but I kept thinking this couldn't get worse. I was wrong. Can I give it less than one star?,This place is worse than the actual DMV. Three employees but only 1 helping with licenses while the other 2 do very little. Never would have thought that I would be better off going to the state office. To think, I paid a premium for this colossal waste of my day. DO NOT USE THIS OFFICE.,This is not much better than actual MVD. At least they are staffed at actual MVD. Smell is the same. I ended up leaving to take my business elsewhere. There are many windows but only one lady working. Another one would pop in and out, but was unable to help customers.,Omg I came to this dmv thinking I would be in and out but there was only one working but there people there n when I asked did the other two months work there they said yes....ok thank goodness it's my turn.....omg she doesn't even know how to do a registration so That means more waiting...never again will I return here,What's the point of having a sign in if they skip people?  On top of which they are slow and disorganized.  Do yourselves a favor,  there's another 3rd party on 43rd and Glendale.  They are professional, organized, and efficient.  I waited here two hours for simple processing.  DMV wait time and still charging more?  SERIOUUSLY!,Can't really say anything about their services. Because they are closed on Wednesdays. A thing I can understand for a service supplying unique hours for this service. A thing which is not, however, indicated on their website.,There is one person working on a Friday afternoon. It took her 20 minutes to help one customer, and now apparently she is busy with paperwork behind the counter but has called NO ONE up in the last 15 minutes. There is no organization and an apparent lack of any kind of competency. Maybe this is just a bad day. I can't imagine they could stay in business if every day is like this.,This establishment is unprofessional and does not make the customer their priority.  One employee at opening to 13 customers.  When we entered the employees keys had been left in the front door when she opened for business.  She was quite surprised when we gave them to her.  She sent a voice text to an employee asking how soon they would be here as she had a lobby full of people.  Once the late employee arrived, 30 minutes after opening, she then disappeared to the back room.  What appears to be an inspector of some sort is consuming her time with zero acknowledgment to the now 16 people waiting.  When we asked the approximate wait time she said it would be up to an hour and to come back later if we could.  Customers have been coming in and leaving when the gentlemen tells them the wait time will be LONG.  Absolutely ridiculous!,I am currently sitting in the lobby, with 3 parties ahead of me. All I need is a replacement license. So far, I've signed in, filled out the form, and watched the employees futz around and help no one. There is one employee at the counter, and at least 3 in the back. No one has been called up for at least 20 minutes, meanwhile none of us are even being acknowledged. \\n\\nI came here because it was more convenient than the mvd, and I was hoping to avoid crazy lines, but I'm beginning to think it's not worth it. \\n\\nDon't even bother. Next time I'll just go to the mvd.,Needed a DL copy, it's Friday around 4pm. Place is packed! What I hate most is ugly people! Ugly as in inconsiderate, people have there paperwork\\\\/boards on the chairs next to them so no one sits. It wasn't one it was 5! Yaaasss a few unattractive people around, but that's not the MVD's fault. Place needs to be updated, very very old. Looking around the staff looks unhappy. So much posters and signs on the walls, way to much. It's been over 30 minutes, waiting  for my number to be called so I can scream BINGO! Just heard a customer tell one of the staff in a friendly way that he saw her smile....oh that was fun. It most of been painful for her. This should teaches us all to always smile, life's to short my friends. I hope she calls me so I can see what she's like. Crossing of the fingers, . It's 5pm and over 35 people still waiting. Really 50 people, not counting partners. This just happened a non English speaking customer  does not understand how to respond to a eye exam, 5 min later ... Someone translated. Aaahhhhh how did he pass the road test? . James D was our rep..so sweet and nice! It took a little more than a hour, not bad for MVD,Walked in at 1:10pm (on a Friday, no less) and left at 1:30pm. Had to renew my drivers license, which entails filling out paperwork, photo and bureaucratic nonsense. I was the only person there until the last few minutes of my visit. The gal that helped me was pleasant. I did pay almost twice what it would have cost had I gone to a state DMV...however, it was worth it (to me, anyway) to avoid the massive wait and crowds. Altogether a good day for the DMV...for me.,I've been sitting here for over an hour watching the employees gossip amongst each other and let other customers cut in front of me. \\nThey are very slow and very rude. This place charges a premium for expedited services, which is very questionable at best. I would sooner slit my wrists than ever come back here again.,Had to update my license and get new picture and didn't want to wait in the long lines at the DMV. I went to Western and was in and out in under 30 with a temporary paper license in hand.\\n\\nBetter than the DMV any day.\""
      ]
     },
     "execution_count": 17,
     "metadata": {},
     "output_type": "execute_result"
    }
   ],
   "source": [
    "text_check2.text.all() #recheck on second business"
   ]
  },
  {
   "cell_type": "markdown",
   "metadata": {},
   "source": [
    "Now we need to join the content_final_df back to the biz_df to filter by location and business type and also to bring back in the category text which is going to be required for text vectorizations. "
   ]
  },
  {
   "cell_type": "code",
   "execution_count": 18,
   "metadata": {},
   "outputs": [
    {
     "data": {
      "text/html": [
       "<div>\n",
       "<style scoped>\n",
       "    .dataframe tbody tr th:only-of-type {\n",
       "        vertical-align: middle;\n",
       "    }\n",
       "\n",
       "    .dataframe tbody tr th {\n",
       "        vertical-align: top;\n",
       "    }\n",
       "\n",
       "    .dataframe thead th {\n",
       "        text-align: right;\n",
       "    }\n",
       "</style>\n",
       "<table border=\"1\" class=\"dataframe\">\n",
       "  <thead>\n",
       "    <tr style=\"text-align: right;\">\n",
       "      <th></th>\n",
       "      <th>business_id</th>\n",
       "      <th>name_x</th>\n",
       "      <th>city</th>\n",
       "      <th>categories</th>\n",
       "      <th>text</th>\n",
       "    </tr>\n",
       "  </thead>\n",
       "  <tbody>\n",
       "    <tr>\n",
       "      <th>0</th>\n",
       "      <td>FYWN1wneV18bWNgQjJ2GNg</td>\n",
       "      <td>\"Dental by Design\"</td>\n",
       "      <td>Ahwatukee</td>\n",
       "      <td>Dentists;General Dentistry;Health &amp; Medical;Or...</td>\n",
       "      <td>They make a plan, for your mouth to get health...</td>\n",
       "    </tr>\n",
       "    <tr>\n",
       "      <th>1</th>\n",
       "      <td>He-G7vWjzVUysIKrfNbPUQ</td>\n",
       "      <td>\"Stephen Szabo Salon\"</td>\n",
       "      <td>McMurray</td>\n",
       "      <td>Hair Stylists;Hair Salons;Men's Hair Salons;Bl...</td>\n",
       "      <td>I would  be grateful to those of you willing t...</td>\n",
       "    </tr>\n",
       "    <tr>\n",
       "      <th>2</th>\n",
       "      <td>KQPW8lFf1y5BT2MxiSZ3QA</td>\n",
       "      <td>\"Western Motor Vehicle\"</td>\n",
       "      <td>Phoenix</td>\n",
       "      <td>Departments of Motor Vehicles;Public Services ...</td>\n",
       "      <td>This place is the worst!!! 1 employee sat ther...</td>\n",
       "    </tr>\n",
       "    <tr>\n",
       "      <th>3</th>\n",
       "      <td>8DShNS-LuFqpEWIp0HxijA</td>\n",
       "      <td>\"Sports Authority\"</td>\n",
       "      <td>Tempe</td>\n",
       "      <td>Sporting Goods;Shopping</td>\n",
       "      <td>Thank you Alan soo much for your help. You're ...</td>\n",
       "    </tr>\n",
       "    <tr>\n",
       "      <th>4</th>\n",
       "      <td>PfOCPjBrlQAnz__NXj9h_w</td>\n",
       "      <td>\"Brick House Tavern + Tap\"</td>\n",
       "      <td>Cuyahoga Falls</td>\n",
       "      <td>American (New);Nightlife;Bars;Sandwiches;Ameri...</td>\n",
       "      <td>I've always enjoyed my time at brick house foo...</td>\n",
       "    </tr>\n",
       "  </tbody>\n",
       "</table>\n",
       "</div>"
      ],
      "text/plain": [
       "              business_id                      name_x            city  \\\n",
       "0  FYWN1wneV18bWNgQjJ2GNg          \"Dental by Design\"       Ahwatukee   \n",
       "1  He-G7vWjzVUysIKrfNbPUQ       \"Stephen Szabo Salon\"        McMurray   \n",
       "2  KQPW8lFf1y5BT2MxiSZ3QA     \"Western Motor Vehicle\"         Phoenix   \n",
       "3  8DShNS-LuFqpEWIp0HxijA          \"Sports Authority\"           Tempe   \n",
       "4  PfOCPjBrlQAnz__NXj9h_w  \"Brick House Tavern + Tap\"  Cuyahoga Falls   \n",
       "\n",
       "                                          categories  \\\n",
       "0  Dentists;General Dentistry;Health & Medical;Or...   \n",
       "1  Hair Stylists;Hair Salons;Men's Hair Salons;Bl...   \n",
       "2  Departments of Motor Vehicles;Public Services ...   \n",
       "3                            Sporting Goods;Shopping   \n",
       "4  American (New);Nightlife;Bars;Sandwiches;Ameri...   \n",
       "\n",
       "                                                text  \n",
       "0  They make a plan, for your mouth to get health...  \n",
       "1  I would  be grateful to those of you willing t...  \n",
       "2  This place is the worst!!! 1 employee sat ther...  \n",
       "3  Thank you Alan soo much for your help. You're ...  \n",
       "4  I've always enjoyed my time at brick house foo...  "
      ]
     },
     "execution_count": 18,
     "metadata": {},
     "output_type": "execute_result"
    }
   ],
   "source": [
    "data = df_biz.merge(content_final, how='left', left_on='business_id', right_on='business_id')\n",
    "data = data[['business_id', 'name_x', 'city', 'categories', 'text']]\n",
    "data.head()"
   ]
  },
  {
   "cell_type": "markdown",
   "metadata": {},
   "source": [
    "Time to filter for Edinburgh and Restaurants"
   ]
  },
  {
   "cell_type": "code",
   "execution_count": 19,
   "metadata": {},
   "outputs": [
    {
     "data": {
      "text/html": [
       "<div>\n",
       "<style scoped>\n",
       "    .dataframe tbody tr th:only-of-type {\n",
       "        vertical-align: middle;\n",
       "    }\n",
       "\n",
       "    .dataframe tbody tr th {\n",
       "        vertical-align: top;\n",
       "    }\n",
       "\n",
       "    .dataframe thead th {\n",
       "        text-align: right;\n",
       "    }\n",
       "</style>\n",
       "<table border=\"1\" class=\"dataframe\">\n",
       "  <thead>\n",
       "    <tr style=\"text-align: right;\">\n",
       "      <th></th>\n",
       "      <th>business_id</th>\n",
       "      <th>name_x</th>\n",
       "      <th>city</th>\n",
       "      <th>categories</th>\n",
       "      <th>text</th>\n",
       "    </tr>\n",
       "  </thead>\n",
       "  <tbody>\n",
       "    <tr>\n",
       "      <th>68</th>\n",
       "      <td>F31RycVVooeIOp9jsXmg6g</td>\n",
       "      <td>\"The Bluebird Cafe\"</td>\n",
       "      <td>Edinburgh</td>\n",
       "      <td>Breakfast &amp; Brunch;Diners;Restaurants;Cafes;Br...</td>\n",
       "      <td>When Blythe told me he'd checked out a new spo...</td>\n",
       "    </tr>\n",
       "    <tr>\n",
       "      <th>214</th>\n",
       "      <td>KbSoYXHUz_Bjo-v0VWHDrw</td>\n",
       "      <td>\"St. Andrew Square\"</td>\n",
       "      <td>Edinburgh</td>\n",
       "      <td>Active Life;Parks;Local Flavor</td>\n",
       "      <td>Oh my goodness, I love this park! It's really,...</td>\n",
       "    </tr>\n",
       "  </tbody>\n",
       "</table>\n",
       "</div>"
      ],
      "text/plain": [
       "                business_id               name_x       city  \\\n",
       "68   F31RycVVooeIOp9jsXmg6g  \"The Bluebird Cafe\"  Edinburgh   \n",
       "214  KbSoYXHUz_Bjo-v0VWHDrw  \"St. Andrew Square\"  Edinburgh   \n",
       "\n",
       "                                            categories  \\\n",
       "68   Breakfast & Brunch;Diners;Restaurants;Cafes;Br...   \n",
       "214                     Active Life;Parks;Local Flavor   \n",
       "\n",
       "                                                  text  \n",
       "68   When Blythe told me he'd checked out a new spo...  \n",
       "214  Oh my goodness, I love this park! It's really,...  "
      ]
     },
     "execution_count": 19,
     "metadata": {},
     "output_type": "execute_result"
    }
   ],
   "source": [
    "#Filter Edinburgh\n",
    "data_edin = data[data.city.str.contains('Edin',case=False, na=False)]\n",
    "data_edin.head(2)"
   ]
  },
  {
   "cell_type": "code",
   "execution_count": 20,
   "metadata": {},
   "outputs": [
    {
     "name": "stdout",
     "output_type": "stream",
     "text": [
      "(1605, 5)\n"
     ]
    },
    {
     "data": {
      "text/html": [
       "<div>\n",
       "<style scoped>\n",
       "    .dataframe tbody tr th:only-of-type {\n",
       "        vertical-align: middle;\n",
       "    }\n",
       "\n",
       "    .dataframe tbody tr th {\n",
       "        vertical-align: top;\n",
       "    }\n",
       "\n",
       "    .dataframe thead th {\n",
       "        text-align: right;\n",
       "    }\n",
       "</style>\n",
       "<table border=\"1\" class=\"dataframe\">\n",
       "  <thead>\n",
       "    <tr style=\"text-align: right;\">\n",
       "      <th></th>\n",
       "      <th>business_id</th>\n",
       "      <th>name_x</th>\n",
       "      <th>city</th>\n",
       "      <th>categories</th>\n",
       "      <th>text</th>\n",
       "    </tr>\n",
       "  </thead>\n",
       "  <tbody>\n",
       "    <tr>\n",
       "      <th>68</th>\n",
       "      <td>F31RycVVooeIOp9jsXmg6g</td>\n",
       "      <td>\"The Bluebird Cafe\"</td>\n",
       "      <td>Edinburgh</td>\n",
       "      <td>Breakfast &amp; Brunch;Diners;Restaurants;Cafes;Br...</td>\n",
       "      <td>When Blythe told me he'd checked out a new spo...</td>\n",
       "    </tr>\n",
       "    <tr>\n",
       "      <th>380</th>\n",
       "      <td>inaACfObL1NBNJmBG11iuQ</td>\n",
       "      <td>\"Global Deli\"</td>\n",
       "      <td>Edinburgh</td>\n",
       "      <td>Restaurants;Food;Sandwiches;Coffee &amp; Tea;Delis</td>\n",
       "      <td>Global Deli is a great find if you're feeling ...</td>\n",
       "    </tr>\n",
       "  </tbody>\n",
       "</table>\n",
       "</div>"
      ],
      "text/plain": [
       "                business_id               name_x       city  \\\n",
       "68   F31RycVVooeIOp9jsXmg6g  \"The Bluebird Cafe\"  Edinburgh   \n",
       "380  inaACfObL1NBNJmBG11iuQ        \"Global Deli\"  Edinburgh   \n",
       "\n",
       "                                            categories  \\\n",
       "68   Breakfast & Brunch;Diners;Restaurants;Cafes;Br...   \n",
       "380     Restaurants;Food;Sandwiches;Coffee & Tea;Delis   \n",
       "\n",
       "                                                  text  \n",
       "68   When Blythe told me he'd checked out a new spo...  \n",
       "380  Global Deli is a great find if you're feeling ...  "
      ]
     },
     "execution_count": 20,
     "metadata": {},
     "output_type": "execute_result"
    }
   ],
   "source": [
    "#Filter Restaurants\n",
    "data_edin_rest = data_edin[data_edin.categories.str.contains('Rest', case=False, na=False)]\n",
    "print(data_edin_rest.shape) #check consistency with expected number of restaurants (expected = 1605)\n",
    "data_edin_rest.head(2)"
   ]
  },
  {
   "cell_type": "markdown",
   "metadata": {},
   "source": [
    "Now before exporting the dataframe to csv file we should carry out some basic preprocessing of the text fields to ensure\n",
    "that they are prepped for modelling or at least modelling based decisions. "
   ]
  },
  {
   "cell_type": "markdown",
   "metadata": {},
   "source": [
    "We know from the restauranty EDA that there are some high frequency category words which we don't want for modelling purposes. This is because they don't tell us anything specific about the establishment as we'll see.  The words we'll remove are 'Restaurant' & 'Food'. We have to assume that the establishments in question are restaurants as that's a condition of entry into the dataset and food as that's a condition of being a restaurant! We'll do this in stop words in TFIDF. "
   ]
  },
  {
   "cell_type": "code",
   "execution_count": 21,
   "metadata": {},
   "outputs": [
    {
     "data": {
      "text/html": [
       "<div>\n",
       "<style scoped>\n",
       "    .dataframe tbody tr th:only-of-type {\n",
       "        vertical-align: middle;\n",
       "    }\n",
       "\n",
       "    .dataframe tbody tr th {\n",
       "        vertical-align: top;\n",
       "    }\n",
       "\n",
       "    .dataframe thead th {\n",
       "        text-align: right;\n",
       "    }\n",
       "</style>\n",
       "<table border=\"1\" class=\"dataframe\">\n",
       "  <thead>\n",
       "    <tr style=\"text-align: right;\">\n",
       "      <th></th>\n",
       "      <th>business_id</th>\n",
       "      <th>name_x</th>\n",
       "      <th>city</th>\n",
       "      <th>categories</th>\n",
       "      <th>text</th>\n",
       "    </tr>\n",
       "  </thead>\n",
       "  <tbody>\n",
       "    <tr>\n",
       "      <th>68</th>\n",
       "      <td>F31RycVVooeIOp9jsXmg6g</td>\n",
       "      <td>\"The Bluebird Cafe\"</td>\n",
       "      <td>Edinburgh</td>\n",
       "      <td>Breakfast &amp; Brunch, Diners, Restaurants, Cafes...</td>\n",
       "      <td>When Blythe told me he'd checked out a new spo...</td>\n",
       "    </tr>\n",
       "    <tr>\n",
       "      <th>380</th>\n",
       "      <td>inaACfObL1NBNJmBG11iuQ</td>\n",
       "      <td>\"Global Deli\"</td>\n",
       "      <td>Edinburgh</td>\n",
       "      <td>Restaurants, Food, Sandwiches, Coffee &amp; Tea, D...</td>\n",
       "      <td>Global Deli is a great find if you're feeling ...</td>\n",
       "    </tr>\n",
       "    <tr>\n",
       "      <th>397</th>\n",
       "      <td>Di5ApLgoQpcv5Aew82fI_A</td>\n",
       "      <td>\"The Rendezvous\"</td>\n",
       "      <td>Edinburgh</td>\n",
       "      <td>Restaurants, Cantonese, Chinese</td>\n",
       "      <td>Not been to this restaurant for about 2 years ...</td>\n",
       "    </tr>\n",
       "    <tr>\n",
       "      <th>420</th>\n",
       "      <td>OvbLKXkJCg8ZMHX9L5faIA</td>\n",
       "      <td>\"Bread Meats Bread\"</td>\n",
       "      <td>Edinburgh</td>\n",
       "      <td>Burgers, Restaurants</td>\n",
       "      <td>I know people rave about this place so I'm sur...</td>\n",
       "    </tr>\n",
       "    <tr>\n",
       "      <th>446</th>\n",
       "      <td>T2jfXhvQPk9wLdt1OVV-Kg</td>\n",
       "      <td>\"Rose Street Brewery\"</td>\n",
       "      <td>Edinburgh</td>\n",
       "      <td>Pubs, Whiskey Bars, Nightlife, Breakfast &amp; Bru...</td>\n",
       "      <td>One of many spots on Rose St. A good variety o...</td>\n",
       "    </tr>\n",
       "  </tbody>\n",
       "</table>\n",
       "</div>"
      ],
      "text/plain": [
       "                business_id                 name_x       city  \\\n",
       "68   F31RycVVooeIOp9jsXmg6g    \"The Bluebird Cafe\"  Edinburgh   \n",
       "380  inaACfObL1NBNJmBG11iuQ          \"Global Deli\"  Edinburgh   \n",
       "397  Di5ApLgoQpcv5Aew82fI_A       \"The Rendezvous\"  Edinburgh   \n",
       "420  OvbLKXkJCg8ZMHX9L5faIA    \"Bread Meats Bread\"  Edinburgh   \n",
       "446  T2jfXhvQPk9wLdt1OVV-Kg  \"Rose Street Brewery\"  Edinburgh   \n",
       "\n",
       "                                            categories  \\\n",
       "68   Breakfast & Brunch, Diners, Restaurants, Cafes...   \n",
       "380  Restaurants, Food, Sandwiches, Coffee & Tea, D...   \n",
       "397                    Restaurants, Cantonese, Chinese   \n",
       "420                               Burgers, Restaurants   \n",
       "446  Pubs, Whiskey Bars, Nightlife, Breakfast & Bru...   \n",
       "\n",
       "                                                  text  \n",
       "68   When Blythe told me he'd checked out a new spo...  \n",
       "380  Global Deli is a great find if you're feeling ...  \n",
       "397  Not been to this restaurant for about 2 years ...  \n",
       "420  I know people rave about this place so I'm sur...  \n",
       "446  One of many spots on Rose St. A good variety o...  "
      ]
     },
     "execution_count": 21,
     "metadata": {},
     "output_type": "execute_result"
    }
   ],
   "source": [
    "data_edin_rest['categories'].replace({';':', '}, regex=True, inplace=True)\n",
    "data_edin_rest.head()"
   ]
  },
  {
   "cell_type": "code",
   "execution_count": 22,
   "metadata": {},
   "outputs": [],
   "source": [
    "data_edin_rest.rename(columns={'name_x': 'name'}, inplace=True)"
   ]
  },
  {
   "cell_type": "code",
   "execution_count": 23,
   "metadata": {},
   "outputs": [
    {
     "data": {
      "text/html": [
       "<div>\n",
       "<style scoped>\n",
       "    .dataframe tbody tr th:only-of-type {\n",
       "        vertical-align: middle;\n",
       "    }\n",
       "\n",
       "    .dataframe tbody tr th {\n",
       "        vertical-align: top;\n",
       "    }\n",
       "\n",
       "    .dataframe thead th {\n",
       "        text-align: right;\n",
       "    }\n",
       "</style>\n",
       "<table border=\"1\" class=\"dataframe\">\n",
       "  <thead>\n",
       "    <tr style=\"text-align: right;\">\n",
       "      <th></th>\n",
       "      <th>business_id</th>\n",
       "      <th>name</th>\n",
       "      <th>city</th>\n",
       "      <th>categories</th>\n",
       "      <th>text</th>\n",
       "    </tr>\n",
       "  </thead>\n",
       "  <tbody>\n",
       "    <tr>\n",
       "      <th>68</th>\n",
       "      <td>F31RycVVooeIOp9jsXmg6g</td>\n",
       "      <td>\"The Bluebird Cafe\"</td>\n",
       "      <td>Edinburgh</td>\n",
       "      <td>Breakfast &amp; Brunch, Diners, Restaurants, Cafes...</td>\n",
       "      <td>When Blythe told me he'd checked out a new spo...</td>\n",
       "    </tr>\n",
       "    <tr>\n",
       "      <th>380</th>\n",
       "      <td>inaACfObL1NBNJmBG11iuQ</td>\n",
       "      <td>\"Global Deli\"</td>\n",
       "      <td>Edinburgh</td>\n",
       "      <td>Restaurants, Food, Sandwiches, Coffee &amp; Tea, D...</td>\n",
       "      <td>Global Deli is a great find if you're feeling ...</td>\n",
       "    </tr>\n",
       "  </tbody>\n",
       "</table>\n",
       "</div>"
      ],
      "text/plain": [
       "                business_id                 name       city  \\\n",
       "68   F31RycVVooeIOp9jsXmg6g  \"The Bluebird Cafe\"  Edinburgh   \n",
       "380  inaACfObL1NBNJmBG11iuQ        \"Global Deli\"  Edinburgh   \n",
       "\n",
       "                                            categories  \\\n",
       "68   Breakfast & Brunch, Diners, Restaurants, Cafes...   \n",
       "380  Restaurants, Food, Sandwiches, Coffee & Tea, D...   \n",
       "\n",
       "                                                  text  \n",
       "68   When Blythe told me he'd checked out a new spo...  \n",
       "380  Global Deli is a great find if you're feeling ...  "
      ]
     },
     "execution_count": 23,
     "metadata": {},
     "output_type": "execute_result"
    }
   ],
   "source": [
    "data_edin_rest.head(2)"
   ]
  },
  {
   "cell_type": "code",
   "execution_count": 25,
   "metadata": {},
   "outputs": [],
   "source": [
    "#We'll export this dataframe to a csv. We can carry out any further modelling driven cleaning in the model notebook. \n",
    "data_edin_rest.to_csv('content.csv')"
   ]
  },
  {
   "cell_type": "code",
   "execution_count": null,
   "metadata": {},
   "outputs": [],
   "source": []
  }
 ],
 "metadata": {
  "kernelspec": {
   "display_name": "learn-env",
   "language": "python",
   "name": "learn-env"
  },
  "language_info": {
   "codemirror_mode": {
    "name": "ipython",
    "version": 3
   },
   "file_extension": ".py",
   "mimetype": "text/x-python",
   "name": "python",
   "nbconvert_exporter": "python",
   "pygments_lexer": "ipython3",
   "version": "3.6.6"
  }
 },
 "nbformat": 4,
 "nbformat_minor": 2
}
