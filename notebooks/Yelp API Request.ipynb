{
 "cells": [
  {
   "cell_type": "markdown",
   "metadata": {},
   "source": [
    "# YELP API REQUESTS WORKSHEET"
   ]
  },
  {
   "cell_type": "code",
   "execution_count": 80,
   "metadata": {},
   "outputs": [],
   "source": [
    "import requests\n",
    "import pprint"
   ]
  },
  {
   "cell_type": "code",
   "execution_count": 2,
   "metadata": {},
   "outputs": [],
   "source": [
    "business_id = ''"
   ]
  },
  {
   "cell_type": "code",
   "execution_count": 3,
   "metadata": {},
   "outputs": [],
   "source": [
    "#Define API Key \n",
    "API_KEY = 'GV2LwUNhZ8WiD72PtYQ0-fFYFIHFjz4qh20UvKaY_iXejm5KWcrX5BSUZz2mceC9Ah9bEj2JSQXoQFAbcbfhLyQBZHYNfb3QKKFhTCq34YeaySyECj8COg0trJK6XnYx'"
   ]
  },
  {
   "cell_type": "markdown",
   "metadata": {},
   "source": [
    "# Business search request\n",
    "## we can search for businesses based on a set number of parameters\n",
    "https://www.yelp.com/developers/documentation/v3/business_search"
   ]
  },
  {
   "cell_type": "code",
   "execution_count": 4,
   "metadata": {},
   "outputs": [],
   "source": [
    "#Define the endpoint\n",
    "endpoint = 'https://api.yelp.com/v3/businesses/search'\n"
   ]
  },
  {
   "cell_type": "code",
   "execution_count": 5,
   "metadata": {},
   "outputs": [],
   "source": [
    "#Define the header\n",
    "headers = {'Authorization': 'bearer %s' %API_KEY}"
   ]
  },
  {
   "cell_type": "code",
   "execution_count": 148,
   "metadata": {},
   "outputs": [],
   "source": [
    "#Defie Parameters\n",
    "params = {'term':'coffee', \n",
    "          'limit': 50, #limits the number of places returned to 50\n",
    "          'radius': 10000, #measured in metres\n",
    "          'offset': 50,\n",
    "          'location': 'London'} #offset starts the return after the first 50 coffee places found.. so 50-100"
   ]
  },
  {
   "cell_type": "code",
   "execution_count": 149,
   "metadata": {},
   "outputs": [],
   "source": [
    "#Now make request to Yelp API\n",
    "response = requests.get(url = endpoint, params=params, headers=headers)"
   ]
  },
  {
   "cell_type": "code",
   "execution_count": 150,
   "metadata": {},
   "outputs": [],
   "source": [
    "#convert the response json string into a dictionary\n",
    "business_data = response.json()"
   ]
  },
  {
   "cell_type": "code",
   "execution_count": 151,
   "metadata": {},
   "outputs": [],
   "source": [
    "# print(business_data.keys())"
   ]
  },
  {
   "cell_type": "code",
   "execution_count": 152,
   "metadata": {},
   "outputs": [
    {
     "name": "stdout",
     "output_type": "stream",
     "text": [
      "Tea and Tattle\n",
      "Store Street Espresso\n",
      "Department of Coffee and Social Affairs\n",
      "Rosslyn Coffee\n",
      "Inhabition Coffee Shop\n",
      "Beatles Coffee Shop\n",
      "The Wolseley\n",
      "Black Sheep Coffee\n",
      "Dirty Bones Soho\n",
      "Beany Green\n",
      "Regency Café\n",
      "The CoffeeWorks Project\n",
      "Tonic Coffee Bar\n",
      "Esters\n",
      "H R Higgins\n",
      "Farm Girl\n",
      "Flocafe Espresso Room\n",
      "Kioskafé\n",
      "My Place Soho\n",
      "Crumpets\n",
      "Peyton and Byrne\n",
      "Soho Coffee\n",
      "That Coffee Shop\n",
      "Said\n",
      "Kennington Lane Cafe\n",
      "Urban Baristas\n",
      "Yumchaa\n",
      "Laurents\n",
      "Prufrock Coffee\n",
      "Sacred\n",
      "Soho Coffee Co\n",
      "Blighty Coffee\n",
      "Caffe Nero\n",
      "Roasting Plant Coffee\n",
      "The Borough Barista\n",
      "Burr & Co Coffee\n",
      "Crescent Coffee\n",
      "Department of Coffee and Social Affairs\n",
      "Four Corners Cafe\n",
      "Frequency Coffee\n",
      "The Book Club\n",
      "Sunday\n",
      "Crosstown Doughnuts & Coffee\n",
      "Jacob the Angel\n",
      "Saint Espresso\n",
      "JOVA Marylebone\n",
      "Ripe Kitchen\n",
      "Lundenwic\n",
      "26 Grains\n",
      "GAIL's Bakery Soho\n"
     ]
    }
   ],
   "source": [
    "for biz in business_data['businesses']:\n",
    "    print(biz['name']) #prints names of the businesses returned based on our parameters. \n",
    "#     print('Business name: ' + biz['name'] + ', Business ID: ' + biz['id'])\n"
   ]
  },
  {
   "cell_type": "markdown",
   "metadata": {},
   "source": [
    "# Matches\n",
    "## search for data about a business matching certain parameters. "
   ]
  },
  {
   "cell_type": "code",
   "execution_count": 153,
   "metadata": {},
   "outputs": [],
   "source": [
    "matches_endpoint = 'https://api.yelp.com/v3/businesses/matches'"
   ]
  },
  {
   "cell_type": "code",
   "execution_count": 154,
   "metadata": {},
   "outputs": [],
   "source": [
    "matches_params = {'name': 'Tea and Tattle', \n",
    "                  'address1': '41 Great Russell Street',\n",
    "                  'city': 'London',\n",
    "                  'state': 'XGL',\n",
    "                  'country': 'GB'}"
   ]
  },
  {
   "cell_type": "code",
   "execution_count": 155,
   "metadata": {},
   "outputs": [],
   "source": [
    "matches_response = requests.get(url=matches_endpoint, params=matches_params, headers=headers)"
   ]
  },
  {
   "cell_type": "code",
   "execution_count": 156,
   "metadata": {},
   "outputs": [],
   "source": [
    "match_data = matches_response.json()"
   ]
  },
  {
   "cell_type": "code",
   "execution_count": 183,
   "metadata": {},
   "outputs": [
    {
     "name": "stdout",
     "output_type": "stream",
     "text": [
      "Tea and Tattle\n",
      "{'id': '1TgYqfxkXv6-IB4cvuuy3w', 'alias': 'tea-and-tattle-london', 'name': 'Tea and Tattle', 'coordinates': {'latitude': 51.5178680419922, 'longitude': -0.126817002892494}, 'location': {'address1': '41 Great Russell Street', 'address2': '', 'address3': '', 'city': 'London', 'zip_code': 'WC1B 3PE', 'country': 'GB', 'state': 'XGL', 'display_address': ['41 Great Russell Street', 'London WC1B 3PE', 'United Kingdom']}, 'phone': '+447722192703', 'display_phone': '+44 7722 192703'}\n"
     ]
    }
   ],
   "source": [
    "for biz in match_data['businesses']:\n",
    "    print(biz['name'])\n",
    "    print(biz)"
   ]
  },
  {
   "cell_type": "code",
   "execution_count": 202,
   "metadata": {},
   "outputs": [
    {
     "name": "stdout",
     "output_type": "stream",
     "text": [
      "[{'id': '1TgYqfxkXv6-IB4cvuuy3w', 'alias': 'tea-and-tattle-london', 'name': 'Tea and Tattle', 'coordinates': {'latitude': 51.5178680419922, 'longitude': -0.126817002892494}, 'location': {'address1': '41 Great Russell Street', 'address2': '', 'address3': '', 'city': 'London', 'zip_code': 'WC1B 3PE', 'country': 'GB', 'state': 'XGL', 'display_address': ['41 Great Russell Street', 'London WC1B 3PE', 'United Kingdom']}, 'phone': '+447722192703', 'display_phone': '+44 7722 192703'}]\n"
     ]
    }
   ],
   "source": [
    "print(match_data['businesses'])"
   ]
  },
  {
   "cell_type": "markdown",
   "metadata": {},
   "source": [
    "# Details\n",
    "## Request more detailed data on a specific business."
   ]
  },
  {
   "cell_type": "code",
   "execution_count": 70,
   "metadata": {},
   "outputs": [],
   "source": [
    "business_id = '1TgYqfxkXv6-IB4cvuuy3w'"
   ]
  },
  {
   "cell_type": "code",
   "execution_count": 72,
   "metadata": {},
   "outputs": [],
   "source": [
    "details_endpoint = 'https://api.yelp.com/v3/businesses/{}'.format(business_id)"
   ]
  },
  {
   "cell_type": "code",
   "execution_count": 73,
   "metadata": {},
   "outputs": [],
   "source": [
    "details_response = requests.get(url=details_endpoint, headers=headers)"
   ]
  },
  {
   "cell_type": "code",
   "execution_count": 74,
   "metadata": {},
   "outputs": [],
   "source": [
    "details_data = details_response.json()"
   ]
  },
  {
   "cell_type": "code",
   "execution_count": 146,
   "metadata": {},
   "outputs": [
    {
     "name": "stdout",
     "output_type": "stream",
     "text": [
      "{'alias': 'tea-and-tattle-london',\n",
      " 'categories': [{'alias': 'british', 'title': 'British'},\n",
      "                {'alias': 'coffee', 'title': 'Coffee & Tea'}],\n",
      " 'coordinates': {'latitude': 51.5178680419922, 'longitude': -0.126817002892494},\n",
      " 'display_phone': '+44 7722 192703',\n",
      " 'hours': [{'hours_type': 'REGULAR',\n",
      "            'is_open_now': True,\n",
      "            'open': [{'day': 0,\n",
      "                      'end': '1830',\n",
      "                      'is_overnight': False,\n",
      "                      'start': '0900'},\n",
      "                     {'day': 1,\n",
      "                      'end': '1830',\n",
      "                      'is_overnight': False,\n",
      "                      'start': '0900'},\n",
      "                     {'day': 2,\n",
      "                      'end': '1830',\n",
      "                      'is_overnight': False,\n",
      "                      'start': '0900'},\n",
      "                     {'day': 3,\n",
      "                      'end': '1830',\n",
      "                      'is_overnight': False,\n",
      "                      'start': '0900'},\n",
      "                     {'day': 4,\n",
      "                      'end': '1830',\n",
      "                      'is_overnight': False,\n",
      "                      'start': '0900'},\n",
      "                     {'day': 5,\n",
      "                      'end': '1600',\n",
      "                      'is_overnight': False,\n",
      "                      'start': '1200'}]}],\n",
      " 'id': '1TgYqfxkXv6-IB4cvuuy3w',\n",
      " 'image_url': 'https://s3-media2.fl.yelpcdn.com/bphoto/vLBMXneN2y5PSXuARVT_ow/o.jpg',\n",
      " 'is_claimed': True,\n",
      " 'is_closed': False,\n",
      " 'location': {'address1': '41 Great Russell Street',\n",
      "              'address2': '',\n",
      "              'address3': '',\n",
      "              'city': 'London',\n",
      "              'country': 'GB',\n",
      "              'cross_streets': '',\n",
      "              'display_address': ['41 Great Russell Street',\n",
      "                                  'London WC1B 3PE',\n",
      "                                  'United Kingdom'],\n",
      "              'state': 'XGL',\n",
      "              'zip_code': 'WC1B 3PE'},\n",
      " 'messaging': {'url': 'https://www.yelp.com/raq/1TgYqfxkXv6-IB4cvuuy3w?adjust_creative=_lnoYL1ikJ5ht_qCim0q7A&utm_campaign=yelp_api_v3&utm_medium=api_v3_business_lookup&utm_source=_lnoYL1ikJ5ht_qCim0q7A#popup%3Araq',\n",
      "               'use_case_text': 'Message the Business'},\n",
      " 'name': 'Tea and Tattle',\n",
      " 'phone': '+447722192703',\n",
      " 'photos': ['https://s3-media2.fl.yelpcdn.com/bphoto/vLBMXneN2y5PSXuARVT_ow/o.jpg',\n",
      "            'https://s3-media2.fl.yelpcdn.com/bphoto/msnLWP35q2htOhX4b5Htvg/o.jpg',\n",
      "            'https://s3-media4.fl.yelpcdn.com/bphoto/llG7ir22wDbiFypNCPr-FA/o.jpg'],\n",
      " 'price': '££',\n",
      " 'rating': 4.5,\n",
      " 'review_count': 79,\n",
      " 'transactions': [],\n",
      " 'url': 'https://www.yelp.com/biz/tea-and-tattle-london?adjust_creative=_lnoYL1ikJ5ht_qCim0q7A&utm_campaign=yelp_api_v3&utm_medium=api_v3_business_lookup&utm_source=_lnoYL1ikJ5ht_qCim0q7A'}\n"
     ]
    }
   ],
   "source": [
    "pprint.pprint(details_data)"
   ]
  },
  {
   "cell_type": "code",
   "execution_count": null,
   "metadata": {},
   "outputs": [],
   "source": []
  },
  {
   "cell_type": "markdown",
   "metadata": {},
   "source": [
    "# Reviews\n",
    "## Request reviews of a specific business. You can only access 3 reviews based on Yelp's default sorting order. \n",
    "https://www.yelp-support.com/article/How-is-the-order-of-reviews-determined?"
   ]
  },
  {
   "cell_type": "code",
   "execution_count": 138,
   "metadata": {},
   "outputs": [],
   "source": [
    "review_endpoint = 'https://api.yelp.com/v3/businesses/{}/reviews'.format(business_id)"
   ]
  },
  {
   "cell_type": "code",
   "execution_count": 139,
   "metadata": {},
   "outputs": [],
   "source": [
    "review_params = {'business_id': business_id} #Trying to get the request to return the business id in the JSON"
   ]
  },
  {
   "cell_type": "code",
   "execution_count": 141,
   "metadata": {},
   "outputs": [],
   "source": [
    "review_response = requests.get(url=review_endpoint, params=review_params, headers=headers)"
   ]
  },
  {
   "cell_type": "code",
   "execution_count": 142,
   "metadata": {},
   "outputs": [],
   "source": [
    "review = review_response.json()"
   ]
  },
  {
   "cell_type": "code",
   "execution_count": 143,
   "metadata": {},
   "outputs": [
    {
     "data": {
      "text/plain": [
       "dict"
      ]
     },
     "execution_count": 143,
     "metadata": {},
     "output_type": "execute_result"
    }
   ],
   "source": [
    "type(review)"
   ]
  },
  {
   "cell_type": "code",
   "execution_count": 144,
   "metadata": {},
   "outputs": [
    {
     "data": {
      "text/plain": [
       "requests.models.Response"
      ]
     },
     "execution_count": 144,
     "metadata": {},
     "output_type": "execute_result"
    }
   ],
   "source": [
    "type(review_response)"
   ]
  },
  {
   "cell_type": "code",
   "execution_count": 145,
   "metadata": {},
   "outputs": [
    {
     "name": "stdout",
     "output_type": "stream",
     "text": [
      "{'possible_languages': ['nb', 'en'],\n",
      " 'reviews': [{'id': 'Vdanb90si5H2_l9dlDWcFw',\n",
      "              'rating': 5,\n",
      "              'text': 'This tea place was an amazing find! I will definitely '\n",
      "                      'come back just for the scones, with the raspberry and '\n",
      "                      'vanilla filling--it was divine! My husband and I...',\n",
      "              'time_created': '2019-12-07 13:52:23',\n",
      "              'url': 'https://www.yelp.com/biz/tea-and-tattle-london?adjust_creative=_lnoYL1ikJ5ht_qCim0q7A&hrid=Vdanb90si5H2_l9dlDWcFw&utm_campaign=yelp_api_v3&utm_medium=api_v3_business_reviews&utm_source=_lnoYL1ikJ5ht_qCim0q7A',\n",
      "              'user': {'id': 'lcl2t97_tGDTr-9c-6sBWw',\n",
      "                       'image_url': 'https://s3-media2.fl.yelpcdn.com/photo/PB9ixjT-vIbAMLkWfkbz2Q/o.jpg',\n",
      "                       'name': 'Ting Ting C.',\n",
      "                       'profile_url': 'https://www.yelp.com/user_details?userid=lcl2t97_tGDTr-9c-6sBWw'}},\n",
      "             {'id': 'DDPuyHH0Nm4fUXXeOsLG0A',\n",
      "              'rating': 4,\n",
      "              'text': 'We loved that this place was right next to the British '\n",
      "                      'Museum.  It was the perfect place to stop and rest '\n",
      "                      'after wandering the British Museum for hours.  It...',\n",
      "              'time_created': '2019-11-05 12:36:39',\n",
      "              'url': 'https://www.yelp.com/biz/tea-and-tattle-london?adjust_creative=_lnoYL1ikJ5ht_qCim0q7A&hrid=DDPuyHH0Nm4fUXXeOsLG0A&utm_campaign=yelp_api_v3&utm_medium=api_v3_business_reviews&utm_source=_lnoYL1ikJ5ht_qCim0q7A',\n",
      "              'user': {'id': '-gCbrwbpIn3jTEsAbtIFBQ',\n",
      "                       'image_url': 'https://s3-media1.fl.yelpcdn.com/photo/f6Cu2S9tfFVBr2wsxCESew/o.jpg',\n",
      "                       'name': 'Grace W.',\n",
      "                       'profile_url': 'https://www.yelp.com/user_details?userid=-gCbrwbpIn3jTEsAbtIFBQ'}},\n",
      "             {'id': 'TZIt9J2q6_6lMIVLl8yy3w',\n",
      "              'rating': 4,\n",
      "              'text': \"When you're in London, you MUST have afternoon tea! \"\n",
      "                      'Before heading to the London Museum, I highly recommend '\n",
      "                      'coming here for afternoon tea. While...',\n",
      "              'time_created': '2019-10-30 07:01:58',\n",
      "              'url': 'https://www.yelp.com/biz/tea-and-tattle-london?adjust_creative=_lnoYL1ikJ5ht_qCim0q7A&hrid=TZIt9J2q6_6lMIVLl8yy3w&utm_campaign=yelp_api_v3&utm_medium=api_v3_business_reviews&utm_source=_lnoYL1ikJ5ht_qCim0q7A',\n",
      "              'user': {'id': 'mm8jRhfVwF_HFMMcBl0O5Q',\n",
      "                       'image_url': 'https://s3-media2.fl.yelpcdn.com/photo/H2G3Mis-SIlOzKrUtvR1Fw/o.jpg',\n",
      "                       'name': 'Shirls S.',\n",
      "                       'profile_url': 'https://www.yelp.com/user_details?userid=mm8jRhfVwF_HFMMcBl0O5Q'}}],\n",
      " 'total': 79}\n"
     ]
    }
   ],
   "source": [
    "pprint.pprint(review) "
   ]
  },
  {
   "cell_type": "markdown",
   "metadata": {},
   "source": [
    "# Convert to CSV"
   ]
  },
  {
   "cell_type": "code",
   "execution_count": 117,
   "metadata": {},
   "outputs": [],
   "source": [
    "import pandas as pd\n",
    "import csv"
   ]
  },
  {
   "cell_type": "code",
   "execution_count": 118,
   "metadata": {},
   "outputs": [
    {
     "data": {
      "text/plain": [
       "dict"
      ]
     },
     "execution_count": 118,
     "metadata": {},
     "output_type": "execute_result"
    }
   ],
   "source": [
    "type(review)"
   ]
  },
  {
   "cell_type": "code",
   "execution_count": 119,
   "metadata": {},
   "outputs": [
    {
     "data": {
      "text/plain": [
       "dict_keys(['reviews', 'total', 'possible_languages'])"
      ]
     },
     "execution_count": 119,
     "metadata": {},
     "output_type": "execute_result"
    }
   ],
   "source": [
    "review.keys()"
   ]
  },
  {
   "cell_type": "markdown",
   "metadata": {},
   "source": [
    "The arrays are of different lengths causing problems on conversion to CSV with pandas. On inspection the total and possible_languages keys are not required so we can drop them"
   ]
  },
  {
   "cell_type": "code",
   "execution_count": 120,
   "metadata": {},
   "outputs": [],
   "source": [
    "del review['total']\n",
    "del review['possible_languages']"
   ]
  },
  {
   "cell_type": "code",
   "execution_count": 121,
   "metadata": {},
   "outputs": [
    {
     "data": {
      "text/plain": [
       "dict_keys(['reviews'])"
      ]
     },
     "execution_count": 121,
     "metadata": {},
     "output_type": "execute_result"
    }
   ],
   "source": [
    "review.keys()"
   ]
  },
  {
   "cell_type": "code",
   "execution_count": 122,
   "metadata": {},
   "outputs": [],
   "source": [
    "review_df = pd.DataFrame.from_dict(review)"
   ]
  },
  {
   "cell_type": "code",
   "execution_count": 127,
   "metadata": {},
   "outputs": [
    {
     "data": {
      "text/html": [
       "<div>\n",
       "<style scoped>\n",
       "    .dataframe tbody tr th:only-of-type {\n",
       "        vertical-align: middle;\n",
       "    }\n",
       "\n",
       "    .dataframe tbody tr th {\n",
       "        vertical-align: top;\n",
       "    }\n",
       "\n",
       "    .dataframe thead th {\n",
       "        text-align: right;\n",
       "    }\n",
       "</style>\n",
       "<table border=\"1\" class=\"dataframe\">\n",
       "  <thead>\n",
       "    <tr style=\"text-align: right;\">\n",
       "      <th></th>\n",
       "      <th>reviews</th>\n",
       "    </tr>\n",
       "  </thead>\n",
       "  <tbody>\n",
       "    <tr>\n",
       "      <th>0</th>\n",
       "      <td>{'id': 'Vdanb90si5H2_l9dlDWcFw', 'url': 'https...</td>\n",
       "    </tr>\n",
       "    <tr>\n",
       "      <th>1</th>\n",
       "      <td>{'id': 'DDPuyHH0Nm4fUXXeOsLG0A', 'url': 'https...</td>\n",
       "    </tr>\n",
       "    <tr>\n",
       "      <th>2</th>\n",
       "      <td>{'id': 'TZIt9J2q6_6lMIVLl8yy3w', 'url': 'https...</td>\n",
       "    </tr>\n",
       "  </tbody>\n",
       "</table>\n",
       "</div>"
      ],
      "text/plain": [
       "                                             reviews\n",
       "0  {'id': 'Vdanb90si5H2_l9dlDWcFw', 'url': 'https...\n",
       "1  {'id': 'DDPuyHH0Nm4fUXXeOsLG0A', 'url': 'https...\n",
       "2  {'id': 'TZIt9J2q6_6lMIVLl8yy3w', 'url': 'https..."
      ]
     },
     "execution_count": 127,
     "metadata": {},
     "output_type": "execute_result"
    }
   ],
   "source": [
    "review_df"
   ]
  },
  {
   "cell_type": "markdown",
   "metadata": {},
   "source": [
    "This dataframe will be horrible to work with as the review column holds a full dictionary of information. We'll need to split this information into its useful parts. "
   ]
  },
  {
   "cell_type": "code",
   "execution_count": 130,
   "metadata": {},
   "outputs": [
    {
     "data": {
      "text/plain": [
       "{'id': 'Vdanb90si5H2_l9dlDWcFw',\n",
       " 'url': 'https://www.yelp.com/biz/tea-and-tattle-london?adjust_creative=_lnoYL1ikJ5ht_qCim0q7A&hrid=Vdanb90si5H2_l9dlDWcFw&utm_campaign=yelp_api_v3&utm_medium=api_v3_business_reviews&utm_source=_lnoYL1ikJ5ht_qCim0q7A',\n",
       " 'text': 'This tea place was an amazing find! I will definitely come back just for the scones, with the raspberry and vanilla filling--it was divine! My husband and I...',\n",
       " 'rating': 5,\n",
       " 'time_created': '2019-12-07 13:52:23',\n",
       " 'user': {'id': 'lcl2t97_tGDTr-9c-6sBWw',\n",
       "  'profile_url': 'https://www.yelp.com/user_details?userid=lcl2t97_tGDTr-9c-6sBWw',\n",
       "  'image_url': 'https://s3-media2.fl.yelpcdn.com/photo/PB9ixjT-vIbAMLkWfkbz2Q/o.jpg',\n",
       "  'name': 'Ting Ting C.'}}"
      ]
     },
     "execution_count": 130,
     "metadata": {},
     "output_type": "execute_result"
    }
   ],
   "source": [
    "review_df.loc[0].all() #need to figure out a way of splitting the rows into column items"
   ]
  },
  {
   "cell_type": "code",
   "execution_count": 255,
   "metadata": {},
   "outputs": [
    {
     "data": {
      "text/html": [
       "<div>\n",
       "<style scoped>\n",
       "    .dataframe tbody tr th:only-of-type {\n",
       "        vertical-align: middle;\n",
       "    }\n",
       "\n",
       "    .dataframe tbody tr th {\n",
       "        vertical-align: top;\n",
       "    }\n",
       "\n",
       "    .dataframe thead th {\n",
       "        text-align: right;\n",
       "    }\n",
       "</style>\n",
       "<table border=\"1\" class=\"dataframe\">\n",
       "  <thead>\n",
       "    <tr style=\"text-align: right;\">\n",
       "      <th></th>\n",
       "      <th>id</th>\n",
       "      <th>url</th>\n",
       "      <th>text</th>\n",
       "      <th>rating</th>\n",
       "      <th>time_created</th>\n",
       "      <th>user.id</th>\n",
       "      <th>user.profile_url</th>\n",
       "      <th>user.image_url</th>\n",
       "      <th>user.name</th>\n",
       "    </tr>\n",
       "  </thead>\n",
       "  <tbody>\n",
       "    <tr>\n",
       "      <th>0</th>\n",
       "      <td>Vdanb90si5H2_l9dlDWcFw</td>\n",
       "      <td>https://www.yelp.com/biz/tea-and-tattle-london...</td>\n",
       "      <td>This tea place was an amazing find! I will def...</td>\n",
       "      <td>5</td>\n",
       "      <td>2019-12-07 13:52:23</td>\n",
       "      <td>lcl2t97_tGDTr-9c-6sBWw</td>\n",
       "      <td>https://www.yelp.com/user_details?userid=lcl2t...</td>\n",
       "      <td>https://s3-media2.fl.yelpcdn.com/photo/PB9ixjT...</td>\n",
       "      <td>Ting Ting C.</td>\n",
       "    </tr>\n",
       "    <tr>\n",
       "      <th>1</th>\n",
       "      <td>DDPuyHH0Nm4fUXXeOsLG0A</td>\n",
       "      <td>https://www.yelp.com/biz/tea-and-tattle-london...</td>\n",
       "      <td>We loved that this place was right next to the...</td>\n",
       "      <td>4</td>\n",
       "      <td>2019-11-05 12:36:39</td>\n",
       "      <td>-gCbrwbpIn3jTEsAbtIFBQ</td>\n",
       "      <td>https://www.yelp.com/user_details?userid=-gCbr...</td>\n",
       "      <td>https://s3-media1.fl.yelpcdn.com/photo/f6Cu2S9...</td>\n",
       "      <td>Grace W.</td>\n",
       "    </tr>\n",
       "    <tr>\n",
       "      <th>2</th>\n",
       "      <td>TZIt9J2q6_6lMIVLl8yy3w</td>\n",
       "      <td>https://www.yelp.com/biz/tea-and-tattle-london...</td>\n",
       "      <td>When you're in London, you MUST have afternoon...</td>\n",
       "      <td>4</td>\n",
       "      <td>2019-10-30 07:01:58</td>\n",
       "      <td>mm8jRhfVwF_HFMMcBl0O5Q</td>\n",
       "      <td>https://www.yelp.com/user_details?userid=mm8jR...</td>\n",
       "      <td>https://s3-media2.fl.yelpcdn.com/photo/H2G3Mis...</td>\n",
       "      <td>Shirls S.</td>\n",
       "    </tr>\n",
       "  </tbody>\n",
       "</table>\n",
       "</div>"
      ],
      "text/plain": [
       "                       id                                                url  \\\n",
       "0  Vdanb90si5H2_l9dlDWcFw  https://www.yelp.com/biz/tea-and-tattle-london...   \n",
       "1  DDPuyHH0Nm4fUXXeOsLG0A  https://www.yelp.com/biz/tea-and-tattle-london...   \n",
       "2  TZIt9J2q6_6lMIVLl8yy3w  https://www.yelp.com/biz/tea-and-tattle-london...   \n",
       "\n",
       "                                                text  rating  \\\n",
       "0  This tea place was an amazing find! I will def...       5   \n",
       "1  We loved that this place was right next to the...       4   \n",
       "2  When you're in London, you MUST have afternoon...       4   \n",
       "\n",
       "          time_created                 user.id  \\\n",
       "0  2019-12-07 13:52:23  lcl2t97_tGDTr-9c-6sBWw   \n",
       "1  2019-11-05 12:36:39  -gCbrwbpIn3jTEsAbtIFBQ   \n",
       "2  2019-10-30 07:01:58  mm8jRhfVwF_HFMMcBl0O5Q   \n",
       "\n",
       "                                    user.profile_url  \\\n",
       "0  https://www.yelp.com/user_details?userid=lcl2t...   \n",
       "1  https://www.yelp.com/user_details?userid=-gCbr...   \n",
       "2  https://www.yelp.com/user_details?userid=mm8jR...   \n",
       "\n",
       "                                      user.image_url     user.name  \n",
       "0  https://s3-media2.fl.yelpcdn.com/photo/PB9ixjT...  Ting Ting C.  \n",
       "1  https://s3-media1.fl.yelpcdn.com/photo/f6Cu2S9...      Grace W.  \n",
       "2  https://s3-media2.fl.yelpcdn.com/photo/H2G3Mis...     Shirls S.  "
      ]
     },
     "execution_count": 255,
     "metadata": {},
     "output_type": "execute_result"
    }
   ],
   "source": [
    "df2 = pd.json_normalize(review_df['reviews'])\n",
    "df2.head()"
   ]
  },
  {
   "cell_type": "markdown",
   "metadata": {},
   "source": [
    "Currently we have a half decent looking review dataframe that could be tidied up with relative ease. However there is no simple way of linking the reviews to the business. Obviously when we're only returning reviews for one business we know what the business is but what if we want to return reviews for a thousand businesses. This makes sense as a built in restriction of the API to stop mass collection of data. Is there a way to hack this particular blocker?"
   ]
  },
  {
   "cell_type": "markdown",
   "metadata": {},
   "source": [
    "### Link business name to each unique review in a dataframe"
   ]
  },
  {
   "cell_type": "code",
   "execution_count": null,
   "metadata": {},
   "outputs": [],
   "source": [
    "biz_id = {}"
   ]
  },
  {
   "cell_type": "code",
   "execution_count": 230,
   "metadata": {},
   "outputs": [
    {
     "name": "stdout",
     "output_type": "stream",
     "text": [
      "Tea and Tattle\n",
      "{'id': '1TgYqfxkXv6-IB4cvuuy3w', 'alias': 'tea-and-tattle-london', 'name': 'Tea and Tattle', 'coordinates': {'latitude': 51.5178680419922, 'longitude': -0.126817002892494}, 'location': {'address1': '41 Great Russell Street', 'address2': '', 'address3': '', 'city': 'London', 'zip_code': 'WC1B 3PE', 'country': 'GB', 'state': 'XGL', 'display_address': ['41 Great Russell Street', 'London WC1B 3PE', 'United Kingdom']}, 'phone': '+447722192703', 'display_phone': '+44 7722 192703'}\n"
     ]
    }
   ],
   "source": [
    "for biz in match_data['businesses']:\n",
    "    print(biz['name'])\n",
    "    print(biz)"
   ]
  },
  {
   "cell_type": "code",
   "execution_count": 232,
   "metadata": {},
   "outputs": [
    {
     "name": "stdout",
     "output_type": "stream",
     "text": [
      "lcl2t97_tGDTr-9c-6sBWw\n",
      "-gCbrwbpIn3jTEsAbtIFBQ\n",
      "mm8jRhfVwF_HFMMcBl0O5Q\n"
     ]
    }
   ],
   "source": [
    "for item in review['reviews']:\n",
    "    print(item['user']['id'])"
   ]
  },
  {
   "cell_type": "code",
   "execution_count": 227,
   "metadata": {},
   "outputs": [
    {
     "data": {
      "text/plain": [
       "'Tea and Tattle'"
      ]
     },
     "execution_count": 227,
     "metadata": {},
     "output_type": "execute_result"
    }
   ],
   "source": [
    "biz['name']"
   ]
  },
  {
   "cell_type": "code",
   "execution_count": 236,
   "metadata": {},
   "outputs": [
    {
     "name": "stdout",
     "output_type": "stream",
     "text": [
      "[{'a': 0, 'b': 0}, {'a': 1, 'b': 1}, {'a': 2, 'b': 2}, {'a': 3, 'b': 3}, {'a': 4, 'b': 4}]\n"
     ]
    }
   ],
   "source": [
    "#this template code block may allow us to store our biz and review values in a list of dicts\n",
    "all_items = []\n",
    "for i in range(0,5):\n",
    "    all_items.append({'a': i, 'b': i})\n",
    "\n",
    "print(all_items)"
   ]
  },
  {
   "cell_type": "code",
   "execution_count": 237,
   "metadata": {},
   "outputs": [],
   "source": [
    "#Using the test template as a general \n",
    "biz_list = []\n",
    "for biz in match_data['businesses']:\n",
    "    for item in review['reviews']:\n",
    "        biz_list.append({'name': biz['name'], 'user_id': item['user']['id'] })"
   ]
  },
  {
   "cell_type": "code",
   "execution_count": 238,
   "metadata": {},
   "outputs": [
    {
     "data": {
      "text/plain": [
       "[{'name': 'Tea and Tattle', 'user_id': 'lcl2t97_tGDTr-9c-6sBWw'},\n",
       " {'name': 'Tea and Tattle', 'user_id': '-gCbrwbpIn3jTEsAbtIFBQ'},\n",
       " {'name': 'Tea and Tattle', 'user_id': 'mm8jRhfVwF_HFMMcBl0O5Q'}]"
      ]
     },
     "execution_count": 238,
     "metadata": {},
     "output_type": "execute_result"
    }
   ],
   "source": [
    "biz_list"
   ]
  },
  {
   "cell_type": "code",
   "execution_count": 235,
   "metadata": {},
   "outputs": [
    {
     "data": {
      "text/html": [
       "<div>\n",
       "<style scoped>\n",
       "    .dataframe tbody tr th:only-of-type {\n",
       "        vertical-align: middle;\n",
       "    }\n",
       "\n",
       "    .dataframe tbody tr th {\n",
       "        vertical-align: top;\n",
       "    }\n",
       "\n",
       "    .dataframe thead th {\n",
       "        text-align: right;\n",
       "    }\n",
       "</style>\n",
       "<table border=\"1\" class=\"dataframe\">\n",
       "  <thead>\n",
       "    <tr style=\"text-align: right;\">\n",
       "      <th></th>\n",
       "      <th>name</th>\n",
       "      <th>user_id</th>\n",
       "    </tr>\n",
       "  </thead>\n",
       "  <tbody>\n",
       "    <tr>\n",
       "      <th>0</th>\n",
       "      <td>Tea and Tattle</td>\n",
       "      <td>lcl2t97_tGDTr-9c-6sBWw</td>\n",
       "    </tr>\n",
       "    <tr>\n",
       "      <th>1</th>\n",
       "      <td>Tea and Tattle</td>\n",
       "      <td>-gCbrwbpIn3jTEsAbtIFBQ</td>\n",
       "    </tr>\n",
       "    <tr>\n",
       "      <th>2</th>\n",
       "      <td>Tea and Tattle</td>\n",
       "      <td>mm8jRhfVwF_HFMMcBl0O5Q</td>\n",
       "    </tr>\n",
       "  </tbody>\n",
       "</table>\n",
       "</div>"
      ],
      "text/plain": [
       "             name                 user_id\n",
       "0  Tea and Tattle  lcl2t97_tGDTr-9c-6sBWw\n",
       "1  Tea and Tattle  -gCbrwbpIn3jTEsAbtIFBQ\n",
       "2  Tea and Tattle  mm8jRhfVwF_HFMMcBl0O5Q"
      ]
     },
     "execution_count": 235,
     "metadata": {},
     "output_type": "execute_result"
    }
   ],
   "source": [
    "pd.DataFrame(biz_list) # And we have resolved the most basic case. \n",
    "#Warning to future Jim --- what if the user has more than 1 entry? Really we need to join on the unique review id!!"
   ]
  },
  {
   "cell_type": "markdown",
   "metadata": {},
   "source": [
    "## Can we automate this whole process?"
   ]
  },
  {
   "cell_type": "markdown",
   "metadata": {},
   "source": [
    "Submitting API requests manually for each set of business reviews is obviously not going to be practical for the case of creating a restaurant recommendation system. I need to be able to make multiple calls at once or at least automate the process so I can leave my computer to make the calls while I am asleep or having my breakfast. Let's review if this is possible: "
   ]
  },
  {
   "cell_type": "code",
   "execution_count": 250,
   "metadata": {},
   "outputs": [
    {
     "name": "stdout",
     "output_type": "stream",
     "text": [
      "Business Name: Tea and Tattle\n",
      "Business ID: 1TgYqfxkXv6-IB4cvuuy3w\n",
      "\n",
      "Business Name: Store Street Espresso\n",
      "Business ID: MXYj38qKszh9Z7YATzmrrA\n",
      "\n",
      "Business Name: Department of Coffee and Social Affairs\n",
      "Business ID: 7fnq7-pePPEM2WaZ4CLg0g\n",
      "\n"
     ]
    }
   ],
   "source": [
    "#Access the ids for each name. Id's are needed in review searches as described further up the page!\n",
    "for biz in business_data['businesses'][0:3]: #try it for the first three businesses as a proof of concept first! \n",
    "    print('Business Name: ' + biz['name'] + '\\nBusiness ID: ' + biz['id'] + '\\n')"
   ]
  },
  {
   "cell_type": "markdown",
   "metadata": {},
   "source": [
    "For a review call we know we need a business_id, review_endpoint, response/requests and then convert response to a dict. What we need to do is pass the request a range of endpoints based on the business ids we want to see reviews for. "
   ]
  },
  {
   "cell_type": "markdown",
   "metadata": {},
   "source": [
    "business_id = ''\n",
    "\n",
    "review_endpoint = 'https://api.yelp.com/v3/businesses/{}/reviews'.format(business_id)\n",
    "\n",
    "review_response = requests.get(url=review_endpoint, params=review_params, headers=headers)\n",
    "\n",
    "review = review_response.json()"
   ]
  },
  {
   "cell_type": "code",
   "execution_count": 251,
   "metadata": {},
   "outputs": [],
   "source": [
    "#We need to store the ids to pass to the request call in list so we can access them one by one!\n",
    "ids = []\n",
    "for biz in business_data['businesses'][0:3]:\n",
    "    ids.append(biz['id'])"
   ]
  },
  {
   "cell_type": "code",
   "execution_count": 252,
   "metadata": {},
   "outputs": [
    {
     "data": {
      "text/plain": [
       "['1TgYqfxkXv6-IB4cvuuy3w', 'MXYj38qKszh9Z7YATzmrrA', '7fnq7-pePPEM2WaZ4CLg0g']"
      ]
     },
     "execution_count": 252,
     "metadata": {},
     "output_type": "execute_result"
    }
   ],
   "source": [
    "ids"
   ]
  },
  {
   "cell_type": "code",
   "execution_count": 275,
   "metadata": {},
   "outputs": [
    {
     "name": "stdout",
     "output_type": "stream",
     "text": [
      "{'possible_languages': ['nb', 'en'],\n",
      " 'reviews': [{'id': 'Vdanb90si5H2_l9dlDWcFw',\n",
      "              'rating': 5,\n",
      "              'text': 'This tea place was an amazing find! I will definitely '\n",
      "                      'come back just for the scones, with the raspberry and '\n",
      "                      'vanilla filling--it was divine! My husband and I...',\n",
      "              'time_created': '2019-12-07 13:52:23',\n",
      "              'url': 'https://www.yelp.com/biz/tea-and-tattle-london?adjust_creative=_lnoYL1ikJ5ht_qCim0q7A&hrid=Vdanb90si5H2_l9dlDWcFw&utm_campaign=yelp_api_v3&utm_medium=api_v3_business_reviews&utm_source=_lnoYL1ikJ5ht_qCim0q7A',\n",
      "              'user': {'id': 'lcl2t97_tGDTr-9c-6sBWw',\n",
      "                       'image_url': 'https://s3-media2.fl.yelpcdn.com/photo/PB9ixjT-vIbAMLkWfkbz2Q/o.jpg',\n",
      "                       'name': 'Ting Ting C.',\n",
      "                       'profile_url': 'https://www.yelp.com/user_details?userid=lcl2t97_tGDTr-9c-6sBWw'}},\n",
      "             {'id': 'DDPuyHH0Nm4fUXXeOsLG0A',\n",
      "              'rating': 4,\n",
      "              'text': 'We loved that this place was right next to the British '\n",
      "                      'Museum.  It was the perfect place to stop and rest '\n",
      "                      'after wandering the British Museum for hours.  It...',\n",
      "              'time_created': '2019-11-05 12:36:39',\n",
      "              'url': 'https://www.yelp.com/biz/tea-and-tattle-london?adjust_creative=_lnoYL1ikJ5ht_qCim0q7A&hrid=DDPuyHH0Nm4fUXXeOsLG0A&utm_campaign=yelp_api_v3&utm_medium=api_v3_business_reviews&utm_source=_lnoYL1ikJ5ht_qCim0q7A',\n",
      "              'user': {'id': '-gCbrwbpIn3jTEsAbtIFBQ',\n",
      "                       'image_url': 'https://s3-media1.fl.yelpcdn.com/photo/f6Cu2S9tfFVBr2wsxCESew/o.jpg',\n",
      "                       'name': 'Grace W.',\n",
      "                       'profile_url': 'https://www.yelp.com/user_details?userid=-gCbrwbpIn3jTEsAbtIFBQ'}},\n",
      "             {'id': 'TZIt9J2q6_6lMIVLl8yy3w',\n",
      "              'rating': 4,\n",
      "              'text': \"When you're in London, you MUST have afternoon tea! \"\n",
      "                      'Before heading to the London Museum, I highly recommend '\n",
      "                      'coming here for afternoon tea. While...',\n",
      "              'time_created': '2019-10-30 07:01:58',\n",
      "              'url': 'https://www.yelp.com/biz/tea-and-tattle-london?adjust_creative=_lnoYL1ikJ5ht_qCim0q7A&hrid=TZIt9J2q6_6lMIVLl8yy3w&utm_campaign=yelp_api_v3&utm_medium=api_v3_business_reviews&utm_source=_lnoYL1ikJ5ht_qCim0q7A',\n",
      "              'user': {'id': 'mm8jRhfVwF_HFMMcBl0O5Q',\n",
      "                       'image_url': 'https://s3-media2.fl.yelpcdn.com/photo/H2G3Mis-SIlOzKrUtvR1Fw/o.jpg',\n",
      "                       'name': 'Shirls S.',\n",
      "                       'profile_url': 'https://www.yelp.com/user_details?userid=mm8jRhfVwF_HFMMcBl0O5Q'}}],\n",
      " 'total': 79}\n",
      "{'possible_languages': ['en'],\n",
      " 'reviews': [{'id': 'qNg1IGm3P39MYhg7twCe9g',\n",
      "              'rating': 5,\n",
      "              'text': 'This is a really cool and chic Barista coffee house in '\n",
      "                      'central London, really near UCL and Euston station. The '\n",
      "                      'coffee here is high quality, good tasting and...',\n",
      "              'time_created': '2018-06-09 12:46:57',\n",
      "              'url': 'https://www.yelp.com/biz/store-street-espresso-london?adjust_creative=_lnoYL1ikJ5ht_qCim0q7A&hrid=qNg1IGm3P39MYhg7twCe9g&utm_campaign=yelp_api_v3&utm_medium=api_v3_business_reviews&utm_source=_lnoYL1ikJ5ht_qCim0q7A',\n",
      "              'user': {'id': 'Mj-6j2fYYzI4-lcPrIpJJQ',\n",
      "                       'image_url': 'https://s3-media3.fl.yelpcdn.com/photo/VNfK-1KKrOzhPDMlN1Sr-A/o.jpg',\n",
      "                       'name': 'Lava Y.',\n",
      "                       'profile_url': 'https://www.yelp.com/user_details?userid=Mj-6j2fYYzI4-lcPrIpJJQ'}},\n",
      "             {'id': 'EIl5OO7Eq6uXH_zeMFG6NA',\n",
      "              'rating': 4,\n",
      "              'text': 'A quaint cafe near my old uni UCL that makes me wonder '\n",
      "                      \"why didn't we have such nice cafes near school back \"\n",
      "                      'then!\\n'\n",
      "                      '\\n'\n",
      "                      \"It's quite crowded during rush hours but...\",\n",
      "              'time_created': '2017-10-05 18:41:46',\n",
      "              'url': 'https://www.yelp.com/biz/store-street-espresso-london?adjust_creative=_lnoYL1ikJ5ht_qCim0q7A&hrid=EIl5OO7Eq6uXH_zeMFG6NA&utm_campaign=yelp_api_v3&utm_medium=api_v3_business_reviews&utm_source=_lnoYL1ikJ5ht_qCim0q7A',\n",
      "              'user': {'id': 'Ht4lUtwBASNv24eCN6FMEA',\n",
      "                       'image_url': 'https://s3-media2.fl.yelpcdn.com/photo/ZEzvrPNB_E30x5LryoINkg/o.jpg',\n",
      "                       'name': 'Veronika L.',\n",
      "                       'profile_url': 'https://www.yelp.com/user_details?userid=Ht4lUtwBASNv24eCN6FMEA'}},\n",
      "             {'id': 'nzxuvT5gvBt_vBJgNZyBNQ',\n",
      "              'rating': 4,\n",
      "              'text': 'Matcha Latte. Delicious! This is a super cute spot, and '\n",
      "                      \"it's a great spot to get some coffee before going to \"\n",
      "                      'the National Gallery which is only a few...',\n",
      "              'time_created': '2017-05-15 12:15:42',\n",
      "              'url': 'https://www.yelp.com/biz/store-street-espresso-london?adjust_creative=_lnoYL1ikJ5ht_qCim0q7A&hrid=nzxuvT5gvBt_vBJgNZyBNQ&utm_campaign=yelp_api_v3&utm_medium=api_v3_business_reviews&utm_source=_lnoYL1ikJ5ht_qCim0q7A',\n",
      "              'user': {'id': 'JC99U5y-KAchZIjBhf_DiQ',\n",
      "                       'image_url': 'https://s3-media1.fl.yelpcdn.com/photo/Oj1DZtmLLA_DA-4bj7ahgQ/o.jpg',\n",
      "                       'name': 'Vanessa K.',\n",
      "                       'profile_url': 'https://www.yelp.com/user_details?userid=JC99U5y-KAchZIjBhf_DiQ'}}],\n",
      " 'total': 62}\n",
      "{'possible_languages': ['de', 'en'],\n",
      " 'reviews': [{'id': 'wQX3_q_lDP-c9Ui7ok_UnA',\n",
      "              'rating': 5,\n",
      "              'text': 'Great coffee- beautifully roasted and made. \\n'\n",
      "                      '\\n'\n",
      "                      'The fudge cake looked delish, and one of our little '\n",
      "                      \"group confirmed that too so I'll have to go back and \"\n",
      "                      'try...',\n",
      "              'time_created': '2016-08-04 08:03:39',\n",
      "              'url': 'https://www.yelp.com/biz/department-of-coffee-and-social-affairs-london?adjust_creative=_lnoYL1ikJ5ht_qCim0q7A&hrid=wQX3_q_lDP-c9Ui7ok_UnA&utm_campaign=yelp_api_v3&utm_medium=api_v3_business_reviews&utm_source=_lnoYL1ikJ5ht_qCim0q7A',\n",
      "              'user': {'id': '36uUEnzBM52pjB7hDlPSmA',\n",
      "                       'image_url': 'https://s3-media1.fl.yelpcdn.com/photo/GwzPvg1KqLsNOYJ0Etohqw/o.jpg',\n",
      "                       'name': 'Angelique M.',\n",
      "                       'profile_url': 'https://www.yelp.com/user_details?userid=36uUEnzBM52pjB7hDlPSmA'}},\n",
      "             {'id': 'T_AZVLmWqboqpKTqZhw4Yw',\n",
      "              'rating': 5,\n",
      "              'text': 'Super friendly service and great coffee.  Cute name and '\n",
      "                      'super chic/hipster interior.  I think this is the best '\n",
      "                      'decaf soy latte I had for the entire time I...',\n",
      "              'time_created': '2016-07-22 08:17:38',\n",
      "              'url': 'https://www.yelp.com/biz/department-of-coffee-and-social-affairs-london?adjust_creative=_lnoYL1ikJ5ht_qCim0q7A&hrid=T_AZVLmWqboqpKTqZhw4Yw&utm_campaign=yelp_api_v3&utm_medium=api_v3_business_reviews&utm_source=_lnoYL1ikJ5ht_qCim0q7A',\n",
      "              'user': {'id': 'RlXfOTtpgTfcisRmukrGbw',\n",
      "                       'image_url': 'https://s3-media2.fl.yelpcdn.com/photo/lwP_pgdHoqVpaXpeAdabpg/o.jpg',\n",
      "                       'name': 'Jenn C.',\n",
      "                       'profile_url': 'https://www.yelp.com/user_details?userid=RlXfOTtpgTfcisRmukrGbw'}},\n",
      "             {'id': 'cb-6FYxCnENYaRoSKaAT0w',\n",
      "              'rating': 5,\n",
      "              'text': 'Great coffee made passionately and tasty treats in a '\n",
      "                      'tiny stall off the Piccadilly Theatre. Come by and '\n",
      "                      'check it out. The wonderful smell of great roasted...',\n",
      "              'time_created': '2018-07-09 07:06:13',\n",
      "              'url': 'https://www.yelp.com/biz/department-of-coffee-and-social-affairs-london?adjust_creative=_lnoYL1ikJ5ht_qCim0q7A&hrid=cb-6FYxCnENYaRoSKaAT0w&utm_campaign=yelp_api_v3&utm_medium=api_v3_business_reviews&utm_source=_lnoYL1ikJ5ht_qCim0q7A',\n",
      "              'user': {'id': 'JD7L3z31GmOuVsRRPyqdFQ',\n",
      "                       'image_url': 'https://s3-media1.fl.yelpcdn.com/photo/fpq04202Hca__WThfvTXjw/o.jpg',\n",
      "                       'name': 'Brian R.',\n",
      "                       'profile_url': 'https://www.yelp.com/user_details?userid=JD7L3z31GmOuVsRRPyqdFQ'}}],\n",
      " 'total': 70}\n"
     ]
    }
   ],
   "source": [
    "for i in ids:\n",
    "    business_id = i\n",
    "    rev_endpoint = 'https://api.yelp.com/v3/businesses/{}/reviews'.format(business_id)\n",
    "    rev_response = requests.get(url=rev_endpoint, headers=headers)\n",
    "    rev = rev_response.json()\n",
    "    \n",
    "    pprint.pprint(rev)\n"
   ]
  },
  {
   "cell_type": "markdown",
   "metadata": {},
   "source": [
    "OK that worked ok as I count 9 reviews in that last return, which is what we'd expect from 3 businesses. This problem should ultimately lend itself to being written up in a function but for now I will continue to take it one element at a time. "
   ]
  },
  {
   "cell_type": "code",
   "execution_count": 267,
   "metadata": {},
   "outputs": [],
   "source": [
    "import time"
   ]
  },
  {
   "cell_type": "code",
   "execution_count": 291,
   "metadata": {},
   "outputs": [
    {
     "name": "stdout",
     "output_type": "stream",
     "text": [
      "{'reviews': [{'id': 'Vdanb90si5H2_l9dlDWcFw',\n",
      "              'rating': 5,\n",
      "              'text': 'This tea place was an amazing find! I will definitely '\n",
      "                      'come back just for the scones, with the raspberry and '\n",
      "                      'vanilla filling--it was divine! My husband and I...',\n",
      "              'time_created': '2019-12-07 13:52:23',\n",
      "              'url': 'https://www.yelp.com/biz/tea-and-tattle-london?adjust_creative=_lnoYL1ikJ5ht_qCim0q7A&hrid=Vdanb90si5H2_l9dlDWcFw&utm_campaign=yelp_api_v3&utm_medium=api_v3_business_reviews&utm_source=_lnoYL1ikJ5ht_qCim0q7A',\n",
      "              'user': {'id': 'lcl2t97_tGDTr-9c-6sBWw',\n",
      "                       'image_url': 'https://s3-media2.fl.yelpcdn.com/photo/PB9ixjT-vIbAMLkWfkbz2Q/o.jpg',\n",
      "                       'name': 'Ting Ting C.',\n",
      "                       'profile_url': 'https://www.yelp.com/user_details?userid=lcl2t97_tGDTr-9c-6sBWw'}},\n",
      "             {'id': 'DDPuyHH0Nm4fUXXeOsLG0A',\n",
      "              'rating': 4,\n",
      "              'text': 'We loved that this place was right next to the British '\n",
      "                      'Museum.  It was the perfect place to stop and rest '\n",
      "                      'after wandering the British Museum for hours.  It...',\n",
      "              'time_created': '2019-11-05 12:36:39',\n",
      "              'url': 'https://www.yelp.com/biz/tea-and-tattle-london?adjust_creative=_lnoYL1ikJ5ht_qCim0q7A&hrid=DDPuyHH0Nm4fUXXeOsLG0A&utm_campaign=yelp_api_v3&utm_medium=api_v3_business_reviews&utm_source=_lnoYL1ikJ5ht_qCim0q7A',\n",
      "              'user': {'id': '-gCbrwbpIn3jTEsAbtIFBQ',\n",
      "                       'image_url': 'https://s3-media1.fl.yelpcdn.com/photo/f6Cu2S9tfFVBr2wsxCESew/o.jpg',\n",
      "                       'name': 'Grace W.',\n",
      "                       'profile_url': 'https://www.yelp.com/user_details?userid=-gCbrwbpIn3jTEsAbtIFBQ'}},\n",
      "             {'id': 'TZIt9J2q6_6lMIVLl8yy3w',\n",
      "              'rating': 4,\n",
      "              'text': \"When you're in London, you MUST have afternoon tea! \"\n",
      "                      'Before heading to the London Museum, I highly recommend '\n",
      "                      'coming here for afternoon tea. While...',\n",
      "              'time_created': '2019-10-30 07:01:58',\n",
      "              'url': 'https://www.yelp.com/biz/tea-and-tattle-london?adjust_creative=_lnoYL1ikJ5ht_qCim0q7A&hrid=TZIt9J2q6_6lMIVLl8yy3w&utm_campaign=yelp_api_v3&utm_medium=api_v3_business_reviews&utm_source=_lnoYL1ikJ5ht_qCim0q7A',\n",
      "              'user': {'id': 'mm8jRhfVwF_HFMMcBl0O5Q',\n",
      "                       'image_url': 'https://s3-media2.fl.yelpcdn.com/photo/H2G3Mis-SIlOzKrUtvR1Fw/o.jpg',\n",
      "                       'name': 'Shirls S.',\n",
      "                       'profile_url': 'https://www.yelp.com/user_details?userid=mm8jRhfVwF_HFMMcBl0O5Q'}}]}\n",
      "{'reviews': [{'id': 'qNg1IGm3P39MYhg7twCe9g',\n",
      "              'rating': 5,\n",
      "              'text': 'This is a really cool and chic Barista coffee house in '\n",
      "                      'central London, really near UCL and Euston station. The '\n",
      "                      'coffee here is high quality, good tasting and...',\n",
      "              'time_created': '2018-06-09 12:46:57',\n",
      "              'url': 'https://www.yelp.com/biz/store-street-espresso-london?adjust_creative=_lnoYL1ikJ5ht_qCim0q7A&hrid=qNg1IGm3P39MYhg7twCe9g&utm_campaign=yelp_api_v3&utm_medium=api_v3_business_reviews&utm_source=_lnoYL1ikJ5ht_qCim0q7A',\n",
      "              'user': {'id': 'Mj-6j2fYYzI4-lcPrIpJJQ',\n",
      "                       'image_url': 'https://s3-media3.fl.yelpcdn.com/photo/VNfK-1KKrOzhPDMlN1Sr-A/o.jpg',\n",
      "                       'name': 'Lava Y.',\n",
      "                       'profile_url': 'https://www.yelp.com/user_details?userid=Mj-6j2fYYzI4-lcPrIpJJQ'}},\n",
      "             {'id': 'EIl5OO7Eq6uXH_zeMFG6NA',\n",
      "              'rating': 4,\n",
      "              'text': 'A quaint cafe near my old uni UCL that makes me wonder '\n",
      "                      \"why didn't we have such nice cafes near school back \"\n",
      "                      'then!\\n'\n",
      "                      '\\n'\n",
      "                      \"It's quite crowded during rush hours but...\",\n",
      "              'time_created': '2017-10-05 18:41:46',\n",
      "              'url': 'https://www.yelp.com/biz/store-street-espresso-london?adjust_creative=_lnoYL1ikJ5ht_qCim0q7A&hrid=EIl5OO7Eq6uXH_zeMFG6NA&utm_campaign=yelp_api_v3&utm_medium=api_v3_business_reviews&utm_source=_lnoYL1ikJ5ht_qCim0q7A',\n",
      "              'user': {'id': 'Ht4lUtwBASNv24eCN6FMEA',\n",
      "                       'image_url': 'https://s3-media2.fl.yelpcdn.com/photo/ZEzvrPNB_E30x5LryoINkg/o.jpg',\n",
      "                       'name': 'Veronika L.',\n",
      "                       'profile_url': 'https://www.yelp.com/user_details?userid=Ht4lUtwBASNv24eCN6FMEA'}},\n",
      "             {'id': 'nzxuvT5gvBt_vBJgNZyBNQ',\n",
      "              'rating': 4,\n",
      "              'text': 'Matcha Latte. Delicious! This is a super cute spot, and '\n",
      "                      \"it's a great spot to get some coffee before going to \"\n",
      "                      'the National Gallery which is only a few...',\n",
      "              'time_created': '2017-05-15 12:15:42',\n",
      "              'url': 'https://www.yelp.com/biz/store-street-espresso-london?adjust_creative=_lnoYL1ikJ5ht_qCim0q7A&hrid=nzxuvT5gvBt_vBJgNZyBNQ&utm_campaign=yelp_api_v3&utm_medium=api_v3_business_reviews&utm_source=_lnoYL1ikJ5ht_qCim0q7A',\n",
      "              'user': {'id': 'JC99U5y-KAchZIjBhf_DiQ',\n",
      "                       'image_url': 'https://s3-media1.fl.yelpcdn.com/photo/Oj1DZtmLLA_DA-4bj7ahgQ/o.jpg',\n",
      "                       'name': 'Vanessa K.',\n",
      "                       'profile_url': 'https://www.yelp.com/user_details?userid=JC99U5y-KAchZIjBhf_DiQ'}}]}\n",
      "{'reviews': [{'id': 'wQX3_q_lDP-c9Ui7ok_UnA',\n",
      "              'rating': 5,\n",
      "              'text': 'Great coffee- beautifully roasted and made. \\n'\n",
      "                      '\\n'\n",
      "                      'The fudge cake looked delish, and one of our little '\n",
      "                      \"group confirmed that too so I'll have to go back and \"\n",
      "                      'try...',\n",
      "              'time_created': '2016-08-04 08:03:39',\n",
      "              'url': 'https://www.yelp.com/biz/department-of-coffee-and-social-affairs-london?adjust_creative=_lnoYL1ikJ5ht_qCim0q7A&hrid=wQX3_q_lDP-c9Ui7ok_UnA&utm_campaign=yelp_api_v3&utm_medium=api_v3_business_reviews&utm_source=_lnoYL1ikJ5ht_qCim0q7A',\n",
      "              'user': {'id': '36uUEnzBM52pjB7hDlPSmA',\n",
      "                       'image_url': 'https://s3-media1.fl.yelpcdn.com/photo/GwzPvg1KqLsNOYJ0Etohqw/o.jpg',\n",
      "                       'name': 'Angelique M.',\n",
      "                       'profile_url': 'https://www.yelp.com/user_details?userid=36uUEnzBM52pjB7hDlPSmA'}},\n",
      "             {'id': 'T_AZVLmWqboqpKTqZhw4Yw',\n",
      "              'rating': 5,\n",
      "              'text': 'Super friendly service and great coffee.  Cute name and '\n",
      "                      'super chic/hipster interior.  I think this is the best '\n",
      "                      'decaf soy latte I had for the entire time I...',\n",
      "              'time_created': '2016-07-22 08:17:38',\n",
      "              'url': 'https://www.yelp.com/biz/department-of-coffee-and-social-affairs-london?adjust_creative=_lnoYL1ikJ5ht_qCim0q7A&hrid=T_AZVLmWqboqpKTqZhw4Yw&utm_campaign=yelp_api_v3&utm_medium=api_v3_business_reviews&utm_source=_lnoYL1ikJ5ht_qCim0q7A',\n",
      "              'user': {'id': 'RlXfOTtpgTfcisRmukrGbw',\n",
      "                       'image_url': 'https://s3-media2.fl.yelpcdn.com/photo/lwP_pgdHoqVpaXpeAdabpg/o.jpg',\n",
      "                       'name': 'Jenn C.',\n",
      "                       'profile_url': 'https://www.yelp.com/user_details?userid=RlXfOTtpgTfcisRmukrGbw'}},\n",
      "             {'id': 'cb-6FYxCnENYaRoSKaAT0w',\n",
      "              'rating': 5,\n",
      "              'text': 'Great coffee made passionately and tasty treats in a '\n",
      "                      'tiny stall off the Piccadilly Theatre. Come by and '\n",
      "                      'check it out. The wonderful smell of great roasted...',\n",
      "              'time_created': '2018-07-09 07:06:13',\n",
      "              'url': 'https://www.yelp.com/biz/department-of-coffee-and-social-affairs-london?adjust_creative=_lnoYL1ikJ5ht_qCim0q7A&hrid=cb-6FYxCnENYaRoSKaAT0w&utm_campaign=yelp_api_v3&utm_medium=api_v3_business_reviews&utm_source=_lnoYL1ikJ5ht_qCim0q7A',\n",
      "              'user': {'id': 'JD7L3z31GmOuVsRRPyqdFQ',\n",
      "                       'image_url': 'https://s3-media1.fl.yelpcdn.com/photo/fpq04202Hca__WThfvTXjw/o.jpg',\n",
      "                       'name': 'Brian R.',\n",
      "                       'profile_url': 'https://www.yelp.com/user_details?userid=JD7L3z31GmOuVsRRPyqdFQ'}}]}\n"
     ]
    }
   ],
   "source": [
    "#Let's see if we can rewrite the for loop and also create the new dataframe from it. \n",
    "for i in ids:\n",
    "    frames = []\n",
    "    business_id = i\n",
    "    rev_endpoint = 'https://api.yelp.com/v3/businesses/{}/reviews'.format(i)\n",
    "    rev_response = requests.get(url=rev_endpoint, headers=headers)\n",
    "    rev = rev_response.json()\n",
    "    \n",
    "    \n",
    "    #remove these nasty elements that will cause grief when converting to csv\n",
    "    del rev['total']\n",
    "    del rev['possible_languages']\n",
    "    \n",
    "    df_vars = [\"df%d\"%x for x in range(len(ids))]\n",
    "    \n",
    "    df = pd.DataFrame(rev)   \n",
    "    df = pd.json_normalize(df['reviews'])\n",
    "    \n",
    "   \n",
    "    #print(df.shape)\n",
    "\n",
    "    \n",
    "    #result = pd.concat(frames)\n",
    "    time.sleep(4)\n",
    "    \n",
    "    pprint.pprint(rev)\n",
    "# df2.head(8)\n",
    "# df2.head()"
   ]
  },
  {
   "cell_type": "code",
   "execution_count": 281,
   "metadata": {},
   "outputs": [
    {
     "data": {
      "text/html": [
       "<div>\n",
       "<style scoped>\n",
       "    .dataframe tbody tr th:only-of-type {\n",
       "        vertical-align: middle;\n",
       "    }\n",
       "\n",
       "    .dataframe tbody tr th {\n",
       "        vertical-align: top;\n",
       "    }\n",
       "\n",
       "    .dataframe thead th {\n",
       "        text-align: right;\n",
       "    }\n",
       "</style>\n",
       "<table border=\"1\" class=\"dataframe\">\n",
       "  <thead>\n",
       "    <tr style=\"text-align: right;\">\n",
       "      <th></th>\n",
       "      <th>id</th>\n",
       "      <th>url</th>\n",
       "      <th>text</th>\n",
       "      <th>rating</th>\n",
       "      <th>time_created</th>\n",
       "      <th>user.id</th>\n",
       "      <th>user.profile_url</th>\n",
       "      <th>user.image_url</th>\n",
       "      <th>user.name</th>\n",
       "    </tr>\n",
       "  </thead>\n",
       "  <tbody>\n",
       "    <tr>\n",
       "      <th>0</th>\n",
       "      <td>wQX3_q_lDP-c9Ui7ok_UnA</td>\n",
       "      <td>https://www.yelp.com/biz/department-of-coffee-...</td>\n",
       "      <td>Great coffee- beautifully roasted and made. \\n...</td>\n",
       "      <td>5</td>\n",
       "      <td>2016-08-04 08:03:39</td>\n",
       "      <td>36uUEnzBM52pjB7hDlPSmA</td>\n",
       "      <td>https://www.yelp.com/user_details?userid=36uUE...</td>\n",
       "      <td>https://s3-media1.fl.yelpcdn.com/photo/GwzPvg1...</td>\n",
       "      <td>Angelique M.</td>\n",
       "    </tr>\n",
       "    <tr>\n",
       "      <th>1</th>\n",
       "      <td>T_AZVLmWqboqpKTqZhw4Yw</td>\n",
       "      <td>https://www.yelp.com/biz/department-of-coffee-...</td>\n",
       "      <td>Super friendly service and great coffee.  Cute...</td>\n",
       "      <td>5</td>\n",
       "      <td>2016-07-22 08:17:38</td>\n",
       "      <td>RlXfOTtpgTfcisRmukrGbw</td>\n",
       "      <td>https://www.yelp.com/user_details?userid=RlXfO...</td>\n",
       "      <td>https://s3-media2.fl.yelpcdn.com/photo/lwP_pgd...</td>\n",
       "      <td>Jenn C.</td>\n",
       "    </tr>\n",
       "    <tr>\n",
       "      <th>2</th>\n",
       "      <td>cb-6FYxCnENYaRoSKaAT0w</td>\n",
       "      <td>https://www.yelp.com/biz/department-of-coffee-...</td>\n",
       "      <td>Great coffee made passionately and tasty treat...</td>\n",
       "      <td>5</td>\n",
       "      <td>2018-07-09 07:06:13</td>\n",
       "      <td>JD7L3z31GmOuVsRRPyqdFQ</td>\n",
       "      <td>https://www.yelp.com/user_details?userid=JD7L3...</td>\n",
       "      <td>https://s3-media1.fl.yelpcdn.com/photo/fpq0420...</td>\n",
       "      <td>Brian R.</td>\n",
       "    </tr>\n",
       "  </tbody>\n",
       "</table>\n",
       "</div>"
      ],
      "text/plain": [
       "                       id                                                url  \\\n",
       "0  wQX3_q_lDP-c9Ui7ok_UnA  https://www.yelp.com/biz/department-of-coffee-...   \n",
       "1  T_AZVLmWqboqpKTqZhw4Yw  https://www.yelp.com/biz/department-of-coffee-...   \n",
       "2  cb-6FYxCnENYaRoSKaAT0w  https://www.yelp.com/biz/department-of-coffee-...   \n",
       "\n",
       "                                                text  rating  \\\n",
       "0  Great coffee- beautifully roasted and made. \\n...       5   \n",
       "1  Super friendly service and great coffee.  Cute...       5   \n",
       "2  Great coffee made passionately and tasty treat...       5   \n",
       "\n",
       "          time_created                 user.id  \\\n",
       "0  2016-08-04 08:03:39  36uUEnzBM52pjB7hDlPSmA   \n",
       "1  2016-07-22 08:17:38  RlXfOTtpgTfcisRmukrGbw   \n",
       "2  2018-07-09 07:06:13  JD7L3z31GmOuVsRRPyqdFQ   \n",
       "\n",
       "                                    user.profile_url  \\\n",
       "0  https://www.yelp.com/user_details?userid=36uUE...   \n",
       "1  https://www.yelp.com/user_details?userid=RlXfO...   \n",
       "2  https://www.yelp.com/user_details?userid=JD7L3...   \n",
       "\n",
       "                                      user.image_url     user.name  \n",
       "0  https://s3-media1.fl.yelpcdn.com/photo/GwzPvg1...  Angelique M.  \n",
       "1  https://s3-media2.fl.yelpcdn.com/photo/lwP_pgd...       Jenn C.  \n",
       "2  https://s3-media1.fl.yelpcdn.com/photo/fpq0420...      Brian R.  "
      ]
     },
     "execution_count": 281,
     "metadata": {},
     "output_type": "execute_result"
    }
   ],
   "source": [
    "df.head(8) # this makes sense that it is the third place on the list as the for loop finished at index=3"
   ]
  },
  {
   "cell_type": "code",
   "execution_count": 287,
   "metadata": {},
   "outputs": [
    {
     "data": {
      "text/html": [
       "<div>\n",
       "<style scoped>\n",
       "    .dataframe tbody tr th:only-of-type {\n",
       "        vertical-align: middle;\n",
       "    }\n",
       "\n",
       "    .dataframe tbody tr th {\n",
       "        vertical-align: top;\n",
       "    }\n",
       "\n",
       "    .dataframe thead th {\n",
       "        text-align: right;\n",
       "    }\n",
       "</style>\n",
       "<table border=\"1\" class=\"dataframe\">\n",
       "  <thead>\n",
       "    <tr style=\"text-align: right;\">\n",
       "      <th></th>\n",
       "      <th>id</th>\n",
       "      <th>url</th>\n",
       "      <th>text</th>\n",
       "      <th>rating</th>\n",
       "      <th>time_created</th>\n",
       "      <th>user.id</th>\n",
       "      <th>user.profile_url</th>\n",
       "      <th>user.image_url</th>\n",
       "      <th>user.name</th>\n",
       "    </tr>\n",
       "  </thead>\n",
       "  <tbody>\n",
       "    <tr>\n",
       "      <th>0</th>\n",
       "      <td>wQX3_q_lDP-c9Ui7ok_UnA</td>\n",
       "      <td>https://www.yelp.com/biz/department-of-coffee-...</td>\n",
       "      <td>Great coffee- beautifully roasted and made. \\n...</td>\n",
       "      <td>5</td>\n",
       "      <td>2016-08-04 08:03:39</td>\n",
       "      <td>36uUEnzBM52pjB7hDlPSmA</td>\n",
       "      <td>https://www.yelp.com/user_details?userid=36uUE...</td>\n",
       "      <td>https://s3-media1.fl.yelpcdn.com/photo/GwzPvg1...</td>\n",
       "      <td>Angelique M.</td>\n",
       "    </tr>\n",
       "    <tr>\n",
       "      <th>1</th>\n",
       "      <td>T_AZVLmWqboqpKTqZhw4Yw</td>\n",
       "      <td>https://www.yelp.com/biz/department-of-coffee-...</td>\n",
       "      <td>Super friendly service and great coffee.  Cute...</td>\n",
       "      <td>5</td>\n",
       "      <td>2016-07-22 08:17:38</td>\n",
       "      <td>RlXfOTtpgTfcisRmukrGbw</td>\n",
       "      <td>https://www.yelp.com/user_details?userid=RlXfO...</td>\n",
       "      <td>https://s3-media2.fl.yelpcdn.com/photo/lwP_pgd...</td>\n",
       "      <td>Jenn C.</td>\n",
       "    </tr>\n",
       "    <tr>\n",
       "      <th>2</th>\n",
       "      <td>cb-6FYxCnENYaRoSKaAT0w</td>\n",
       "      <td>https://www.yelp.com/biz/department-of-coffee-...</td>\n",
       "      <td>Great coffee made passionately and tasty treat...</td>\n",
       "      <td>5</td>\n",
       "      <td>2018-07-09 07:06:13</td>\n",
       "      <td>JD7L3z31GmOuVsRRPyqdFQ</td>\n",
       "      <td>https://www.yelp.com/user_details?userid=JD7L3...</td>\n",
       "      <td>https://s3-media1.fl.yelpcdn.com/photo/fpq0420...</td>\n",
       "      <td>Brian R.</td>\n",
       "    </tr>\n",
       "  </tbody>\n",
       "</table>\n",
       "</div>"
      ],
      "text/plain": [
       "                       id                                                url  \\\n",
       "0  wQX3_q_lDP-c9Ui7ok_UnA  https://www.yelp.com/biz/department-of-coffee-...   \n",
       "1  T_AZVLmWqboqpKTqZhw4Yw  https://www.yelp.com/biz/department-of-coffee-...   \n",
       "2  cb-6FYxCnENYaRoSKaAT0w  https://www.yelp.com/biz/department-of-coffee-...   \n",
       "\n",
       "                                                text  rating  \\\n",
       "0  Great coffee- beautifully roasted and made. \\n...       5   \n",
       "1  Super friendly service and great coffee.  Cute...       5   \n",
       "2  Great coffee made passionately and tasty treat...       5   \n",
       "\n",
       "          time_created                 user.id  \\\n",
       "0  2016-08-04 08:03:39  36uUEnzBM52pjB7hDlPSmA   \n",
       "1  2016-07-22 08:17:38  RlXfOTtpgTfcisRmukrGbw   \n",
       "2  2018-07-09 07:06:13  JD7L3z31GmOuVsRRPyqdFQ   \n",
       "\n",
       "                                    user.profile_url  \\\n",
       "0  https://www.yelp.com/user_details?userid=36uUE...   \n",
       "1  https://www.yelp.com/user_details?userid=RlXfO...   \n",
       "2  https://www.yelp.com/user_details?userid=JD7L3...   \n",
       "\n",
       "                                      user.image_url     user.name  \n",
       "0  https://s3-media1.fl.yelpcdn.com/photo/GwzPvg1...  Angelique M.  \n",
       "1  https://s3-media2.fl.yelpcdn.com/photo/lwP_pgd...       Jenn C.  \n",
       "2  https://s3-media1.fl.yelpcdn.com/photo/fpq0420...      Brian R.  "
      ]
     },
     "execution_count": 287,
     "metadata": {},
     "output_type": "execute_result"
    }
   ],
   "source": [
    "result"
   ]
  },
  {
   "cell_type": "code",
   "execution_count": 293,
   "metadata": {},
   "outputs": [
    {
     "data": {
      "text/plain": [
       "'df2'"
      ]
     },
     "execution_count": 293,
     "metadata": {},
     "output_type": "execute_result"
    }
   ],
   "source": [
    "df_vars = [\"df%d\"%x for x in range(len(ids))]\n",
    "\n",
    "df_vars[2]"
   ]
  },
  {
   "cell_type": "code",
   "execution_count": null,
   "metadata": {},
   "outputs": [],
   "source": []
  }
 ],
 "metadata": {
  "kernelspec": {
   "display_name": "learn-env",
   "language": "python",
   "name": "learn-env"
  },
  "language_info": {
   "codemirror_mode": {
    "name": "ipython",
    "version": 3
   },
   "file_extension": ".py",
   "mimetype": "text/x-python",
   "name": "python",
   "nbconvert_exporter": "python",
   "pygments_lexer": "ipython3",
   "version": "3.6.6"
  }
 },
 "nbformat": 4,
 "nbformat_minor": 2
}
